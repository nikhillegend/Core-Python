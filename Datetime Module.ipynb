{
 "cells": [
  {
   "cell_type": "code",
   "execution_count": 1,
   "id": "dd0ce721",
   "metadata": {
    "ExecuteTime": {
     "end_time": "2023-12-22T01:54:06.725098Z",
     "start_time": "2023-12-22T01:54:06.712104Z"
    }
   },
   "outputs": [],
   "source": [
    "import datetime"
   ]
  },
  {
   "cell_type": "code",
   "execution_count": 2,
   "id": "6c70c506",
   "metadata": {
    "ExecuteTime": {
     "end_time": "2023-12-22T01:54:44.277613Z",
     "start_time": "2023-12-22T01:54:44.268718Z"
    }
   },
   "outputs": [],
   "source": [
    "mytime = datetime.time(2,20)"
   ]
  },
  {
   "cell_type": "code",
   "execution_count": 3,
   "id": "62df9cd4",
   "metadata": {
    "ExecuteTime": {
     "end_time": "2023-12-22T01:55:01.335771Z",
     "start_time": "2023-12-22T01:55:01.306021Z"
    }
   },
   "outputs": [
    {
     "data": {
      "text/plain": [
       "20"
      ]
     },
     "execution_count": 3,
     "metadata": {},
     "output_type": "execute_result"
    }
   ],
   "source": [
    "mytime.minute"
   ]
  },
  {
   "cell_type": "code",
   "execution_count": 4,
   "id": "935a53df",
   "metadata": {
    "ExecuteTime": {
     "end_time": "2023-12-22T01:55:06.762946Z",
     "start_time": "2023-12-22T01:55:06.756760Z"
    }
   },
   "outputs": [
    {
     "data": {
      "text/plain": [
       "2"
      ]
     },
     "execution_count": 4,
     "metadata": {},
     "output_type": "execute_result"
    }
   ],
   "source": [
    "mytime.hour"
   ]
  },
  {
   "cell_type": "code",
   "execution_count": 5,
   "id": "318d38b9",
   "metadata": {
    "ExecuteTime": {
     "end_time": "2023-12-22T01:55:10.412862Z",
     "start_time": "2023-12-22T01:55:10.394012Z"
    }
   },
   "outputs": [
    {
     "data": {
      "text/plain": [
       "datetime.time(2, 20)"
      ]
     },
     "execution_count": 5,
     "metadata": {},
     "output_type": "execute_result"
    }
   ],
   "source": [
    "mytime"
   ]
  },
  {
   "cell_type": "code",
   "execution_count": 6,
   "id": "a40dc4b0",
   "metadata": {
    "ExecuteTime": {
     "end_time": "2023-12-22T01:55:23.621806Z",
     "start_time": "2023-12-22T01:55:23.609085Z"
    }
   },
   "outputs": [
    {
     "name": "stdout",
     "output_type": "stream",
     "text": [
      "02:20:00\n"
     ]
    }
   ],
   "source": [
    "print(mytime)"
   ]
  },
  {
   "cell_type": "code",
   "execution_count": 7,
   "id": "2bd6c114",
   "metadata": {
    "ExecuteTime": {
     "end_time": "2023-12-22T01:55:54.546383Z",
     "start_time": "2023-12-22T01:55:54.538190Z"
    }
   },
   "outputs": [
    {
     "data": {
      "text/plain": [
       "0"
      ]
     },
     "execution_count": 7,
     "metadata": {},
     "output_type": "execute_result"
    }
   ],
   "source": [
    "mytime.microsecond"
   ]
  },
  {
   "cell_type": "code",
   "execution_count": 9,
   "id": "8414e882",
   "metadata": {
    "ExecuteTime": {
     "end_time": "2023-12-22T01:56:54.047106Z",
     "start_time": "2023-12-22T01:56:54.038776Z"
    }
   },
   "outputs": [],
   "source": [
    "time = datetime.time(13,30,5,32)"
   ]
  },
  {
   "cell_type": "code",
   "execution_count": 10,
   "id": "d03b6792",
   "metadata": {
    "ExecuteTime": {
     "end_time": "2023-12-22T01:57:02.622330Z",
     "start_time": "2023-12-22T01:57:02.605151Z"
    }
   },
   "outputs": [
    {
     "data": {
      "text/plain": [
       "30"
      ]
     },
     "execution_count": 10,
     "metadata": {},
     "output_type": "execute_result"
    }
   ],
   "source": [
    "time.minute"
   ]
  },
  {
   "cell_type": "code",
   "execution_count": 11,
   "id": "0a71bfe9",
   "metadata": {
    "ExecuteTime": {
     "end_time": "2023-12-22T01:57:09.992416Z",
     "start_time": "2023-12-22T01:57:09.976640Z"
    }
   },
   "outputs": [
    {
     "data": {
      "text/plain": [
       "13"
      ]
     },
     "execution_count": 11,
     "metadata": {},
     "output_type": "execute_result"
    }
   ],
   "source": [
    "time.hour"
   ]
  },
  {
   "cell_type": "code",
   "execution_count": 12,
   "id": "851f2cf0",
   "metadata": {
    "ExecuteTime": {
     "end_time": "2023-12-22T01:57:14.800883Z",
     "start_time": "2023-12-22T01:57:14.789828Z"
    }
   },
   "outputs": [
    {
     "data": {
      "text/plain": [
       "5"
      ]
     },
     "execution_count": 12,
     "metadata": {},
     "output_type": "execute_result"
    }
   ],
   "source": [
    "time.second"
   ]
  },
  {
   "cell_type": "code",
   "execution_count": 13,
   "id": "09e5337e",
   "metadata": {
    "ExecuteTime": {
     "end_time": "2023-12-22T01:57:21.753478Z",
     "start_time": "2023-12-22T01:57:21.742979Z"
    }
   },
   "outputs": [
    {
     "data": {
      "text/plain": [
       "32"
      ]
     },
     "execution_count": 13,
     "metadata": {},
     "output_type": "execute_result"
    }
   ],
   "source": [
    "time.microsecond"
   ]
  },
  {
   "cell_type": "code",
   "execution_count": 14,
   "id": "72501c48",
   "metadata": {
    "ExecuteTime": {
     "end_time": "2023-12-22T01:57:30.852587Z",
     "start_time": "2023-12-22T01:57:30.838021Z"
    }
   },
   "outputs": [
    {
     "name": "stdout",
     "output_type": "stream",
     "text": [
      "13:30:05.000032\n"
     ]
    }
   ],
   "source": [
    "print(time)"
   ]
  },
  {
   "cell_type": "code",
   "execution_count": 15,
   "id": "ed5451d9",
   "metadata": {
    "ExecuteTime": {
     "end_time": "2023-12-22T01:58:57.256798Z",
     "start_time": "2023-12-22T01:58:57.249886Z"
    }
   },
   "outputs": [],
   "source": [
    "today = datetime.date.today()"
   ]
  },
  {
   "cell_type": "code",
   "execution_count": 16,
   "id": "dbc06934",
   "metadata": {
    "ExecuteTime": {
     "end_time": "2023-12-22T01:59:05.283018Z",
     "start_time": "2023-12-22T01:59:05.264547Z"
    }
   },
   "outputs": [
    {
     "name": "stdout",
     "output_type": "stream",
     "text": [
      "2023-12-22\n"
     ]
    }
   ],
   "source": [
    "print(today)"
   ]
  },
  {
   "cell_type": "code",
   "execution_count": 18,
   "id": "233895dc",
   "metadata": {
    "ExecuteTime": {
     "end_time": "2023-12-22T01:59:23.150589Z",
     "start_time": "2023-12-22T01:59:23.135394Z"
    }
   },
   "outputs": [
    {
     "data": {
      "text/plain": [
       "2023"
      ]
     },
     "execution_count": 18,
     "metadata": {},
     "output_type": "execute_result"
    }
   ],
   "source": [
    "today.year"
   ]
  },
  {
   "cell_type": "code",
   "execution_count": 19,
   "id": "2e202f29",
   "metadata": {
    "ExecuteTime": {
     "end_time": "2023-12-22T01:59:29.969210Z",
     "start_time": "2023-12-22T01:59:29.953110Z"
    }
   },
   "outputs": [
    {
     "data": {
      "text/plain": [
       "12"
      ]
     },
     "execution_count": 19,
     "metadata": {},
     "output_type": "execute_result"
    }
   ],
   "source": [
    "today.month"
   ]
  },
  {
   "cell_type": "code",
   "execution_count": 20,
   "id": "f99659f9",
   "metadata": {
    "ExecuteTime": {
     "end_time": "2023-12-22T01:59:39.712549Z",
     "start_time": "2023-12-22T01:59:39.701101Z"
    }
   },
   "outputs": [
    {
     "data": {
      "text/plain": [
       "22"
      ]
     },
     "execution_count": 20,
     "metadata": {},
     "output_type": "execute_result"
    }
   ],
   "source": [
    "today.day"
   ]
  },
  {
   "cell_type": "code",
   "execution_count": 22,
   "id": "da7721c4",
   "metadata": {
    "ExecuteTime": {
     "end_time": "2023-12-22T01:59:50.308604Z",
     "start_time": "2023-12-22T01:59:50.300913Z"
    }
   },
   "outputs": [
    {
     "data": {
      "text/plain": [
       "'Fri Dec 22 00:00:00 2023'"
      ]
     },
     "execution_count": 22,
     "metadata": {},
     "output_type": "execute_result"
    }
   ],
   "source": [
    "today.ctime()"
   ]
  },
  {
   "cell_type": "code",
   "execution_count": 23,
   "id": "87050083",
   "metadata": {
    "ExecuteTime": {
     "end_time": "2023-12-22T02:00:08.514358Z",
     "start_time": "2023-12-22T02:00:08.498432Z"
    }
   },
   "outputs": [],
   "source": [
    "from datetime import datetime"
   ]
  },
  {
   "cell_type": "code",
   "execution_count": 25,
   "id": "5afbaa04",
   "metadata": {
    "ExecuteTime": {
     "end_time": "2023-12-22T02:00:51.317545Z",
     "start_time": "2023-12-22T02:00:51.304971Z"
    }
   },
   "outputs": [],
   "source": [
    "mydatetime = datetime(2021,10,3,14,20,1)"
   ]
  },
  {
   "cell_type": "code",
   "execution_count": 26,
   "id": "a5c5d883",
   "metadata": {
    "ExecuteTime": {
     "end_time": "2023-12-22T02:00:59.818617Z",
     "start_time": "2023-12-22T02:00:59.808693Z"
    }
   },
   "outputs": [
    {
     "name": "stdout",
     "output_type": "stream",
     "text": [
      "2021-10-03 14:20:01\n"
     ]
    }
   ],
   "source": [
    "print(mydatetime)"
   ]
  },
  {
   "cell_type": "code",
   "execution_count": 28,
   "id": "e3326009",
   "metadata": {
    "ExecuteTime": {
     "end_time": "2023-12-22T02:01:40.127754Z",
     "start_time": "2023-12-22T02:01:40.107851Z"
    }
   },
   "outputs": [],
   "source": [
    "update = mydatetime.replace(year=2023)"
   ]
  },
  {
   "cell_type": "code",
   "execution_count": 29,
   "id": "0679acb8",
   "metadata": {
    "ExecuteTime": {
     "end_time": "2023-12-22T02:01:43.519486Z",
     "start_time": "2023-12-22T02:01:43.497873Z"
    }
   },
   "outputs": [
    {
     "data": {
      "text/plain": [
       "datetime.datetime(2023, 10, 3, 14, 20, 1)"
      ]
     },
     "execution_count": 29,
     "metadata": {},
     "output_type": "execute_result"
    }
   ],
   "source": [
    "update"
   ]
  },
  {
   "cell_type": "code",
   "execution_count": 30,
   "id": "24f90bf5",
   "metadata": {
    "ExecuteTime": {
     "end_time": "2023-12-22T02:01:52.674196Z",
     "start_time": "2023-12-22T02:01:52.663282Z"
    }
   },
   "outputs": [
    {
     "name": "stdout",
     "output_type": "stream",
     "text": [
      "2023-10-03 14:20:01\n"
     ]
    }
   ],
   "source": [
    "print(update)"
   ]
  },
  {
   "cell_type": "code",
   "execution_count": 31,
   "id": "746d9e72",
   "metadata": {
    "ExecuteTime": {
     "end_time": "2023-12-22T02:02:46.389231Z",
     "start_time": "2023-12-22T02:02:46.377592Z"
    }
   },
   "outputs": [],
   "source": [
    "#Date \n",
    "from datetime import date"
   ]
  },
  {
   "cell_type": "code",
   "execution_count": 32,
   "id": "4cee5b67",
   "metadata": {
    "ExecuteTime": {
     "end_time": "2023-12-22T02:03:34.715199Z",
     "start_time": "2023-12-22T02:03:34.704657Z"
    }
   },
   "outputs": [],
   "source": [
    "date1 = date(2023,11,23)\n",
    "date2 = date(2022,10,5)"
   ]
  },
  {
   "cell_type": "code",
   "execution_count": 33,
   "id": "d5634b8e",
   "metadata": {
    "ExecuteTime": {
     "end_time": "2023-12-22T02:03:55.978876Z",
     "start_time": "2023-12-22T02:03:55.956188Z"
    }
   },
   "outputs": [],
   "source": [
    "result = date1 - date2"
   ]
  },
  {
   "cell_type": "code",
   "execution_count": 34,
   "id": "5b713e7b",
   "metadata": {
    "ExecuteTime": {
     "end_time": "2023-12-22T02:03:58.492065Z",
     "start_time": "2023-12-22T02:03:58.479460Z"
    }
   },
   "outputs": [
    {
     "data": {
      "text/plain": [
       "datetime.timedelta(days=414)"
      ]
     },
     "execution_count": 34,
     "metadata": {},
     "output_type": "execute_result"
    }
   ],
   "source": [
    "result"
   ]
  },
  {
   "cell_type": "code",
   "execution_count": 35,
   "id": "176c48bb",
   "metadata": {
    "ExecuteTime": {
     "end_time": "2023-12-22T02:04:06.516436Z",
     "start_time": "2023-12-22T02:04:06.501816Z"
    }
   },
   "outputs": [
    {
     "name": "stdout",
     "output_type": "stream",
     "text": [
      "414 days, 0:00:00\n"
     ]
    }
   ],
   "source": [
    "print(result)"
   ]
  },
  {
   "cell_type": "code",
   "execution_count": null,
   "id": "7c31a810",
   "metadata": {},
   "outputs": [],
   "source": []
  }
 ],
 "metadata": {
  "kernelspec": {
   "display_name": "Python 3 (ipykernel)",
   "language": "python",
   "name": "python3"
  },
  "language_info": {
   "codemirror_mode": {
    "name": "ipython",
    "version": 3
   },
   "file_extension": ".py",
   "mimetype": "text/x-python",
   "name": "python",
   "nbconvert_exporter": "python",
   "pygments_lexer": "ipython3",
   "version": "3.9.7"
  },
  "varInspector": {
   "cols": {
    "lenName": 16,
    "lenType": 16,
    "lenVar": 40
   },
   "kernels_config": {
    "python": {
     "delete_cmd_postfix": "",
     "delete_cmd_prefix": "del ",
     "library": "var_list.py",
     "varRefreshCmd": "print(var_dic_list())"
    },
    "r": {
     "delete_cmd_postfix": ") ",
     "delete_cmd_prefix": "rm(",
     "library": "var_list.r",
     "varRefreshCmd": "cat(var_dic_list()) "
    }
   },
   "types_to_exclude": [
    "module",
    "function",
    "builtin_function_or_method",
    "instance",
    "_Feature"
   ],
   "window_display": false
  }
 },
 "nbformat": 4,
 "nbformat_minor": 5
}
