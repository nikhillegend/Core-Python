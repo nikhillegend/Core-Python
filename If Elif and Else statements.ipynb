{
 "cells": [
  {
   "cell_type": "code",
   "execution_count": 1,
   "id": "5536eb30",
   "metadata": {
    "ExecuteTime": {
     "end_time": "2023-11-29T05:39:19.028876Z",
     "start_time": "2023-11-29T05:39:19.017065Z"
    }
   },
   "outputs": [
    {
     "name": "stdout",
     "output_type": "stream",
     "text": [
      "It's True! \n"
     ]
    }
   ],
   "source": [
    "if True:\n",
    "    print(\"It's True! \")"
   ]
  },
  {
   "cell_type": "code",
   "execution_count": 2,
   "id": "1cf79ec1",
   "metadata": {
    "ExecuteTime": {
     "end_time": "2023-11-29T05:41:18.037597Z",
     "start_time": "2023-11-29T05:41:18.025767Z"
    }
   },
   "outputs": [
    {
     "name": "stdout",
     "output_type": "stream",
     "text": [
      "ITS TRUE!\n"
     ]
    }
   ],
   "source": [
    "if 3>2:\n",
    "    print('ITS TRUE!')"
   ]
  },
  {
   "cell_type": "code",
   "execution_count": 3,
   "id": "8472a050",
   "metadata": {
    "ExecuteTime": {
     "end_time": "2023-11-29T05:47:01.089307Z",
     "start_time": "2023-11-29T05:47:01.080513Z"
    }
   },
   "outputs": [
    {
     "name": "stdout",
     "output_type": "stream",
     "text": [
      "FEED ME\n"
     ]
    }
   ],
   "source": [
    "hungry = True\n",
    "if hungry:\n",
    "    print('FEED ME')"
   ]
  },
  {
   "cell_type": "code",
   "execution_count": 4,
   "id": "868182e2",
   "metadata": {
    "ExecuteTime": {
     "end_time": "2023-11-29T05:47:31.347151Z",
     "start_time": "2023-11-29T05:47:31.338802Z"
    }
   },
   "outputs": [],
   "source": [
    "hungry = False\n",
    "\n",
    "if hungry:\n",
    "    print('FEED ME')"
   ]
  },
  {
   "cell_type": "code",
   "execution_count": 5,
   "id": "d9389206",
   "metadata": {
    "ExecuteTime": {
     "end_time": "2023-11-29T05:49:52.288136Z",
     "start_time": "2023-11-29T05:49:52.279248Z"
    }
   },
   "outputs": [
    {
     "name": "stdout",
     "output_type": "stream",
     "text": [
      "I am not hungry\n"
     ]
    }
   ],
   "source": [
    "hungry = False \n",
    "\n",
    "if hungry:\n",
    "    print('FEED ME!')\n",
    "else:\n",
    "    print(\"I am not hungry\")"
   ]
  },
  {
   "cell_type": "code",
   "execution_count": 6,
   "id": "150151aa",
   "metadata": {
    "ExecuteTime": {
     "end_time": "2023-11-29T05:54:16.193243Z",
     "start_time": "2023-11-29T05:54:16.178990Z"
    }
   },
   "outputs": [
    {
     "name": "stdout",
     "output_type": "stream",
     "text": [
      "I don't Know much\n"
     ]
    }
   ],
   "source": [
    " loc = 'Bank'\n",
    "    \n",
    "if loc == 'Auto Shop':\n",
    "    print('cars are cool')\n",
    "else:\n",
    "    print(\"I don't Know much\")"
   ]
  },
  {
   "cell_type": "code",
   "execution_count": 7,
   "id": "0f855104",
   "metadata": {
    "ExecuteTime": {
     "end_time": "2023-11-29T05:58:50.356316Z",
     "start_time": "2023-11-29T05:58:50.348018Z"
    }
   },
   "outputs": [
    {
     "name": "stdout",
     "output_type": "stream",
     "text": [
      "I don't know \n"
     ]
    }
   ],
   "source": [
    "loc = 'Auto Shop'\n",
    "\n",
    "if loc == 'Bank':\n",
    "    print(\"Deposit the money\")\n",
    "    \n",
    "else:\n",
    "    print(\"I don't know \")"
   ]
  },
  {
   "cell_type": "code",
   "execution_count": 9,
   "id": "a184c0b9",
   "metadata": {
    "ExecuteTime": {
     "end_time": "2023-11-29T06:00:32.447939Z",
     "start_time": "2023-11-29T06:00:32.439679Z"
    }
   },
   "outputs": [
    {
     "name": "stdout",
     "output_type": "stream",
     "text": [
      "Going to school\n"
     ]
    }
   ],
   "source": [
    "loc = 'School'\n",
    "if loc == 'School':\n",
    "    print(\"Going to school\")\n",
    "else:\n",
    "    print(\"Don't go to school\")"
   ]
  },
  {
   "cell_type": "code",
   "execution_count": 10,
   "id": "20f629ac",
   "metadata": {
    "ExecuteTime": {
     "end_time": "2023-11-29T06:08:53.674367Z",
     "start_time": "2023-11-29T06:08:53.663982Z"
    }
   },
   "outputs": [
    {
     "name": "stdout",
     "output_type": "stream",
     "text": [
      "Money is cool\n"
     ]
    }
   ],
   "source": [
    "loc = \"Bank\"\n",
    "if loc == 'Auto Shop':\n",
    "    print('Cars are cool')\n",
    "elif loc == 'Bank':\n",
    "    print('Money is cool')\n",
    "else:\n",
    "    print(\"I don't know to much\")"
   ]
  },
  {
   "cell_type": "code",
   "execution_count": 11,
   "id": "7d796de1",
   "metadata": {
    "ExecuteTime": {
     "end_time": "2023-11-29T06:10:57.341629Z",
     "start_time": "2023-11-29T06:10:57.330428Z"
    }
   },
   "outputs": [
    {
     "name": "stdout",
     "output_type": "stream",
     "text": [
      "Hello Sagar\n"
     ]
    }
   ],
   "source": [
    "name = 'Sagar'\n",
    "if name == 'Sai':\n",
    "    print('Hello Sai')\n",
    "elif name == 'Sagar':\n",
    "    print('Hello Sagar')\n",
    "else:\n",
    "    print('What is your name?')"
   ]
  },
  {
   "cell_type": "code",
   "execution_count": null,
   "id": "db13f4b3",
   "metadata": {},
   "outputs": [],
   "source": []
  }
 ],
 "metadata": {
  "kernelspec": {
   "display_name": "Python 3 (ipykernel)",
   "language": "python",
   "name": "python3"
  },
  "language_info": {
   "codemirror_mode": {
    "name": "ipython",
    "version": 3
   },
   "file_extension": ".py",
   "mimetype": "text/x-python",
   "name": "python",
   "nbconvert_exporter": "python",
   "pygments_lexer": "ipython3",
   "version": "3.9.7"
  },
  "varInspector": {
   "cols": {
    "lenName": 16,
    "lenType": 16,
    "lenVar": 40
   },
   "kernels_config": {
    "python": {
     "delete_cmd_postfix": "",
     "delete_cmd_prefix": "del ",
     "library": "var_list.py",
     "varRefreshCmd": "print(var_dic_list())"
    },
    "r": {
     "delete_cmd_postfix": ") ",
     "delete_cmd_prefix": "rm(",
     "library": "var_list.r",
     "varRefreshCmd": "cat(var_dic_list()) "
    }
   },
   "types_to_exclude": [
    "module",
    "function",
    "builtin_function_or_method",
    "instance",
    "_Feature"
   ],
   "window_display": false
  }
 },
 "nbformat": 4,
 "nbformat_minor": 5
}
