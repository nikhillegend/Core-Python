{
 "cells": [
  {
   "cell_type": "markdown",
   "id": "7cabc967",
   "metadata": {},
   "source": [
    "#### Bascis of Functions "
   ]
  },
  {
   "cell_type": "code",
   "execution_count": 1,
   "id": "392c1ed0",
   "metadata": {
    "ExecuteTime": {
     "end_time": "2023-12-04T05:50:37.998235Z",
     "start_time": "2023-12-04T05:50:37.984209Z"
    }
   },
   "outputs": [],
   "source": [
    "def say_hello():\n",
    "    print(\"Hello, How are you?\")"
   ]
  },
  {
   "cell_type": "code",
   "execution_count": 2,
   "id": "5014c7e2",
   "metadata": {
    "ExecuteTime": {
     "end_time": "2023-12-04T05:50:38.831833Z",
     "start_time": "2023-12-04T05:50:38.821473Z"
    }
   },
   "outputs": [
    {
     "name": "stdout",
     "output_type": "stream",
     "text": [
      "Hello, How are you?\n"
     ]
    }
   ],
   "source": [
    "say_hello()"
   ]
  },
  {
   "cell_type": "code",
   "execution_count": 3,
   "id": "413f2766",
   "metadata": {
    "ExecuteTime": {
     "end_time": "2023-12-04T05:50:39.906794Z",
     "start_time": "2023-12-04T05:50:39.897758Z"
    }
   },
   "outputs": [],
   "source": [
    "def say_hello(name):\n",
    "    print(f'Hello {name}')"
   ]
  },
  {
   "cell_type": "code",
   "execution_count": 4,
   "id": "bb265e00",
   "metadata": {
    "ExecuteTime": {
     "end_time": "2023-12-04T05:50:43.008772Z",
     "start_time": "2023-12-04T05:50:42.993656Z"
    }
   },
   "outputs": [
    {
     "name": "stdout",
     "output_type": "stream",
     "text": [
      "Hello Charan\n"
     ]
    }
   ],
   "source": [
    "say_hello('Charan')"
   ]
  },
  {
   "cell_type": "code",
   "execution_count": 5,
   "id": "43432bc1",
   "metadata": {
    "ExecuteTime": {
     "end_time": "2023-12-04T05:50:44.326887Z",
     "start_time": "2023-12-04T05:50:44.318058Z"
    }
   },
   "outputs": [],
   "source": [
    "def add_numbers(num1,num2):\n",
    "    return num1+num2"
   ]
  },
  {
   "cell_type": "code",
   "execution_count": 6,
   "id": "c62ba09c",
   "metadata": {
    "ExecuteTime": {
     "end_time": "2023-12-04T05:50:45.442609Z",
     "start_time": "2023-12-04T05:50:45.413200Z"
    }
   },
   "outputs": [
    {
     "data": {
      "text/plain": [
       "30"
      ]
     },
     "execution_count": 6,
     "metadata": {},
     "output_type": "execute_result"
    }
   ],
   "source": [
    "add_numbers(10,20)"
   ]
  },
  {
   "cell_type": "code",
   "execution_count": 7,
   "id": "16d4e23f",
   "metadata": {
    "ExecuteTime": {
     "end_time": "2023-12-04T05:50:46.859070Z",
     "start_time": "2023-12-04T05:50:46.842370Z"
    }
   },
   "outputs": [],
   "source": [
    "results = add_numbers(10,20)"
   ]
  },
  {
   "cell_type": "code",
   "execution_count": 8,
   "id": "a9e69698",
   "metadata": {
    "ExecuteTime": {
     "end_time": "2023-12-04T05:50:50.247667Z",
     "start_time": "2023-12-04T05:50:50.240443Z"
    }
   },
   "outputs": [
    {
     "data": {
      "text/plain": [
       "30"
      ]
     },
     "execution_count": 8,
     "metadata": {},
     "output_type": "execute_result"
    }
   ],
   "source": [
    "results"
   ]
  },
  {
   "cell_type": "code",
   "execution_count": 9,
   "id": "73d93f07",
   "metadata": {
    "ExecuteTime": {
     "end_time": "2023-12-04T05:50:51.326108Z",
     "start_time": "2023-12-04T05:50:51.306902Z"
    }
   },
   "outputs": [],
   "source": [
    "def sum_numbers(num1,num2):\n",
    "    return num1+num2"
   ]
  },
  {
   "cell_type": "code",
   "execution_count": 10,
   "id": "6a98548e",
   "metadata": {
    "ExecuteTime": {
     "end_time": "2023-12-04T05:50:52.329055Z",
     "start_time": "2023-12-04T05:50:52.319524Z"
    }
   },
   "outputs": [
    {
     "data": {
      "text/plain": [
       "'1020'"
      ]
     },
     "execution_count": 10,
     "metadata": {},
     "output_type": "execute_result"
    }
   ],
   "source": [
    "sum_numbers('10','20')"
   ]
  },
  {
   "cell_type": "markdown",
   "id": "60db72cb",
   "metadata": {},
   "source": [
    "#### Logic with python functions "
   ]
  },
  {
   "cell_type": "code",
   "execution_count": 11,
   "id": "699bfbb2",
   "metadata": {
    "ExecuteTime": {
     "end_time": "2023-12-04T05:50:54.409718Z",
     "start_time": "2023-12-04T05:50:54.393190Z"
    }
   },
   "outputs": [],
   "source": [
    "def even_check(numbers):\n",
    "    return numbers % 2 == 0 "
   ]
  },
  {
   "cell_type": "code",
   "execution_count": 12,
   "id": "cfeb5d57",
   "metadata": {
    "ExecuteTime": {
     "end_time": "2023-12-04T05:50:57.781025Z",
     "start_time": "2023-12-04T05:50:57.772335Z"
    }
   },
   "outputs": [
    {
     "data": {
      "text/plain": [
       "True"
      ]
     },
     "execution_count": 12,
     "metadata": {},
     "output_type": "execute_result"
    }
   ],
   "source": [
    "even_check(20)"
   ]
  },
  {
   "cell_type": "code",
   "execution_count": 13,
   "id": "667ea489",
   "metadata": {
    "ExecuteTime": {
     "end_time": "2023-12-04T05:50:59.095331Z",
     "start_time": "2023-12-04T05:50:59.079772Z"
    }
   },
   "outputs": [
    {
     "data": {
      "text/plain": [
       "False"
      ]
     },
     "execution_count": 13,
     "metadata": {},
     "output_type": "execute_result"
    }
   ],
   "source": [
    "even_check(21)"
   ]
  },
  {
   "cell_type": "code",
   "execution_count": 14,
   "id": "51f01097",
   "metadata": {
    "ExecuteTime": {
     "end_time": "2023-12-04T05:51:00.221524Z",
     "start_time": "2023-12-04T05:51:00.203481Z"
    }
   },
   "outputs": [],
   "source": [
    "def even_check(numbers):\n",
    "    results = numbers % 2 == 0 \n",
    "    return results"
   ]
  },
  {
   "cell_type": "code",
   "execution_count": 15,
   "id": "7f7415f4",
   "metadata": {
    "ExecuteTime": {
     "end_time": "2023-12-04T05:51:02.718748Z",
     "start_time": "2023-12-04T05:51:02.701439Z"
    }
   },
   "outputs": [
    {
     "data": {
      "text/plain": [
       "True"
      ]
     },
     "execution_count": 15,
     "metadata": {},
     "output_type": "execute_result"
    }
   ],
   "source": [
    "even_check(20)"
   ]
  },
  {
   "cell_type": "code",
   "execution_count": 16,
   "id": "1ed959f3",
   "metadata": {
    "ExecuteTime": {
     "end_time": "2023-12-04T05:51:04.232750Z",
     "start_time": "2023-12-04T05:51:04.225149Z"
    }
   },
   "outputs": [],
   "source": [
    "#Return True uf any number is even unside a list"
   ]
  },
  {
   "cell_type": "code",
   "execution_count": 17,
   "id": "53baa3ba",
   "metadata": {
    "ExecuteTime": {
     "end_time": "2023-12-04T05:51:06.705801Z",
     "start_time": "2023-12-04T05:51:06.689007Z"
    }
   },
   "outputs": [],
   "source": [
    "def check_even_list(num_list):\n",
    "    \n",
    "    for number in num_list:\n",
    "        if number % 2 == 0:\n",
    "            return True\n",
    "        else:\n",
    "            pass \n",
    "    \n",
    "    "
   ]
  },
  {
   "cell_type": "code",
   "execution_count": 18,
   "id": "f5e30038",
   "metadata": {
    "ExecuteTime": {
     "end_time": "2023-12-04T05:51:07.863608Z",
     "start_time": "2023-12-04T05:51:07.857565Z"
    }
   },
   "outputs": [],
   "source": [
    "check_even_list([1,1,3,5])"
   ]
  },
  {
   "cell_type": "code",
   "execution_count": 19,
   "id": "6dd892d5",
   "metadata": {
    "ExecuteTime": {
     "end_time": "2023-12-04T05:51:08.850735Z",
     "start_time": "2023-12-04T05:51:08.826549Z"
    }
   },
   "outputs": [
    {
     "data": {
      "text/plain": [
       "True"
      ]
     },
     "execution_count": 19,
     "metadata": {},
     "output_type": "execute_result"
    }
   ],
   "source": [
    "check_even_list([3,5,9,2])"
   ]
  },
  {
   "cell_type": "code",
   "execution_count": 20,
   "id": "5c1c19a3",
   "metadata": {
    "ExecuteTime": {
     "end_time": "2023-12-04T05:51:09.743556Z",
     "start_time": "2023-12-04T05:51:09.727326Z"
    }
   },
   "outputs": [
    {
     "data": {
      "text/plain": [
       "True"
      ]
     },
     "execution_count": 20,
     "metadata": {},
     "output_type": "execute_result"
    }
   ],
   "source": [
    "check_even_list([3,5,9,2])"
   ]
  },
  {
   "cell_type": "code",
   "execution_count": 21,
   "id": "f892b8ad",
   "metadata": {
    "ExecuteTime": {
     "end_time": "2023-12-04T05:51:10.618826Z",
     "start_time": "2023-12-04T05:51:10.603415Z"
    }
   },
   "outputs": [],
   "source": [
    "def check_even_list(num_list):\n",
    "    for number in num_list:\n",
    "        if number % 2 == 0:\n",
    "            return True\n",
    "        else:\n",
    "            pass\n",
    "    \n",
    "    return False"
   ]
  },
  {
   "cell_type": "code",
   "execution_count": 22,
   "id": "b91af94a",
   "metadata": {
    "ExecuteTime": {
     "end_time": "2023-12-04T05:51:12.462004Z",
     "start_time": "2023-12-04T05:51:12.439531Z"
    }
   },
   "outputs": [
    {
     "data": {
      "text/plain": [
       "True"
      ]
     },
     "execution_count": 22,
     "metadata": {},
     "output_type": "execute_result"
    }
   ],
   "source": [
    "check_even_list([3,5,9,2])"
   ]
  },
  {
   "cell_type": "code",
   "execution_count": 23,
   "id": "6b77288a",
   "metadata": {
    "ExecuteTime": {
     "end_time": "2023-12-04T05:51:13.142509Z",
     "start_time": "2023-12-04T05:51:13.126700Z"
    }
   },
   "outputs": [
    {
     "data": {
      "text/plain": [
       "True"
      ]
     },
     "execution_count": 23,
     "metadata": {},
     "output_type": "execute_result"
    }
   ],
   "source": [
    "check_even_list([3,5,9,2])\n"
   ]
  },
  {
   "cell_type": "code",
   "execution_count": 24,
   "id": "1487bd26",
   "metadata": {
    "ExecuteTime": {
     "end_time": "2023-12-04T05:51:15.463729Z",
     "start_time": "2023-12-04T05:51:15.447712Z"
    }
   },
   "outputs": [
    {
     "data": {
      "text/plain": [
       "False"
      ]
     },
     "execution_count": 24,
     "metadata": {},
     "output_type": "execute_result"
    }
   ],
   "source": [
    "check_even_list([1,1,3,5])"
   ]
  },
  {
   "cell_type": "code",
   "execution_count": 25,
   "id": "bf7c502d",
   "metadata": {
    "ExecuteTime": {
     "end_time": "2023-12-04T05:51:16.780057Z",
     "start_time": "2023-12-04T05:51:16.763198Z"
    }
   },
   "outputs": [],
   "source": [
    "def check_even_number(num_list):\n",
    "    \n",
    "    even_number = []\n",
    "    \n",
    "    for numbers in num_list:\n",
    "        if numbers % 2 == 0:\n",
    "            even_number.append(numbers)\n",
    "        else:\n",
    "            pass\n",
    "    return even_number"
   ]
  },
  {
   "cell_type": "code",
   "execution_count": 26,
   "id": "a2508f6e",
   "metadata": {
    "ExecuteTime": {
     "end_time": "2023-12-04T05:51:25.787168Z",
     "start_time": "2023-12-04T05:51:25.764468Z"
    }
   },
   "outputs": [
    {
     "data": {
      "text/plain": [
       "[2, 6, 8]"
      ]
     },
     "execution_count": 26,
     "metadata": {},
     "output_type": "execute_result"
    }
   ],
   "source": [
    "check_even_number([1,41,2,5,6,7,8])"
   ]
  },
  {
   "cell_type": "markdown",
   "id": "b84d1436",
   "metadata": {},
   "source": [
    "#### Tuple Unpacking"
   ]
  },
  {
   "cell_type": "code",
   "execution_count": 27,
   "id": "97d3ef45",
   "metadata": {
    "ExecuteTime": {
     "end_time": "2023-12-04T05:51:27.995931Z",
     "start_time": "2023-12-04T05:51:27.990406Z"
    }
   },
   "outputs": [],
   "source": [
    "stock_price = [('Appl',200),('Googl',400),('MST',600)]"
   ]
  },
  {
   "cell_type": "code",
   "execution_count": 28,
   "id": "3a1fd7be",
   "metadata": {
    "ExecuteTime": {
     "end_time": "2023-12-04T05:51:28.861037Z",
     "start_time": "2023-12-04T05:51:28.849669Z"
    }
   },
   "outputs": [
    {
     "name": "stdout",
     "output_type": "stream",
     "text": [
      "('Appl', 200)\n",
      "('Googl', 400)\n",
      "('MST', 600)\n"
     ]
    }
   ],
   "source": [
    "for item in stock_price:\n",
    "    print(item)"
   ]
  },
  {
   "cell_type": "code",
   "execution_count": 29,
   "id": "b3a62311",
   "metadata": {
    "ExecuteTime": {
     "end_time": "2023-12-04T05:51:29.815698Z",
     "start_time": "2023-12-04T05:51:29.808823Z"
    }
   },
   "outputs": [
    {
     "name": "stdout",
     "output_type": "stream",
     "text": [
      "Appl\n",
      "Googl\n",
      "MST\n"
     ]
    }
   ],
   "source": [
    "for ticker,price in stock_price:\n",
    "    print(ticker)"
   ]
  },
  {
   "cell_type": "code",
   "execution_count": 30,
   "id": "c687de7c",
   "metadata": {
    "ExecuteTime": {
     "end_time": "2023-12-04T05:51:30.974702Z",
     "start_time": "2023-12-04T05:51:30.952220Z"
    }
   },
   "outputs": [
    {
     "name": "stdout",
     "output_type": "stream",
     "text": [
      "200\n",
      "400\n",
      "600\n"
     ]
    }
   ],
   "source": [
    "for ticker,price in stock_price:\n",
    "    print(price)"
   ]
  },
  {
   "cell_type": "code",
   "execution_count": 31,
   "id": "61b781aa",
   "metadata": {
    "ExecuteTime": {
     "end_time": "2023-12-04T05:51:32.095440Z",
     "start_time": "2023-12-04T05:51:32.084802Z"
    }
   },
   "outputs": [
    {
     "name": "stdout",
     "output_type": "stream",
     "text": [
      "220.0\n",
      "440.0\n",
      "660.0\n"
     ]
    }
   ],
   "source": [
    "for ticker,price in stock_price:\n",
    "    print(price+price*0.1)"
   ]
  },
  {
   "cell_type": "code",
   "execution_count": 32,
   "id": "dcd5e644",
   "metadata": {
    "ExecuteTime": {
     "end_time": "2023-12-04T05:51:33.347752Z",
     "start_time": "2023-12-04T05:51:33.331376Z"
    }
   },
   "outputs": [],
   "source": [
    "work_hours = [('Nikhil',100),('Charan',400),('Dhani',800)]"
   ]
  },
  {
   "cell_type": "code",
   "execution_count": 33,
   "id": "b1db8a63",
   "metadata": {
    "ExecuteTime": {
     "end_time": "2023-12-04T05:51:37.177616Z",
     "start_time": "2023-12-04T05:51:37.161492Z"
    }
   },
   "outputs": [],
   "source": [
    "def employee_check(work_hours):\n",
    "    \n",
    "    current_max = 0\n",
    "    employee_of_month = ''\n",
    "    \n",
    "    for employees,hours in work_hours:\n",
    "        if hours > current_max:\n",
    "            current_max = hours\n",
    "            employee_of_month = employees\n",
    "            \n",
    "        else:\n",
    "            pass\n",
    "        \n",
    "    return (employee_of_month,current_max)\n",
    "        "
   ]
  },
  {
   "cell_type": "code",
   "execution_count": 34,
   "id": "0a9e85fa",
   "metadata": {
    "ExecuteTime": {
     "end_time": "2023-12-04T05:51:48.200192Z",
     "start_time": "2023-12-04T05:51:48.190834Z"
    }
   },
   "outputs": [
    {
     "data": {
      "text/plain": [
       "('Dhani', 800)"
      ]
     },
     "execution_count": 34,
     "metadata": {},
     "output_type": "execute_result"
    }
   ],
   "source": [
    "employee_check(work_hours)"
   ]
  },
  {
   "cell_type": "code",
   "execution_count": 35,
   "id": "b3dbb5eb",
   "metadata": {
    "ExecuteTime": {
     "end_time": "2023-12-04T05:51:49.144426Z",
     "start_time": "2023-12-04T05:51:49.135667Z"
    }
   },
   "outputs": [],
   "source": [
    "results = employee_check(work_hours)"
   ]
  },
  {
   "cell_type": "code",
   "execution_count": 36,
   "id": "ee179e95",
   "metadata": {
    "ExecuteTime": {
     "end_time": "2023-12-04T05:51:50.682056Z",
     "start_time": "2023-12-04T05:51:50.665899Z"
    }
   },
   "outputs": [
    {
     "data": {
      "text/plain": [
       "('Dhani', 800)"
      ]
     },
     "execution_count": 36,
     "metadata": {},
     "output_type": "execute_result"
    }
   ],
   "source": [
    "results"
   ]
  },
  {
   "cell_type": "code",
   "execution_count": 37,
   "id": "b44ac2b4",
   "metadata": {
    "ExecuteTime": {
     "end_time": "2023-12-04T05:51:52.357995Z",
     "start_time": "2023-12-04T05:51:52.333528Z"
    }
   },
   "outputs": [],
   "source": [
    "name,hours = employee_check(work_hours)"
   ]
  },
  {
   "cell_type": "code",
   "execution_count": 38,
   "id": "e3103692",
   "metadata": {
    "ExecuteTime": {
     "end_time": "2023-12-04T05:51:53.016792Z",
     "start_time": "2023-12-04T05:51:53.000657Z"
    }
   },
   "outputs": [
    {
     "data": {
      "text/plain": [
       "'Dhani'"
      ]
     },
     "execution_count": 38,
     "metadata": {},
     "output_type": "execute_result"
    }
   ],
   "source": [
    "name"
   ]
  },
  {
   "cell_type": "code",
   "execution_count": 39,
   "id": "681bc059",
   "metadata": {
    "ExecuteTime": {
     "end_time": "2023-12-04T05:51:53.771233Z",
     "start_time": "2023-12-04T05:51:53.755914Z"
    }
   },
   "outputs": [
    {
     "data": {
      "text/plain": [
       "800"
      ]
     },
     "execution_count": 39,
     "metadata": {},
     "output_type": "execute_result"
    }
   ],
   "source": [
    "hours"
   ]
  },
  {
   "cell_type": "markdown",
   "id": "1d44106d",
   "metadata": {},
   "source": [
    "#### Interaction Between python Functions "
   ]
  },
  {
   "cell_type": "code",
   "execution_count": 40,
   "id": "d3c898db",
   "metadata": {
    "ExecuteTime": {
     "end_time": "2023-12-04T05:51:56.375016Z",
     "start_time": "2023-12-04T05:51:56.361478Z"
    }
   },
   "outputs": [],
   "source": [
    "example = [1,2,3,4,5,6,7]"
   ]
  },
  {
   "cell_type": "code",
   "execution_count": 41,
   "id": "52ace50c",
   "metadata": {
    "ExecuteTime": {
     "end_time": "2023-12-04T05:51:57.209805Z",
     "start_time": "2023-12-04T05:51:57.193185Z"
    }
   },
   "outputs": [],
   "source": [
    "from random import shuffle"
   ]
  },
  {
   "cell_type": "code",
   "execution_count": 42,
   "id": "5fa89c66",
   "metadata": {
    "ExecuteTime": {
     "end_time": "2023-12-04T05:51:57.841374Z",
     "start_time": "2023-12-04T05:51:57.829259Z"
    }
   },
   "outputs": [],
   "source": [
    "shuffle(example)"
   ]
  },
  {
   "cell_type": "code",
   "execution_count": 43,
   "id": "e8d635d6",
   "metadata": {
    "ExecuteTime": {
     "end_time": "2023-12-04T05:51:58.344507Z",
     "start_time": "2023-12-04T05:51:58.327829Z"
    }
   },
   "outputs": [
    {
     "data": {
      "text/plain": [
       "[6, 7, 5, 2, 4, 1, 3]"
      ]
     },
     "execution_count": 43,
     "metadata": {},
     "output_type": "execute_result"
    }
   ],
   "source": [
    "example"
   ]
  },
  {
   "cell_type": "code",
   "execution_count": 44,
   "id": "b66fce0e",
   "metadata": {
    "ExecuteTime": {
     "end_time": "2023-12-04T05:51:58.618051Z",
     "start_time": "2023-12-04T05:51:58.603158Z"
    }
   },
   "outputs": [],
   "source": [
    "shuffle(example)"
   ]
  },
  {
   "cell_type": "code",
   "execution_count": 45,
   "id": "6a38d922",
   "metadata": {
    "ExecuteTime": {
     "end_time": "2023-12-04T05:51:58.904243Z",
     "start_time": "2023-12-04T05:51:58.883435Z"
    }
   },
   "outputs": [
    {
     "data": {
      "text/plain": [
       "[5, 1, 6, 4, 7, 2, 3]"
      ]
     },
     "execution_count": 45,
     "metadata": {},
     "output_type": "execute_result"
    }
   ],
   "source": [
    "example"
   ]
  },
  {
   "cell_type": "code",
   "execution_count": 46,
   "id": "8bed61dd",
   "metadata": {
    "ExecuteTime": {
     "end_time": "2023-12-04T05:51:59.103467Z",
     "start_time": "2023-12-04T05:51:59.096428Z"
    }
   },
   "outputs": [],
   "source": [
    "def shuffle_list(mylist):\n",
    "    shuffle(mylist)\n",
    "    return(mylist)"
   ]
  },
  {
   "cell_type": "code",
   "execution_count": 47,
   "id": "e0864c67",
   "metadata": {
    "ExecuteTime": {
     "end_time": "2023-12-04T05:51:59.593132Z",
     "start_time": "2023-12-04T05:51:59.579115Z"
    }
   },
   "outputs": [],
   "source": [
    "result = shuffle_list(example)"
   ]
  },
  {
   "cell_type": "code",
   "execution_count": 48,
   "id": "f4f6bf0f",
   "metadata": {
    "ExecuteTime": {
     "end_time": "2023-12-04T05:52:03.669281Z",
     "start_time": "2023-12-04T05:52:03.656627Z"
    }
   },
   "outputs": [
    {
     "data": {
      "text/plain": [
       "[6, 1, 5, 4, 7, 3, 2]"
      ]
     },
     "execution_count": 48,
     "metadata": {},
     "output_type": "execute_result"
    }
   ],
   "source": [
    "result"
   ]
  },
  {
   "cell_type": "code",
   "execution_count": 49,
   "id": "933753ab",
   "metadata": {
    "ExecuteTime": {
     "end_time": "2023-12-04T05:52:04.536490Z",
     "start_time": "2023-12-04T05:52:04.522182Z"
    }
   },
   "outputs": [
    {
     "data": {
      "text/plain": [
       "[6, 1, 5, 4, 7, 3, 2]"
      ]
     },
     "execution_count": 49,
     "metadata": {},
     "output_type": "execute_result"
    }
   ],
   "source": [
    "result"
   ]
  },
  {
   "cell_type": "code",
   "execution_count": 50,
   "id": "a051956d",
   "metadata": {
    "ExecuteTime": {
     "end_time": "2023-12-04T05:52:05.892564Z",
     "start_time": "2023-12-04T05:52:05.875493Z"
    }
   },
   "outputs": [],
   "source": [
    "mylist = ['','O','']"
   ]
  },
  {
   "cell_type": "code",
   "execution_count": 51,
   "id": "8f65ec63",
   "metadata": {
    "ExecuteTime": {
     "end_time": "2023-12-04T05:52:06.944682Z",
     "start_time": "2023-12-04T05:52:06.923274Z"
    }
   },
   "outputs": [
    {
     "data": {
      "text/plain": [
       "['', '', 'O']"
      ]
     },
     "execution_count": 51,
     "metadata": {},
     "output_type": "execute_result"
    }
   ],
   "source": [
    "shuffle_list(mylist)"
   ]
  },
  {
   "cell_type": "code",
   "execution_count": 53,
   "id": "06513e13",
   "metadata": {
    "ExecuteTime": {
     "end_time": "2023-12-04T05:52:21.418111Z",
     "start_time": "2023-12-04T05:52:21.406819Z"
    }
   },
   "outputs": [],
   "source": [
    "def player_guess():\n",
    "    \n",
    "    guess = ''\n",
    "    \n",
    "    while guess not in ['0','1','2']:\n",
    "        guess = input(\"Pick a number : 0,1,2\")\n",
    "        \n",
    "    return int(guess)"
   ]
  },
  {
   "cell_type": "code",
   "execution_count": 54,
   "id": "928ccfda",
   "metadata": {
    "ExecuteTime": {
     "end_time": "2023-12-04T05:52:23.776942Z",
     "start_time": "2023-12-04T05:52:21.876460Z"
    }
   },
   "outputs": [
    {
     "name": "stdout",
     "output_type": "stream",
     "text": [
      "Pick a number : 0,1,22\n"
     ]
    },
    {
     "data": {
      "text/plain": [
       "2"
      ]
     },
     "execution_count": 54,
     "metadata": {},
     "output_type": "execute_result"
    }
   ],
   "source": [
    "player_guess()"
   ]
  },
  {
   "cell_type": "code",
   "execution_count": 55,
   "id": "60dde90e",
   "metadata": {
    "ExecuteTime": {
     "end_time": "2023-12-04T05:52:27.876767Z",
     "start_time": "2023-12-04T05:52:25.303299Z"
    }
   },
   "outputs": [
    {
     "name": "stdout",
     "output_type": "stream",
     "text": [
      "Pick a number : 0,1,20\n"
     ]
    }
   ],
   "source": [
    "index = player_guess()"
   ]
  },
  {
   "cell_type": "code",
   "execution_count": 56,
   "id": "610b1b98",
   "metadata": {
    "ExecuteTime": {
     "end_time": "2023-12-04T05:52:28.679043Z",
     "start_time": "2023-12-04T05:52:28.673072Z"
    }
   },
   "outputs": [
    {
     "data": {
      "text/plain": [
       "0"
      ]
     },
     "execution_count": 56,
     "metadata": {},
     "output_type": "execute_result"
    }
   ],
   "source": [
    "index"
   ]
  },
  {
   "cell_type": "code",
   "execution_count": 60,
   "id": "b8e2a344",
   "metadata": {
    "ExecuteTime": {
     "end_time": "2023-12-04T05:55:18.769450Z",
     "start_time": "2023-12-04T05:55:18.763346Z"
    }
   },
   "outputs": [],
   "source": [
    "def check_guess(mylist,guess):\n",
    "    if mylist[guess] == 'O':\n",
    "        print(\"Correct!\")\n",
    "        \n",
    "    else:\n",
    "        print(\"Wrong guess!\")\n",
    "        print(mylist)"
   ]
  },
  {
   "cell_type": "code",
   "execution_count": 65,
   "id": "9c536fb8",
   "metadata": {
    "ExecuteTime": {
     "end_time": "2023-12-04T05:56:56.930674Z",
     "start_time": "2023-12-04T05:56:55.032044Z"
    }
   },
   "outputs": [
    {
     "name": "stdout",
     "output_type": "stream",
     "text": [
      "Pick a number : 0,1,20\n",
      "Wrong guess!\n",
      "[' ', ' ', 'O']\n"
     ]
    }
   ],
   "source": [
    "#Intial Test\n",
    "mylist = [' ','O',' ']\n",
    "\n",
    "#Shuffle Test\n",
    "mixedup_list = shuffle_list(mylist)\n",
    "\n",
    "#User Guess\n",
    "guess = player_guess()\n",
    "\n",
    "#Check Guess\n",
    "check_guess(mixedup_list,guess)"
   ]
  },
  {
   "cell_type": "markdown",
   "id": "dacf54a7",
   "metadata": {},
   "source": [
    "#### args and kwargs"
   ]
  },
  {
   "cell_type": "code",
   "execution_count": 66,
   "id": "32cb70aa",
   "metadata": {
    "ExecuteTime": {
     "end_time": "2023-12-04T06:07:22.246217Z",
     "start_time": "2023-12-04T06:07:22.240314Z"
    }
   },
   "outputs": [],
   "source": [
    "def myfuc(*args):\n",
    "    return sum(args) * 0.05"
   ]
  },
  {
   "cell_type": "code",
   "execution_count": 67,
   "id": "9c0fbbbe",
   "metadata": {
    "ExecuteTime": {
     "end_time": "2023-12-04T06:07:37.248933Z",
     "start_time": "2023-12-04T06:07:37.238913Z"
    }
   },
   "outputs": [
    {
     "data": {
      "text/plain": [
       "5.0"
      ]
     },
     "execution_count": 67,
     "metadata": {},
     "output_type": "execute_result"
    }
   ],
   "source": [
    "myfuc(10,50,40)"
   ]
  },
  {
   "cell_type": "code",
   "execution_count": 68,
   "id": "5267ec9c",
   "metadata": {
    "ExecuteTime": {
     "end_time": "2023-12-04T06:08:16.586790Z",
     "start_time": "2023-12-04T06:08:16.581339Z"
    }
   },
   "outputs": [
    {
     "name": "stdout",
     "output_type": "stream",
     "text": [
      "(10, 60, 50, 3, 4)\n"
     ]
    }
   ],
   "source": [
    "def myfuc(*args):\n",
    "    print(args)\n",
    "    \n",
    "myfuc(10,60,50,3,4)"
   ]
  },
  {
   "cell_type": "code",
   "execution_count": 71,
   "id": "40e7f2d3",
   "metadata": {
    "ExecuteTime": {
     "end_time": "2023-12-04T06:09:26.929596Z",
     "start_time": "2023-12-04T06:09:26.922358Z"
    }
   },
   "outputs": [],
   "source": [
    "def myfuc(*args):\n",
    "    for item in args:\n",
    "        print(item)"
   ]
  },
  {
   "cell_type": "code",
   "execution_count": 72,
   "id": "a2a4a48f",
   "metadata": {
    "ExecuteTime": {
     "end_time": "2023-12-04T06:09:27.280045Z",
     "start_time": "2023-12-04T06:09:27.268164Z"
    }
   },
   "outputs": [
    {
     "name": "stdout",
     "output_type": "stream",
     "text": [
      "10\n",
      "50\n",
      "41\n",
      "60\n",
      "2\n"
     ]
    }
   ],
   "source": [
    "myfuc(10,50,41,60,2)"
   ]
  },
  {
   "cell_type": "code",
   "execution_count": 73,
   "id": "8a31dc84",
   "metadata": {
    "ExecuteTime": {
     "end_time": "2023-12-04T06:10:49.028337Z",
     "start_time": "2023-12-04T06:10:49.016395Z"
    }
   },
   "outputs": [
    {
     "name": "stdout",
     "output_type": "stream",
     "text": [
      "Nikhil\n",
      "Charan\n",
      "Rudra\n"
     ]
    }
   ],
   "source": [
    "def myfuc(*args):\n",
    "    for item in args:\n",
    "        print(item)\n",
    "        \n",
    "        \n",
    "myfuc('Nikhil','Charan','Rudra')"
   ]
  },
  {
   "cell_type": "code",
   "execution_count": 76,
   "id": "954860c1",
   "metadata": {
    "ExecuteTime": {
     "end_time": "2023-12-04T06:17:08.662187Z",
     "start_time": "2023-12-04T06:17:08.652101Z"
    }
   },
   "outputs": [],
   "source": [
    "def myfunc(**kwargs):\n",
    "    if 'fruits' in kwargs:\n",
    "        print('My fruit choice is {}'.format(kwargs['fruits']))\n",
    "        \n",
    "    else:\n",
    "        print(\"i don't know about the fruit\")"
   ]
  },
  {
   "cell_type": "code",
   "execution_count": 77,
   "id": "be608f04",
   "metadata": {
    "ExecuteTime": {
     "end_time": "2023-12-04T06:17:09.037503Z",
     "start_time": "2023-12-04T06:17:09.033373Z"
    }
   },
   "outputs": [
    {
     "name": "stdout",
     "output_type": "stream",
     "text": [
      "My fruit choice is apple\n"
     ]
    }
   ],
   "source": [
    "myfunc(fruits = 'apple')"
   ]
  },
  {
   "cell_type": "code",
   "execution_count": 78,
   "id": "6cc160c0",
   "metadata": {
    "ExecuteTime": {
     "end_time": "2023-12-04T06:19:24.563379Z",
     "start_time": "2023-12-04T06:19:24.548084Z"
    }
   },
   "outputs": [],
   "source": [
    "def myfunc(**kwargs):\n",
    "    if 'animal' in kwargs:\n",
    "        print('{} is a dangerous animal'.format(kwargs['animal']))\n",
    "        \n",
    "    else:\n",
    "        print(\"No it is not\")"
   ]
  },
  {
   "cell_type": "code",
   "execution_count": 81,
   "id": "ea1a20a0",
   "metadata": {
    "ExecuteTime": {
     "end_time": "2023-12-04T06:20:16.954656Z",
     "start_time": "2023-12-04T06:20:16.939448Z"
    }
   },
   "outputs": [
    {
     "name": "stdout",
     "output_type": "stream",
     "text": [
      "lion is a dangerous animal\n"
     ]
    }
   ],
   "source": [
    "myfunc(animal = 'lion')"
   ]
  },
  {
   "cell_type": "code",
   "execution_count": 84,
   "id": "533c007a",
   "metadata": {
    "ExecuteTime": {
     "end_time": "2023-12-04T06:25:20.392476Z",
     "start_time": "2023-12-04T06:25:20.378590Z"
    }
   },
   "outputs": [],
   "source": [
    "def myfunc(*args,**kwargs):\n",
    "    print('I would like {} {}'.format(args[0],kwargs['food']))"
   ]
  },
  {
   "cell_type": "code",
   "execution_count": 85,
   "id": "478d98f9",
   "metadata": {
    "ExecuteTime": {
     "end_time": "2023-12-04T06:25:20.890796Z",
     "start_time": "2023-12-04T06:25:20.877985Z"
    }
   },
   "outputs": [
    {
     "name": "stdout",
     "output_type": "stream",
     "text": [
      "I would like 10 eggs\n"
     ]
    }
   ],
   "source": [
    "myfunc(10,20,30,40, food = 'eggs', vegetables = 'Carrot')"
   ]
  },
  {
   "cell_type": "code",
   "execution_count": null,
   "id": "10ede304",
   "metadata": {},
   "outputs": [],
   "source": []
  }
 ],
 "metadata": {
  "kernelspec": {
   "display_name": "Python 3 (ipykernel)",
   "language": "python",
   "name": "python3"
  },
  "language_info": {
   "codemirror_mode": {
    "name": "ipython",
    "version": 3
   },
   "file_extension": ".py",
   "mimetype": "text/x-python",
   "name": "python",
   "nbconvert_exporter": "python",
   "pygments_lexer": "ipython3",
   "version": "3.9.7"
  },
  "varInspector": {
   "cols": {
    "lenName": 16,
    "lenType": 16,
    "lenVar": 40
   },
   "kernels_config": {
    "python": {
     "delete_cmd_postfix": "",
     "delete_cmd_prefix": "del ",
     "library": "var_list.py",
     "varRefreshCmd": "print(var_dic_list())"
    },
    "r": {
     "delete_cmd_postfix": ") ",
     "delete_cmd_prefix": "rm(",
     "library": "var_list.r",
     "varRefreshCmd": "cat(var_dic_list()) "
    }
   },
   "types_to_exclude": [
    "module",
    "function",
    "builtin_function_or_method",
    "instance",
    "_Feature"
   ],
   "window_display": false
  }
 },
 "nbformat": 4,
 "nbformat_minor": 5
}
