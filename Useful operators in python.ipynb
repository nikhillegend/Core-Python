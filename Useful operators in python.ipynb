{
 "cells": [
  {
   "cell_type": "code",
   "execution_count": 1,
   "id": "91919e26",
   "metadata": {
    "ExecuteTime": {
     "end_time": "2023-12-01T09:53:40.678316Z",
     "start_time": "2023-12-01T09:53:40.670483Z"
    }
   },
   "outputs": [
    {
     "name": "stdout",
     "output_type": "stream",
     "text": [
      "0\n",
      "1\n",
      "2\n",
      "3\n",
      "4\n",
      "5\n",
      "6\n",
      "7\n",
      "8\n",
      "9\n"
     ]
    }
   ],
   "source": [
    "for num in range(10):\n",
    "    print(num)"
   ]
  },
  {
   "cell_type": "code",
   "execution_count": 3,
   "id": "f02f57ac",
   "metadata": {
    "ExecuteTime": {
     "end_time": "2023-12-01T09:54:21.407894Z",
     "start_time": "2023-12-01T09:54:21.401132Z"
    }
   },
   "outputs": [
    {
     "name": "stdout",
     "output_type": "stream",
     "text": [
      "3\n",
      "4\n",
      "5\n",
      "6\n",
      "7\n",
      "8\n"
     ]
    }
   ],
   "source": [
    "for num in range(3,9):\n",
    "    print(num)"
   ]
  },
  {
   "cell_type": "code",
   "execution_count": 5,
   "id": "1e593cfd",
   "metadata": {
    "ExecuteTime": {
     "end_time": "2023-12-01T09:56:00.263317Z",
     "start_time": "2023-12-01T09:56:00.249624Z"
    }
   },
   "outputs": [
    {
     "name": "stdout",
     "output_type": "stream",
     "text": [
      "1\n",
      "3\n",
      "5\n",
      "7\n",
      "9\n",
      "11\n",
      "13\n",
      "15\n",
      "17\n",
      "19\n"
     ]
    }
   ],
   "source": [
    "for num in range(1,21,2):\n",
    "    print(num)"
   ]
  },
  {
   "cell_type": "code",
   "execution_count": 6,
   "id": "5f294bf9",
   "metadata": {
    "ExecuteTime": {
     "end_time": "2023-12-01T09:57:21.805718Z",
     "start_time": "2023-12-01T09:57:21.796002Z"
    }
   },
   "outputs": [
    {
     "data": {
      "text/plain": [
       "range(2, 10, 2)"
      ]
     },
     "execution_count": 6,
     "metadata": {},
     "output_type": "execute_result"
    }
   ],
   "source": [
    "range(2,10,2)"
   ]
  },
  {
   "cell_type": "code",
   "execution_count": 8,
   "id": "bb787bca",
   "metadata": {
    "ExecuteTime": {
     "end_time": "2023-12-01T09:58:09.139526Z",
     "start_time": "2023-12-01T09:58:09.129703Z"
    }
   },
   "outputs": [
    {
     "data": {
      "text/plain": [
       "[2, 3, 4, 5, 6, 7, 8, 9]"
      ]
     },
     "execution_count": 8,
     "metadata": {},
     "output_type": "execute_result"
    }
   ],
   "source": [
    "list(range(2,10))"
   ]
  },
  {
   "cell_type": "code",
   "execution_count": 9,
   "id": "9a1a11e5",
   "metadata": {
    "ExecuteTime": {
     "end_time": "2023-12-01T09:58:30.435839Z",
     "start_time": "2023-12-01T09:58:30.428298Z"
    }
   },
   "outputs": [
    {
     "data": {
      "text/plain": [
       "(2, 4, 6, 8, 10, 12)"
      ]
     },
     "execution_count": 9,
     "metadata": {},
     "output_type": "execute_result"
    }
   ],
   "source": [
    "tuple(range(2,13,2))"
   ]
  },
  {
   "cell_type": "code",
   "execution_count": 10,
   "id": "44d87d80",
   "metadata": {
    "ExecuteTime": {
     "end_time": "2023-12-01T09:58:49.997299Z",
     "start_time": "2023-12-01T09:58:49.991286Z"
    }
   },
   "outputs": [
    {
     "data": {
      "text/plain": [
       "{2, 4, 6, 8}"
      ]
     },
     "execution_count": 10,
     "metadata": {},
     "output_type": "execute_result"
    }
   ],
   "source": [
    "set(range(2,10,2))"
   ]
  },
  {
   "cell_type": "code",
   "execution_count": 11,
   "id": "600a8983",
   "metadata": {
    "ExecuteTime": {
     "end_time": "2023-12-01T09:59:04.643076Z",
     "start_time": "2023-12-01T09:59:04.628068Z"
    }
   },
   "outputs": [
    {
     "ename": "TypeError",
     "evalue": "cannot convert dictionary update sequence element #0 to a sequence",
     "output_type": "error",
     "traceback": [
      "\u001b[1;31m---------------------------------------------------------------------------\u001b[0m",
      "\u001b[1;31mTypeError\u001b[0m                                 Traceback (most recent call last)",
      "\u001b[1;32m~\\AppData\\Local\\Temp/ipykernel_17456/3362745149.py\u001b[0m in \u001b[0;36m<module>\u001b[1;34m\u001b[0m\n\u001b[1;32m----> 1\u001b[1;33m \u001b[0mdict\u001b[0m\u001b[1;33m(\u001b[0m\u001b[0mrange\u001b[0m\u001b[1;33m(\u001b[0m\u001b[1;36m2\u001b[0m\u001b[1;33m,\u001b[0m\u001b[1;36m10\u001b[0m\u001b[1;33m,\u001b[0m\u001b[1;36m2\u001b[0m\u001b[1;33m)\u001b[0m\u001b[1;33m)\u001b[0m\u001b[1;33m\u001b[0m\u001b[1;33m\u001b[0m\u001b[0m\n\u001b[0m",
      "\u001b[1;31mTypeError\u001b[0m: cannot convert dictionary update sequence element #0 to a sequence"
     ]
    }
   ],
   "source": [
    "dict(range(2,10,2)) "
   ]
  },
  {
   "cell_type": "code",
   "execution_count": 12,
   "id": "a5dd494c",
   "metadata": {
    "ExecuteTime": {
     "end_time": "2023-12-01T10:04:27.421087Z",
     "start_time": "2023-12-01T10:04:27.414686Z"
    }
   },
   "outputs": [
    {
     "name": "stdout",
     "output_type": "stream",
     "text": [
      "(0, 'a')\n",
      "(1, 'b')\n",
      "(2, 'c')\n",
      "(3, 'd')\n",
      "(4, 'e')\n"
     ]
    }
   ],
   "source": [
    "#enumerate\n",
    "word = 'abcde'\n",
    "for item in enumerate(word):\n",
    "    print(item)"
   ]
  },
  {
   "cell_type": "code",
   "execution_count": 14,
   "id": "ea9131b4",
   "metadata": {
    "ExecuteTime": {
     "end_time": "2023-12-01T10:06:13.518215Z",
     "start_time": "2023-12-01T10:06:13.509483Z"
    }
   },
   "outputs": [
    {
     "name": "stdout",
     "output_type": "stream",
     "text": [
      "0\n",
      "a\n",
      "\n",
      "\n",
      "1\n",
      "b\n",
      "\n",
      "\n",
      "2\n",
      "c\n",
      "\n",
      "\n",
      "3\n",
      "d\n",
      "\n",
      "\n",
      "4\n",
      "e\n",
      "\n",
      "\n"
     ]
    }
   ],
   "source": [
    "for index,letter in enumerate(word):\n",
    "    print(index)\n",
    "    print(letter)\n",
    "    print('\\n') "
   ]
  },
  {
   "cell_type": "code",
   "execution_count": 15,
   "id": "c8795810",
   "metadata": {
    "ExecuteTime": {
     "end_time": "2023-12-01T10:09:49.572638Z",
     "start_time": "2023-12-01T10:09:49.567334Z"
    }
   },
   "outputs": [],
   "source": [
    "#Zip\n",
    "mylist = [1,2,3]\n",
    "mylist1 = ['a','b','c']"
   ]
  },
  {
   "cell_type": "code",
   "execution_count": 16,
   "id": "fa47a2ab",
   "metadata": {
    "ExecuteTime": {
     "end_time": "2023-12-01T10:10:28.425435Z",
     "start_time": "2023-12-01T10:10:28.416379Z"
    }
   },
   "outputs": [
    {
     "name": "stdout",
     "output_type": "stream",
     "text": [
      "(1, 'a')\n",
      "(2, 'b')\n",
      "(3, 'c')\n"
     ]
    }
   ],
   "source": [
    "for item in zip(mylist,mylist1):\n",
    "    print(item)"
   ]
  },
  {
   "cell_type": "code",
   "execution_count": 17,
   "id": "40b1a603",
   "metadata": {
    "ExecuteTime": {
     "end_time": "2023-12-01T10:10:59.605916Z",
     "start_time": "2023-12-01T10:10:59.592100Z"
    }
   },
   "outputs": [
    {
     "data": {
      "text/plain": [
       "[(1, 'a'), (2, 'b'), (3, 'c')]"
      ]
     },
     "execution_count": 17,
     "metadata": {},
     "output_type": "execute_result"
    }
   ],
   "source": [
    "list(zip(mylist,mylist1))"
   ]
  },
  {
   "cell_type": "code",
   "execution_count": 18,
   "id": "d59c7bfd",
   "metadata": {
    "ExecuteTime": {
     "end_time": "2023-12-01T10:13:20.678534Z",
     "start_time": "2023-12-01T10:13:20.665039Z"
    }
   },
   "outputs": [
    {
     "data": {
      "text/plain": [
       "False"
      ]
     },
     "execution_count": 18,
     "metadata": {},
     "output_type": "execute_result"
    }
   ],
   "source": [
    "#in\n",
    "'x' in [1,2,3]"
   ]
  },
  {
   "cell_type": "code",
   "execution_count": 21,
   "id": "c83a4284",
   "metadata": {
    "ExecuteTime": {
     "end_time": "2023-12-01T10:14:04.926825Z",
     "start_time": "2023-12-01T10:14:04.919876Z"
    }
   },
   "outputs": [
    {
     "data": {
      "text/plain": [
       "True"
      ]
     },
     "execution_count": 21,
     "metadata": {},
     "output_type": "execute_result"
    }
   ],
   "source": [
    "'x' in ('a,b,x')"
   ]
  },
  {
   "cell_type": "code",
   "execution_count": 23,
   "id": "22654d59",
   "metadata": {
    "ExecuteTime": {
     "end_time": "2023-12-01T10:15:06.692378Z",
     "start_time": "2023-12-01T10:15:06.682682Z"
    }
   },
   "outputs": [
    {
     "data": {
      "text/plain": [
       "True"
      ]
     },
     "execution_count": 23,
     "metadata": {},
     "output_type": "execute_result"
    }
   ],
   "source": [
    "'mykeys' in {'mykeys':345}"
   ]
  },
  {
   "cell_type": "code",
   "execution_count": 25,
   "id": "d38fd0bb",
   "metadata": {
    "ExecuteTime": {
     "end_time": "2023-12-01T10:15:47.365063Z",
     "start_time": "2023-12-01T10:15:47.349322Z"
    }
   },
   "outputs": [
    {
     "data": {
      "text/plain": [
       "False"
      ]
     },
     "execution_count": 25,
     "metadata": {},
     "output_type": "execute_result"
    }
   ],
   "source": [
    "d = {'mykeys':345}\n",
    "\n",
    "345 in d.items()"
   ]
  },
  {
   "cell_type": "code",
   "execution_count": 26,
   "id": "9937ca4b",
   "metadata": {
    "ExecuteTime": {
     "end_time": "2023-12-01T10:16:02.837274Z",
     "start_time": "2023-12-01T10:16:02.826122Z"
    }
   },
   "outputs": [
    {
     "data": {
      "text/plain": [
       "True"
      ]
     },
     "execution_count": 26,
     "metadata": {},
     "output_type": "execute_result"
    }
   ],
   "source": [
    "345 in d.values()"
   ]
  },
  {
   "cell_type": "code",
   "execution_count": 28,
   "id": "11b749f7",
   "metadata": {
    "ExecuteTime": {
     "end_time": "2023-12-01T10:18:04.524603Z",
     "start_time": "2023-12-01T10:18:04.513995Z"
    }
   },
   "outputs": [],
   "source": [
    "#min and max \n",
    "mylist = [10,20,30,40,50,60,70]"
   ]
  },
  {
   "cell_type": "code",
   "execution_count": 29,
   "id": "cc49c866",
   "metadata": {
    "ExecuteTime": {
     "end_time": "2023-12-01T10:18:10.220183Z",
     "start_time": "2023-12-01T10:18:10.205920Z"
    }
   },
   "outputs": [
    {
     "data": {
      "text/plain": [
       "10"
      ]
     },
     "execution_count": 29,
     "metadata": {},
     "output_type": "execute_result"
    }
   ],
   "source": [
    "min(mylist)"
   ]
  },
  {
   "cell_type": "code",
   "execution_count": 30,
   "id": "bd07a4ed",
   "metadata": {
    "ExecuteTime": {
     "end_time": "2023-12-01T10:18:16.579050Z",
     "start_time": "2023-12-01T10:18:16.570627Z"
    }
   },
   "outputs": [
    {
     "data": {
      "text/plain": [
       "70"
      ]
     },
     "execution_count": 30,
     "metadata": {},
     "output_type": "execute_result"
    }
   ],
   "source": [
    "max(mylist)"
   ]
  },
  {
   "cell_type": "code",
   "execution_count": 31,
   "id": "835c0bc7",
   "metadata": {
    "ExecuteTime": {
     "end_time": "2023-12-01T10:20:21.298516Z",
     "start_time": "2023-12-01T10:20:21.289664Z"
    }
   },
   "outputs": [],
   "source": [
    "#random\n",
    "from random import shuffle"
   ]
  },
  {
   "cell_type": "code",
   "execution_count": 34,
   "id": "fb8f40e6",
   "metadata": {
    "ExecuteTime": {
     "end_time": "2023-12-01T10:20:59.294694Z",
     "start_time": "2023-12-01T10:20:59.280688Z"
    }
   },
   "outputs": [
    {
     "data": {
      "text/plain": [
       "[20, 60, 40, 30, 70, 10, 50]"
      ]
     },
     "execution_count": 34,
     "metadata": {},
     "output_type": "execute_result"
    }
   ],
   "source": [
    "\n",
    "(mylist)"
   ]
  },
  {
   "cell_type": "code",
   "execution_count": 35,
   "id": "219b07b8",
   "metadata": {
    "ExecuteTime": {
     "end_time": "2023-12-01T10:21:03.911473Z",
     "start_time": "2023-12-01T10:21:03.900574Z"
    }
   },
   "outputs": [
    {
     "data": {
      "text/plain": [
       "[20, 60, 40, 30, 70, 10, 50]"
      ]
     },
     "execution_count": 35,
     "metadata": {},
     "output_type": "execute_result"
    }
   ],
   "source": [
    "mylist"
   ]
  },
  {
   "cell_type": "code",
   "execution_count": 36,
   "id": "91d490e5",
   "metadata": {
    "ExecuteTime": {
     "end_time": "2023-12-01T10:21:08.705608Z",
     "start_time": "2023-12-01T10:21:08.696677Z"
    }
   },
   "outputs": [
    {
     "data": {
      "text/plain": [
       "[20, 60, 40, 30, 70, 10, 50]"
      ]
     },
     "execution_count": 36,
     "metadata": {},
     "output_type": "execute_result"
    }
   ],
   "source": [
    "mylist"
   ]
  },
  {
   "cell_type": "code",
   "execution_count": 37,
   "id": "3a96cbaf",
   "metadata": {
    "ExecuteTime": {
     "end_time": "2023-12-01T10:21:32.314733Z",
     "start_time": "2023-12-01T10:21:32.309158Z"
    }
   },
   "outputs": [],
   "source": [
    "shuffle(mylist)"
   ]
  },
  {
   "cell_type": "code",
   "execution_count": 38,
   "id": "ad11bdad",
   "metadata": {
    "ExecuteTime": {
     "end_time": "2023-12-01T10:21:35.292688Z",
     "start_time": "2023-12-01T10:21:35.285203Z"
    }
   },
   "outputs": [
    {
     "data": {
      "text/plain": [
       "[50, 20, 60, 70, 40, 10, 30]"
      ]
     },
     "execution_count": 38,
     "metadata": {},
     "output_type": "execute_result"
    }
   ],
   "source": [
    "mylist"
   ]
  },
  {
   "cell_type": "code",
   "execution_count": 39,
   "id": "f392e62c",
   "metadata": {
    "ExecuteTime": {
     "end_time": "2023-12-01T10:22:43.823857Z",
     "start_time": "2023-12-01T10:22:43.814041Z"
    }
   },
   "outputs": [],
   "source": [
    "from random import randint"
   ]
  },
  {
   "cell_type": "code",
   "execution_count": 40,
   "id": "5c66b72f",
   "metadata": {
    "ExecuteTime": {
     "end_time": "2023-12-01T10:22:52.274036Z",
     "start_time": "2023-12-01T10:22:52.260078Z"
    }
   },
   "outputs": [
    {
     "data": {
      "text/plain": [
       "99"
      ]
     },
     "execution_count": 40,
     "metadata": {},
     "output_type": "execute_result"
    }
   ],
   "source": [
    "randint(1,100)"
   ]
  },
  {
   "cell_type": "code",
   "execution_count": 41,
   "id": "8c3c49f0",
   "metadata": {
    "ExecuteTime": {
     "end_time": "2023-12-01T10:23:05.089265Z",
     "start_time": "2023-12-01T10:23:05.080108Z"
    }
   },
   "outputs": [
    {
     "data": {
      "text/plain": [
       "93"
      ]
     },
     "execution_count": 41,
     "metadata": {},
     "output_type": "execute_result"
    }
   ],
   "source": [
    "randint(1,100)"
   ]
  },
  {
   "cell_type": "code",
   "execution_count": 42,
   "id": "6a7bdb5e",
   "metadata": {
    "ExecuteTime": {
     "end_time": "2023-12-01T10:23:21.316423Z",
     "start_time": "2023-12-01T10:23:21.308602Z"
    }
   },
   "outputs": [],
   "source": [
    "mynum = randint(1,10)"
   ]
  },
  {
   "cell_type": "code",
   "execution_count": 43,
   "id": "7f458b62",
   "metadata": {
    "ExecuteTime": {
     "end_time": "2023-12-01T10:23:24.290257Z",
     "start_time": "2023-12-01T10:23:24.282877Z"
    }
   },
   "outputs": [
    {
     "data": {
      "text/plain": [
       "7"
      ]
     },
     "execution_count": 43,
     "metadata": {},
     "output_type": "execute_result"
    }
   ],
   "source": [
    "mynum"
   ]
  },
  {
   "cell_type": "code",
   "execution_count": 44,
   "id": "f401048b",
   "metadata": {
    "ExecuteTime": {
     "end_time": "2023-12-01T10:23:28.488755Z",
     "start_time": "2023-12-01T10:23:28.480647Z"
    }
   },
   "outputs": [
    {
     "data": {
      "text/plain": [
       "7"
      ]
     },
     "execution_count": 44,
     "metadata": {},
     "output_type": "execute_result"
    }
   ],
   "source": [
    "mynum"
   ]
  },
  {
   "cell_type": "code",
   "execution_count": 45,
   "id": "0720091a",
   "metadata": {
    "ExecuteTime": {
     "end_time": "2023-12-01T10:27:55.954143Z",
     "start_time": "2023-12-01T10:27:55.947732Z"
    }
   },
   "outputs": [],
   "source": [
    "#input"
   ]
  },
  {
   "cell_type": "code",
   "execution_count": 48,
   "id": "e632d821",
   "metadata": {
    "ExecuteTime": {
     "end_time": "2023-12-01T10:29:12.178990Z",
     "start_time": "2023-12-01T10:29:04.122260Z"
    }
   },
   "outputs": [
    {
     "name": "stdout",
     "output_type": "stream",
     "text": [
      "What is your name?Nikhil \n"
     ]
    }
   ],
   "source": [
    "result = input('What is your name?')"
   ]
  },
  {
   "cell_type": "code",
   "execution_count": 50,
   "id": "709da1d3",
   "metadata": {
    "ExecuteTime": {
     "end_time": "2023-12-01T10:29:18.696117Z",
     "start_time": "2023-12-01T10:29:18.688106Z"
    }
   },
   "outputs": [
    {
     "data": {
      "text/plain": [
       "'Nikhil '"
      ]
     },
     "execution_count": 50,
     "metadata": {},
     "output_type": "execute_result"
    }
   ],
   "source": [
    "result"
   ]
  },
  {
   "cell_type": "code",
   "execution_count": null,
   "id": "5bf44cb7",
   "metadata": {},
   "outputs": [],
   "source": []
  }
 ],
 "metadata": {
  "kernelspec": {
   "display_name": "Python 3 (ipykernel)",
   "language": "python",
   "name": "python3"
  },
  "language_info": {
   "codemirror_mode": {
    "name": "ipython",
    "version": 3
   },
   "file_extension": ".py",
   "mimetype": "text/x-python",
   "name": "python",
   "nbconvert_exporter": "python",
   "pygments_lexer": "ipython3",
   "version": "3.9.7"
  },
  "varInspector": {
   "cols": {
    "lenName": 16,
    "lenType": 16,
    "lenVar": 40
   },
   "kernels_config": {
    "python": {
     "delete_cmd_postfix": "",
     "delete_cmd_prefix": "del ",
     "library": "var_list.py",
     "varRefreshCmd": "print(var_dic_list())"
    },
    "r": {
     "delete_cmd_postfix": ") ",
     "delete_cmd_prefix": "rm(",
     "library": "var_list.r",
     "varRefreshCmd": "cat(var_dic_list()) "
    }
   },
   "types_to_exclude": [
    "module",
    "function",
    "builtin_function_or_method",
    "instance",
    "_Feature"
   ],
   "window_display": false
  }
 },
 "nbformat": 4,
 "nbformat_minor": 5
}
