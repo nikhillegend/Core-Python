{
 "cells": [
  {
   "cell_type": "code",
   "execution_count": 1,
   "id": "de34d830",
   "metadata": {
    "ExecuteTime": {
     "end_time": "2023-12-01T10:52:25.272685Z",
     "start_time": "2023-12-01T10:52:25.258872Z"
    }
   },
   "outputs": [],
   "source": [
    "mystring = 'Hello'"
   ]
  },
  {
   "cell_type": "code",
   "execution_count": 3,
   "id": "35dd262f",
   "metadata": {
    "ExecuteTime": {
     "end_time": "2023-12-01T10:53:29.862239Z",
     "start_time": "2023-12-01T10:53:29.844158Z"
    }
   },
   "outputs": [],
   "source": [
    "mylist = []\n",
    "\n",
    "for letter in mystring:\n",
    "    mylist.append(letter)"
   ]
  },
  {
   "cell_type": "code",
   "execution_count": 4,
   "id": "f78247bf",
   "metadata": {
    "ExecuteTime": {
     "end_time": "2023-12-01T10:53:57.524043Z",
     "start_time": "2023-12-01T10:53:57.511345Z"
    }
   },
   "outputs": [
    {
     "data": {
      "text/plain": [
       "['H', 'e', 'l', 'l', 'o']"
      ]
     },
     "execution_count": 4,
     "metadata": {},
     "output_type": "execute_result"
    }
   ],
   "source": [
    "mylist"
   ]
  },
  {
   "cell_type": "code",
   "execution_count": 7,
   "id": "24dd3dc1",
   "metadata": {
    "ExecuteTime": {
     "end_time": "2023-12-01T10:55:35.543781Z",
     "start_time": "2023-12-01T10:55:35.531406Z"
    }
   },
   "outputs": [
    {
     "data": {
      "text/plain": [
       "['H', 'e', 'l', 'l', 'o']"
      ]
     },
     "execution_count": 7,
     "metadata": {},
     "output_type": "execute_result"
    }
   ],
   "source": [
    "happy = [letter for letter in mystring]\n",
    "happy"
   ]
  },
  {
   "cell_type": "code",
   "execution_count": 8,
   "id": "38f86e60",
   "metadata": {
    "ExecuteTime": {
     "end_time": "2023-12-01T10:55:36.753300Z",
     "start_time": "2023-12-01T10:55:36.745290Z"
    }
   },
   "outputs": [
    {
     "data": {
      "text/plain": [
       "['H', 'e', 'l', 'l', 'o']"
      ]
     },
     "execution_count": 8,
     "metadata": {},
     "output_type": "execute_result"
    }
   ],
   "source": [
    "mylist = [x for x in mystring]\n",
    "mylist"
   ]
  },
  {
   "cell_type": "code",
   "execution_count": 9,
   "id": "1c3c47b3",
   "metadata": {
    "ExecuteTime": {
     "end_time": "2023-12-01T10:56:13.669964Z",
     "start_time": "2023-12-01T10:56:13.666461Z"
    }
   },
   "outputs": [],
   "source": [
    "mylist = [x for x in 'myworld']"
   ]
  },
  {
   "cell_type": "code",
   "execution_count": 10,
   "id": "93e898f8",
   "metadata": {
    "ExecuteTime": {
     "end_time": "2023-12-01T10:56:16.276749Z",
     "start_time": "2023-12-01T10:56:16.266724Z"
    }
   },
   "outputs": [
    {
     "data": {
      "text/plain": [
       "['m', 'y', 'w', 'o', 'r', 'l', 'd']"
      ]
     },
     "execution_count": 10,
     "metadata": {},
     "output_type": "execute_result"
    }
   ],
   "source": [
    "mylist"
   ]
  },
  {
   "cell_type": "code",
   "execution_count": 11,
   "id": "36e1e7c6",
   "metadata": {
    "ExecuteTime": {
     "end_time": "2023-12-01T10:57:12.390794Z",
     "start_time": "2023-12-01T10:57:12.381819Z"
    }
   },
   "outputs": [
    {
     "data": {
      "text/plain": [
       "[0, 1, 2, 3, 4, 5, 6, 7, 8, 9, 10]"
      ]
     },
     "execution_count": 11,
     "metadata": {},
     "output_type": "execute_result"
    }
   ],
   "source": [
    "mylist = [num for num in range(0,11)]\n",
    "mylist"
   ]
  },
  {
   "cell_type": "code",
   "execution_count": 12,
   "id": "6cb4fc48",
   "metadata": {
    "ExecuteTime": {
     "end_time": "2023-12-01T10:57:28.692487Z",
     "start_time": "2023-12-01T10:57:28.681049Z"
    }
   },
   "outputs": [
    {
     "data": {
      "text/plain": [
       "[0, 1, 4, 9, 16, 25, 36, 49, 64, 81, 100]"
      ]
     },
     "execution_count": 12,
     "metadata": {},
     "output_type": "execute_result"
    }
   ],
   "source": [
    "mylist = [num**2 for num in range(0,11)]\n",
    "mylist"
   ]
  },
  {
   "cell_type": "code",
   "execution_count": 14,
   "id": "fbedcba1",
   "metadata": {
    "ExecuteTime": {
     "end_time": "2023-12-01T11:00:37.882451Z",
     "start_time": "2023-12-01T11:00:37.875761Z"
    }
   },
   "outputs": [
    {
     "data": {
      "text/plain": [
       "[0, 2, 4, 6, 8, 10]"
      ]
     },
     "execution_count": 14,
     "metadata": {},
     "output_type": "execute_result"
    }
   ],
   "source": [
    "mylist = [num for num in range(0,11) if num%2==0]\n",
    "mylist"
   ]
  },
  {
   "cell_type": "code",
   "execution_count": 15,
   "id": "032ad0ad",
   "metadata": {
    "ExecuteTime": {
     "end_time": "2023-12-01T11:00:59.286466Z",
     "start_time": "2023-12-01T11:00:59.271095Z"
    }
   },
   "outputs": [
    {
     "data": {
      "text/plain": [
       "[0, 4, 16, 36, 64, 100]"
      ]
     },
     "execution_count": 15,
     "metadata": {},
     "output_type": "execute_result"
    }
   ],
   "source": [
    "mylist = [num**2 for num in range(0,11) if num%2==0]\n",
    "mylist"
   ]
  },
  {
   "cell_type": "code",
   "execution_count": 19,
   "id": "b8c6fa09",
   "metadata": {
    "ExecuteTime": {
     "end_time": "2023-12-01T11:03:28.958521Z",
     "start_time": "2023-12-01T11:03:28.953132Z"
    }
   },
   "outputs": [],
   "source": [
    "celcius = [0,10,20,34.5]\n",
    "\n",
    "fahrenheit = [( (9/5)*temp +32) for temp in celcius]"
   ]
  },
  {
   "cell_type": "code",
   "execution_count": 20,
   "id": "32f71925",
   "metadata": {
    "ExecuteTime": {
     "end_time": "2023-12-01T11:03:29.389325Z",
     "start_time": "2023-12-01T11:03:29.378667Z"
    }
   },
   "outputs": [
    {
     "data": {
      "text/plain": [
       "[32.0, 50.0, 68.0, 94.1]"
      ]
     },
     "execution_count": 20,
     "metadata": {},
     "output_type": "execute_result"
    }
   ],
   "source": [
    "fahrenheit"
   ]
  },
  {
   "cell_type": "code",
   "execution_count": 21,
   "id": "2fcf377d",
   "metadata": {
    "ExecuteTime": {
     "end_time": "2023-12-01T11:07:07.446422Z",
     "start_time": "2023-12-01T11:07:07.433660Z"
    }
   },
   "outputs": [],
   "source": [
    "result = [x if x%2==0 else 'ODD' for x in range(0,11)]"
   ]
  },
  {
   "cell_type": "code",
   "execution_count": 22,
   "id": "decfbe8c",
   "metadata": {
    "ExecuteTime": {
     "end_time": "2023-12-01T11:07:10.497022Z",
     "start_time": "2023-12-01T11:07:10.487935Z"
    }
   },
   "outputs": [
    {
     "data": {
      "text/plain": [
       "[0, 'ODD', 2, 'ODD', 4, 'ODD', 6, 'ODD', 8, 'ODD', 10]"
      ]
     },
     "execution_count": 22,
     "metadata": {},
     "output_type": "execute_result"
    }
   ],
   "source": [
    "result"
   ]
  },
  {
   "cell_type": "code",
   "execution_count": 23,
   "id": "505320b6",
   "metadata": {
    "ExecuteTime": {
     "end_time": "2023-12-01T11:09:58.902749Z",
     "start_time": "2023-12-01T11:09:58.884644Z"
    }
   },
   "outputs": [],
   "source": [
    "mylist = []\n",
    "\n",
    "for x in [1,2,3]:\n",
    "    for y in [1,10,100]:\n",
    "        mylist.append(x*y)"
   ]
  },
  {
   "cell_type": "code",
   "execution_count": 24,
   "id": "00c61aba",
   "metadata": {
    "ExecuteTime": {
     "end_time": "2023-12-01T11:10:02.304362Z",
     "start_time": "2023-12-01T11:10:02.298298Z"
    }
   },
   "outputs": [
    {
     "data": {
      "text/plain": [
       "[1, 10, 100, 2, 20, 200, 3, 30, 300]"
      ]
     },
     "execution_count": 24,
     "metadata": {},
     "output_type": "execute_result"
    }
   ],
   "source": [
    "mylist"
   ]
  },
  {
   "cell_type": "code",
   "execution_count": 25,
   "id": "bb229032",
   "metadata": {
    "ExecuteTime": {
     "end_time": "2023-12-01T11:10:51.776135Z",
     "start_time": "2023-12-01T11:10:51.770224Z"
    }
   },
   "outputs": [],
   "source": [
    "mylist = [x*y for x in [1,2,3] for y in [1,10,100]]"
   ]
  },
  {
   "cell_type": "code",
   "execution_count": 26,
   "id": "8ecd2e84",
   "metadata": {
    "ExecuteTime": {
     "end_time": "2023-12-01T11:10:54.261822Z",
     "start_time": "2023-12-01T11:10:54.247642Z"
    }
   },
   "outputs": [
    {
     "data": {
      "text/plain": [
       "[1, 10, 100, 2, 20, 200, 3, 30, 300]"
      ]
     },
     "execution_count": 26,
     "metadata": {},
     "output_type": "execute_result"
    }
   ],
   "source": [
    "mylist"
   ]
  },
  {
   "cell_type": "code",
   "execution_count": null,
   "id": "4b6d41e8",
   "metadata": {},
   "outputs": [],
   "source": []
  }
 ],
 "metadata": {
  "kernelspec": {
   "display_name": "Python 3 (ipykernel)",
   "language": "python",
   "name": "python3"
  },
  "language_info": {
   "codemirror_mode": {
    "name": "ipython",
    "version": 3
   },
   "file_extension": ".py",
   "mimetype": "text/x-python",
   "name": "python",
   "nbconvert_exporter": "python",
   "pygments_lexer": "ipython3",
   "version": "3.9.7"
  },
  "varInspector": {
   "cols": {
    "lenName": 16,
    "lenType": 16,
    "lenVar": 40
   },
   "kernels_config": {
    "python": {
     "delete_cmd_postfix": "",
     "delete_cmd_prefix": "del ",
     "library": "var_list.py",
     "varRefreshCmd": "print(var_dic_list())"
    },
    "r": {
     "delete_cmd_postfix": ") ",
     "delete_cmd_prefix": "rm(",
     "library": "var_list.r",
     "varRefreshCmd": "cat(var_dic_list()) "
    }
   },
   "types_to_exclude": [
    "module",
    "function",
    "builtin_function_or_method",
    "instance",
    "_Feature"
   ],
   "window_display": false
  }
 },
 "nbformat": 4,
 "nbformat_minor": 5
}
