{
 "cells": [
  {
   "cell_type": "code",
   "execution_count": 1,
   "id": "baed7836",
   "metadata": {
    "ExecuteTime": {
     "end_time": "2023-12-11T11:02:21.141379Z",
     "start_time": "2023-12-11T11:02:21.133495Z"
    }
   },
   "outputs": [],
   "source": [
    "def add(n1,n2):\n",
    "    print(n1+n2)"
   ]
  },
  {
   "cell_type": "code",
   "execution_count": 2,
   "id": "1e12f5e6",
   "metadata": {
    "ExecuteTime": {
     "end_time": "2023-12-11T11:02:27.023722Z",
     "start_time": "2023-12-11T11:02:27.013150Z"
    }
   },
   "outputs": [
    {
     "name": "stdout",
     "output_type": "stream",
     "text": [
      "40\n"
     ]
    }
   ],
   "source": [
    "add(10,30)"
   ]
  },
  {
   "cell_type": "code",
   "execution_count": 3,
   "id": "32a9267f",
   "metadata": {
    "ExecuteTime": {
     "end_time": "2023-12-11T11:02:37.766381Z",
     "start_time": "2023-12-11T11:02:37.760229Z"
    }
   },
   "outputs": [],
   "source": [
    "num1 = 10"
   ]
  },
  {
   "cell_type": "code",
   "execution_count": 4,
   "id": "fd61f87d",
   "metadata": {
    "ExecuteTime": {
     "end_time": "2023-12-11T11:03:05.790143Z",
     "start_time": "2023-12-11T11:03:02.942854Z"
    }
   },
   "outputs": [
    {
     "name": "stdout",
     "output_type": "stream",
     "text": [
      "Please provide the nmuber: 20\n"
     ]
    }
   ],
   "source": [
    "num2 = input(\"Please provide the nmuber: \")"
   ]
  },
  {
   "cell_type": "code",
   "execution_count": 5,
   "id": "5f5f93f8",
   "metadata": {
    "ExecuteTime": {
     "end_time": "2023-12-11T11:03:18.728335Z",
     "start_time": "2023-12-11T11:03:18.530897Z"
    }
   },
   "outputs": [
    {
     "ename": "TypeError",
     "evalue": "unsupported operand type(s) for +: 'int' and 'str'",
     "output_type": "error",
     "traceback": [
      "\u001b[1;31m---------------------------------------------------------------------------\u001b[0m",
      "\u001b[1;31mTypeError\u001b[0m                                 Traceback (most recent call last)",
      "\u001b[1;32m~\\AppData\\Local\\Temp/ipykernel_14840/2994335220.py\u001b[0m in \u001b[0;36m<module>\u001b[1;34m\u001b[0m\n\u001b[1;32m----> 1\u001b[1;33m \u001b[0madd\u001b[0m\u001b[1;33m(\u001b[0m\u001b[0mnum1\u001b[0m\u001b[1;33m+\u001b[0m\u001b[0mnum2\u001b[0m\u001b[1;33m)\u001b[0m\u001b[1;33m\u001b[0m\u001b[1;33m\u001b[0m\u001b[0m\n\u001b[0m",
      "\u001b[1;31mTypeError\u001b[0m: unsupported operand type(s) for +: 'int' and 'str'"
     ]
    }
   ],
   "source": [
    "add(num1+num2)"
   ]
  },
  {
   "cell_type": "code",
   "execution_count": 6,
   "id": "1d918b0a",
   "metadata": {
    "ExecuteTime": {
     "end_time": "2023-12-11T11:04:32.471683Z",
     "start_time": "2023-12-11T11:04:32.455915Z"
    }
   },
   "outputs": [],
   "source": [
    "try:\n",
    "    result = 10 +20\n",
    "except:\n",
    "    print(\"Hey it's look likes you are not adding Correctly!\")"
   ]
  },
  {
   "cell_type": "code",
   "execution_count": 7,
   "id": "8fe66d3f",
   "metadata": {
    "ExecuteTime": {
     "end_time": "2023-12-11T11:04:35.816979Z",
     "start_time": "2023-12-11T11:04:35.797305Z"
    }
   },
   "outputs": [
    {
     "data": {
      "text/plain": [
       "30"
      ]
     },
     "execution_count": 7,
     "metadata": {},
     "output_type": "execute_result"
    }
   ],
   "source": [
    "result"
   ]
  },
  {
   "cell_type": "code",
   "execution_count": 8,
   "id": "3aec8a71",
   "metadata": {
    "ExecuteTime": {
     "end_time": "2023-12-11T11:04:51.084123Z",
     "start_time": "2023-12-11T11:04:51.077173Z"
    }
   },
   "outputs": [
    {
     "name": "stdout",
     "output_type": "stream",
     "text": [
      "Hey it's look likes you are not adding Correctly!\n"
     ]
    }
   ],
   "source": [
    "try:\n",
    "    result = 10 +'20'\n",
    "except:\n",
    "    print(\"Hey it's look likes you are not adding Correctly!\")"
   ]
  },
  {
   "cell_type": "code",
   "execution_count": 9,
   "id": "c76b0c24",
   "metadata": {
    "ExecuteTime": {
     "end_time": "2023-12-11T11:05:31.374233Z",
     "start_time": "2023-12-11T11:05:31.359084Z"
    }
   },
   "outputs": [
    {
     "name": "stdout",
     "output_type": "stream",
     "text": [
      "Hey it's look likes you are not adding Correctly!\n"
     ]
    }
   ],
   "source": [
    "try:\n",
    "    result = 10 +'20'\n",
    "except:\n",
    "    print(\"Hey it's look likes you are not adding Correctly!\")\n",
    "else:\n",
    "    print(\"Add went well!\")\n",
    "    print(result)\n",
    "    "
   ]
  },
  {
   "cell_type": "code",
   "execution_count": 10,
   "id": "0bf7eb4c",
   "metadata": {
    "ExecuteTime": {
     "end_time": "2023-12-11T11:05:46.578427Z",
     "start_time": "2023-12-11T11:05:46.566477Z"
    }
   },
   "outputs": [
    {
     "name": "stdout",
     "output_type": "stream",
     "text": [
      "Add went well!\n",
      "30\n"
     ]
    }
   ],
   "source": [
    "try:\n",
    "    result = 10 +20\n",
    "except:\n",
    "    print(\"Hey it's look likes you are not adding Correctly!\")\n",
    "else:\n",
    "    print(\"Add went well!\")\n",
    "    print(result)"
   ]
  },
  {
   "cell_type": "code",
   "execution_count": 12,
   "id": "f9e6f142",
   "metadata": {
    "ExecuteTime": {
     "end_time": "2023-12-11T11:12:01.451453Z",
     "start_time": "2023-12-11T11:12:01.446079Z"
    }
   },
   "outputs": [
    {
     "name": "stdout",
     "output_type": "stream",
     "text": [
      "All others exceptions\n",
      "I always run\n"
     ]
    }
   ],
   "source": [
    "try:\n",
    "    f = open('testfile','r')\n",
    "    f.write(\"Write a test line\")\n",
    "except TypeError:\n",
    "    print(\"There was a typeerror!\")\n",
    "except:\n",
    "    print(\"All others exceptions\")\n",
    "finally:\n",
    "    print(\"I always run\")"
   ]
  },
  {
   "cell_type": "code",
   "execution_count": 13,
   "id": "b9eb3f98",
   "metadata": {
    "ExecuteTime": {
     "end_time": "2023-12-11T11:13:14.038574Z",
     "start_time": "2023-12-11T11:13:14.030956Z"
    }
   },
   "outputs": [
    {
     "name": "stdout",
     "output_type": "stream",
     "text": [
      "I always run\n"
     ]
    }
   ],
   "source": [
    "try:\n",
    "    f = open('testfile','w')\n",
    "    f.write(\"Write a test line\")\n",
    "except TypeError:\n",
    "    print(\"There was a typeerror!\")\n",
    "except:\n",
    "    print(\"All others exceptions\")\n",
    "finally:\n",
    "    print(\"I always run\")"
   ]
  },
  {
   "cell_type": "code",
   "execution_count": 14,
   "id": "98ea3f9d",
   "metadata": {
    "ExecuteTime": {
     "end_time": "2023-12-11T11:17:15.354377Z",
     "start_time": "2023-12-11T11:17:15.343732Z"
    }
   },
   "outputs": [],
   "source": [
    "def ask_for_int():\n",
    "    try:\n",
    "        result = int(input(\"Please provide the number \"))\n",
    "    except:\n",
    "        print(\"Whops! That is not a number\")\n",
    "    finally:\n",
    "        print(\"End of try/except/finally\")"
   ]
  },
  {
   "cell_type": "code",
   "execution_count": 15,
   "id": "9166bcec",
   "metadata": {
    "ExecuteTime": {
     "end_time": "2023-12-11T11:17:27.205890Z",
     "start_time": "2023-12-11T11:17:22.344998Z"
    }
   },
   "outputs": [
    {
     "name": "stdout",
     "output_type": "stream",
     "text": [
      "Please provide the number 30\n",
      "End of try/except/finally\n"
     ]
    }
   ],
   "source": [
    "ask_for_int()"
   ]
  },
  {
   "cell_type": "code",
   "execution_count": 16,
   "id": "5c12dcc1",
   "metadata": {
    "ExecuteTime": {
     "end_time": "2023-12-11T11:17:39.457351Z",
     "start_time": "2023-12-11T11:17:35.984893Z"
    }
   },
   "outputs": [
    {
     "name": "stdout",
     "output_type": "stream",
     "text": [
      "Please provide the number word\n",
      "Whops! That is not a number\n",
      "End of try/except/finally\n"
     ]
    }
   ],
   "source": [
    "ask_for_int()"
   ]
  },
  {
   "cell_type": "code",
   "execution_count": 20,
   "id": "7f5bb81c",
   "metadata": {
    "ExecuteTime": {
     "end_time": "2023-12-11T11:23:18.124619Z",
     "start_time": "2023-12-11T11:23:18.117040Z"
    }
   },
   "outputs": [],
   "source": [
    "def ask_for_int():\n",
    "    while True:\n",
    "        try:\n",
    "            result = int(input(\"Please provide the number: \"))\n",
    "        except:\n",
    "            print(\"Whops! That is not a number\")\n",
    "            continue\n",
    "        else:\n",
    "            print(\"Yes thank you\")\n",
    "            break\n",
    "        finally:\n",
    "            print(\"End of try/except/finally\")\n",
    "            print(\"I will always run at the end!\")"
   ]
  },
  {
   "cell_type": "code",
   "execution_count": 21,
   "id": "0b2373a3",
   "metadata": {
    "ExecuteTime": {
     "end_time": "2023-12-11T11:23:21.098476Z",
     "start_time": "2023-12-11T11:23:18.542526Z"
    }
   },
   "outputs": [
    {
     "name": "stdout",
     "output_type": "stream",
     "text": [
      "Please provide the number: 20\n",
      "Yes thank you\n",
      "End of try/except/finally\n",
      "I will always run at the end!\n"
     ]
    }
   ],
   "source": [
    "ask_for_int()"
   ]
  },
  {
   "cell_type": "code",
   "execution_count": 22,
   "id": "8ae419c2",
   "metadata": {
    "ExecuteTime": {
     "end_time": "2023-12-11T11:23:54.641237Z",
     "start_time": "2023-12-11T11:23:22.740240Z"
    }
   },
   "outputs": [
    {
     "name": "stdout",
     "output_type": "stream",
     "text": [
      "Please provide the number: nik\n",
      "Whops! That is not a number\n",
      "End of try/except/finally\n",
      "I will always run at the end!\n",
      "Please provide the number: 8g\n",
      "Whops! That is not a number\n",
      "End of try/except/finally\n",
      "I will always run at the end!\n",
      "Please provide the number: 1\n",
      "Yes thank you\n",
      "End of try/except/finally\n",
      "I will always run at the end!\n"
     ]
    }
   ],
   "source": [
    "ask_for_int()"
   ]
  },
  {
   "cell_type": "code",
   "execution_count": null,
   "id": "e7bac969",
   "metadata": {},
   "outputs": [],
   "source": []
  }
 ],
 "metadata": {
  "kernelspec": {
   "display_name": "Python 3 (ipykernel)",
   "language": "python",
   "name": "python3"
  },
  "language_info": {
   "codemirror_mode": {
    "name": "ipython",
    "version": 3
   },
   "file_extension": ".py",
   "mimetype": "text/x-python",
   "name": "python",
   "nbconvert_exporter": "python",
   "pygments_lexer": "ipython3",
   "version": "3.9.7"
  },
  "varInspector": {
   "cols": {
    "lenName": 16,
    "lenType": 16,
    "lenVar": 40
   },
   "kernels_config": {
    "python": {
     "delete_cmd_postfix": "",
     "delete_cmd_prefix": "del ",
     "library": "var_list.py",
     "varRefreshCmd": "print(var_dic_list())"
    },
    "r": {
     "delete_cmd_postfix": ") ",
     "delete_cmd_prefix": "rm(",
     "library": "var_list.r",
     "varRefreshCmd": "cat(var_dic_list()) "
    }
   },
   "types_to_exclude": [
    "module",
    "function",
    "builtin_function_or_method",
    "instance",
    "_Feature"
   ],
   "window_display": false
  }
 },
 "nbformat": 4,
 "nbformat_minor": 5
}
