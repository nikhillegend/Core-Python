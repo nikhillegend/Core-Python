{
 "cells": [
  {
   "cell_type": "code",
   "execution_count": 1,
   "id": "b762747e",
   "metadata": {
    "ExecuteTime": {
     "end_time": "2023-11-14T06:06:46.053062Z",
     "start_time": "2023-11-14T06:06:46.042065Z"
    }
   },
   "outputs": [
    {
     "data": {
      "text/plain": [
       "'Hello World'"
      ]
     },
     "execution_count": 1,
     "metadata": {},
     "output_type": "execute_result"
    }
   ],
   "source": [
    "#Single qoute\n",
    "'Hello World'"
   ]
  },
  {
   "cell_type": "code",
   "execution_count": 3,
   "id": "9d45fb7e",
   "metadata": {
    "ExecuteTime": {
     "end_time": "2023-11-14T06:07:30.346496Z",
     "start_time": "2023-11-14T06:07:30.333496Z"
    }
   },
   "outputs": [
    {
     "data": {
      "text/plain": [
       "\"I'm Hungry\""
      ]
     },
     "execution_count": 3,
     "metadata": {},
     "output_type": "execute_result"
    }
   ],
   "source": [
    "#Double qoute\n",
    "\"I'm Hungry\""
   ]
  },
  {
   "cell_type": "code",
   "execution_count": 4,
   "id": "d6001acd",
   "metadata": {
    "ExecuteTime": {
     "end_time": "2023-11-14T06:07:41.446980Z",
     "start_time": "2023-11-14T06:07:41.434766Z"
    }
   },
   "outputs": [
    {
     "data": {
      "text/plain": [
       "\"I'm going outside\""
      ]
     },
     "execution_count": 4,
     "metadata": {},
     "output_type": "execute_result"
    }
   ],
   "source": [
    "\"I'm going outside\""
   ]
  },
  {
   "cell_type": "code",
   "execution_count": 5,
   "id": "f1934c9e",
   "metadata": {
    "ExecuteTime": {
     "end_time": "2023-11-14T06:08:25.310145Z",
     "start_time": "2023-11-14T06:08:25.291576Z"
    }
   },
   "outputs": [
    {
     "data": {
      "text/plain": [
       "\"I'm going for a ride\""
      ]
     },
     "execution_count": 5,
     "metadata": {},
     "output_type": "execute_result"
    }
   ],
   "source": [
    "\"I'm going for a ride\""
   ]
  },
  {
   "cell_type": "code",
   "execution_count": 6,
   "id": "7cd3059a",
   "metadata": {
    "ExecuteTime": {
     "end_time": "2023-11-14T06:12:15.903013Z",
     "start_time": "2023-11-14T06:12:15.891756Z"
    }
   },
   "outputs": [
    {
     "name": "stdout",
     "output_type": "stream",
     "text": [
      "Hello World\n"
     ]
    }
   ],
   "source": [
    "##Printing String\n",
    "print(\"Hello World\")"
   ]
  },
  {
   "cell_type": "code",
   "execution_count": 7,
   "id": "78bb8853",
   "metadata": {
    "ExecuteTime": {
     "end_time": "2023-11-14T06:12:37.522685Z",
     "start_time": "2023-11-14T06:12:37.516866Z"
    }
   },
   "outputs": [
    {
     "name": "stdout",
     "output_type": "stream",
     "text": [
      "Hello World\n",
      "Hello World\n"
     ]
    }
   ],
   "source": [
    "print(\"Hello World\")\n",
    "print(\"Hello World\")"
   ]
  },
  {
   "cell_type": "code",
   "execution_count": 8,
   "id": "fdfb81ec",
   "metadata": {
    "ExecuteTime": {
     "end_time": "2023-11-14T06:13:17.391130Z",
     "start_time": "2023-11-14T06:13:17.383014Z"
    }
   },
   "outputs": [
    {
     "name": "stdout",
     "output_type": "stream",
     "text": [
      "Hello World1 \n",
      " Hello World2\n"
     ]
    }
   ],
   "source": [
    "print(\"Hello World1 \\n Hello World2\")"
   ]
  },
  {
   "cell_type": "code",
   "execution_count": 9,
   "id": "c86cee74",
   "metadata": {
    "ExecuteTime": {
     "end_time": "2023-11-14T06:14:15.012098Z",
     "start_time": "2023-11-14T06:14:15.000912Z"
    }
   },
   "outputs": [
    {
     "name": "stdout",
     "output_type": "stream",
     "text": [
      "Hey, how are you? \n",
      "I am fine.\n"
     ]
    }
   ],
   "source": [
    "print(\"Hey, how are you? \\nI am fine.\")"
   ]
  },
  {
   "cell_type": "code",
   "execution_count": 10,
   "id": "bb3511ca",
   "metadata": {
    "ExecuteTime": {
     "end_time": "2023-11-14T06:16:51.338830Z",
     "start_time": "2023-11-14T06:16:51.333879Z"
    }
   },
   "outputs": [
    {
     "data": {
      "text/plain": [
       "11"
      ]
     },
     "execution_count": 10,
     "metadata": {},
     "output_type": "execute_result"
    }
   ],
   "source": [
    "#String Basic\n",
    "len(\"Hello WOrld\")"
   ]
  },
  {
   "cell_type": "code",
   "execution_count": 11,
   "id": "1ab6a9a1",
   "metadata": {
    "ExecuteTime": {
     "end_time": "2023-11-14T06:17:00.117900Z",
     "start_time": "2023-11-14T06:17:00.106145Z"
    }
   },
   "outputs": [
    {
     "data": {
      "text/plain": [
       "6"
      ]
     },
     "execution_count": 11,
     "metadata": {},
     "output_type": "execute_result"
    }
   ],
   "source": [
    "len('String')"
   ]
  },
  {
   "cell_type": "code",
   "execution_count": 12,
   "id": "e327d5cb",
   "metadata": {
    "ExecuteTime": {
     "end_time": "2023-11-14T06:18:08.344792Z",
     "start_time": "2023-11-14T06:18:08.328183Z"
    }
   },
   "outputs": [],
   "source": [
    "#String Indexing\n",
    "#1) Postive indexing\n",
    "s = 'Hello World'"
   ]
  },
  {
   "cell_type": "code",
   "execution_count": 13,
   "id": "9ce11fe2",
   "metadata": {
    "ExecuteTime": {
     "end_time": "2023-11-14T06:18:13.533594Z",
     "start_time": "2023-11-14T06:18:13.518612Z"
    }
   },
   "outputs": [
    {
     "data": {
      "text/plain": [
       "'H'"
      ]
     },
     "execution_count": 13,
     "metadata": {},
     "output_type": "execute_result"
    }
   ],
   "source": [
    "s[0]"
   ]
  },
  {
   "cell_type": "code",
   "execution_count": 14,
   "id": "90ed33c6",
   "metadata": {
    "ExecuteTime": {
     "end_time": "2023-11-14T06:18:18.825481Z",
     "start_time": "2023-11-14T06:18:18.809174Z"
    }
   },
   "outputs": [
    {
     "data": {
      "text/plain": [
       "'e'"
      ]
     },
     "execution_count": 14,
     "metadata": {},
     "output_type": "execute_result"
    }
   ],
   "source": [
    "s[1]"
   ]
  },
  {
   "cell_type": "code",
   "execution_count": 15,
   "id": "2a9a9c95",
   "metadata": {
    "ExecuteTime": {
     "end_time": "2023-11-14T06:18:21.596062Z",
     "start_time": "2023-11-14T06:18:21.586694Z"
    }
   },
   "outputs": [
    {
     "data": {
      "text/plain": [
       "'l'"
      ]
     },
     "execution_count": 15,
     "metadata": {},
     "output_type": "execute_result"
    }
   ],
   "source": [
    "s[2]"
   ]
  },
  {
   "cell_type": "code",
   "execution_count": 16,
   "id": "79c2e1f3",
   "metadata": {
    "ExecuteTime": {
     "end_time": "2023-11-14T06:18:29.108631Z",
     "start_time": "2023-11-14T06:18:29.094920Z"
    }
   },
   "outputs": [
    {
     "data": {
      "text/plain": [
       "'l'"
      ]
     },
     "execution_count": 16,
     "metadata": {},
     "output_type": "execute_result"
    }
   ],
   "source": [
    "s[3]"
   ]
  },
  {
   "cell_type": "code",
   "execution_count": 17,
   "id": "15d21ffb",
   "metadata": {
    "ExecuteTime": {
     "end_time": "2023-11-14T06:18:33.124277Z",
     "start_time": "2023-11-14T06:18:33.113278Z"
    }
   },
   "outputs": [
    {
     "data": {
      "text/plain": [
       "'o'"
      ]
     },
     "execution_count": 17,
     "metadata": {},
     "output_type": "execute_result"
    }
   ],
   "source": [
    "s[4]"
   ]
  },
  {
   "cell_type": "code",
   "execution_count": 18,
   "id": "b1d6cbef",
   "metadata": {
    "ExecuteTime": {
     "end_time": "2023-11-14T06:18:36.748178Z",
     "start_time": "2023-11-14T06:18:36.741290Z"
    }
   },
   "outputs": [
    {
     "data": {
      "text/plain": [
       "' '"
      ]
     },
     "execution_count": 18,
     "metadata": {},
     "output_type": "execute_result"
    }
   ],
   "source": [
    "s[5]"
   ]
  },
  {
   "cell_type": "code",
   "execution_count": 19,
   "id": "797b4005",
   "metadata": {
    "ExecuteTime": {
     "end_time": "2023-11-14T06:18:41.503055Z",
     "start_time": "2023-11-14T06:18:41.486050Z"
    }
   },
   "outputs": [
    {
     "data": {
      "text/plain": [
       "'W'"
      ]
     },
     "execution_count": 19,
     "metadata": {},
     "output_type": "execute_result"
    }
   ],
   "source": [
    "s[6]"
   ]
  },
  {
   "cell_type": "code",
   "execution_count": 20,
   "id": "125b8fd5",
   "metadata": {
    "ExecuteTime": {
     "end_time": "2023-11-14T06:18:45.989904Z",
     "start_time": "2023-11-14T06:18:45.980043Z"
    }
   },
   "outputs": [
    {
     "data": {
      "text/plain": [
       "'o'"
      ]
     },
     "execution_count": 20,
     "metadata": {},
     "output_type": "execute_result"
    }
   ],
   "source": [
    "s[7]"
   ]
  },
  {
   "cell_type": "code",
   "execution_count": 21,
   "id": "fa509206",
   "metadata": {
    "ExecuteTime": {
     "end_time": "2023-11-14T06:18:49.578105Z",
     "start_time": "2023-11-14T06:18:49.572773Z"
    }
   },
   "outputs": [
    {
     "data": {
      "text/plain": [
       "'r'"
      ]
     },
     "execution_count": 21,
     "metadata": {},
     "output_type": "execute_result"
    }
   ],
   "source": [
    "s[8]"
   ]
  },
  {
   "cell_type": "code",
   "execution_count": 22,
   "id": "c1c5b165",
   "metadata": {
    "ExecuteTime": {
     "end_time": "2023-11-14T06:18:53.234654Z",
     "start_time": "2023-11-14T06:18:53.226589Z"
    }
   },
   "outputs": [
    {
     "data": {
      "text/plain": [
       "'l'"
      ]
     },
     "execution_count": 22,
     "metadata": {},
     "output_type": "execute_result"
    }
   ],
   "source": [
    "s[9]"
   ]
  },
  {
   "cell_type": "code",
   "execution_count": 23,
   "id": "85f9f754",
   "metadata": {
    "ExecuteTime": {
     "end_time": "2023-11-14T06:19:02.199597Z",
     "start_time": "2023-11-14T06:19:02.189475Z"
    }
   },
   "outputs": [
    {
     "data": {
      "text/plain": [
       "'d'"
      ]
     },
     "execution_count": 23,
     "metadata": {},
     "output_type": "execute_result"
    }
   ],
   "source": [
    "s[10]"
   ]
  },
  {
   "cell_type": "code",
   "execution_count": 24,
   "id": "f9810c9a",
   "metadata": {
    "ExecuteTime": {
     "end_time": "2023-11-14T06:19:06.985641Z",
     "start_time": "2023-11-14T06:19:06.749785Z"
    }
   },
   "outputs": [
    {
     "ename": "IndexError",
     "evalue": "string index out of range",
     "output_type": "error",
     "traceback": [
      "\u001b[1;31m---------------------------------------------------------------------------\u001b[0m",
      "\u001b[1;31mIndexError\u001b[0m                                Traceback (most recent call last)",
      "\u001b[1;32m~\\AppData\\Local\\Temp/ipykernel_11160/1734129449.py\u001b[0m in \u001b[0;36m<module>\u001b[1;34m\u001b[0m\n\u001b[1;32m----> 1\u001b[1;33m \u001b[0ms\u001b[0m\u001b[1;33m[\u001b[0m\u001b[1;36m11\u001b[0m\u001b[1;33m]\u001b[0m\u001b[1;33m\u001b[0m\u001b[1;33m\u001b[0m\u001b[0m\n\u001b[0m",
      "\u001b[1;31mIndexError\u001b[0m: string index out of range"
     ]
    }
   ],
   "source": [
    "s[11]"
   ]
  },
  {
   "cell_type": "code",
   "execution_count": 25,
   "id": "a0e5ee3c",
   "metadata": {
    "ExecuteTime": {
     "end_time": "2023-11-14T06:48:37.036899Z",
     "start_time": "2023-11-14T06:48:37.018156Z"
    }
   },
   "outputs": [
    {
     "data": {
      "text/plain": [
       "'d'"
      ]
     },
     "execution_count": 25,
     "metadata": {},
     "output_type": "execute_result"
    }
   ],
   "source": [
    "#2) Negative Indexing\n",
    "s[-1]"
   ]
  },
  {
   "cell_type": "code",
   "execution_count": 26,
   "id": "ff60f70f",
   "metadata": {
    "ExecuteTime": {
     "end_time": "2023-11-14T06:48:46.287924Z",
     "start_time": "2023-11-14T06:48:46.271067Z"
    }
   },
   "outputs": [
    {
     "data": {
      "text/plain": [
       "'l'"
      ]
     },
     "execution_count": 26,
     "metadata": {},
     "output_type": "execute_result"
    }
   ],
   "source": [
    "s[-2]"
   ]
  },
  {
   "cell_type": "code",
   "execution_count": 27,
   "id": "a4750015",
   "metadata": {
    "ExecuteTime": {
     "end_time": "2023-11-14T06:48:50.430232Z",
     "start_time": "2023-11-14T06:48:50.422213Z"
    }
   },
   "outputs": [
    {
     "data": {
      "text/plain": [
       "'r'"
      ]
     },
     "execution_count": 27,
     "metadata": {},
     "output_type": "execute_result"
    }
   ],
   "source": [
    "s[-3]"
   ]
  },
  {
   "cell_type": "code",
   "execution_count": 28,
   "id": "99faa538",
   "metadata": {
    "ExecuteTime": {
     "end_time": "2023-11-14T06:48:53.819559Z",
     "start_time": "2023-11-14T06:48:53.804196Z"
    }
   },
   "outputs": [
    {
     "data": {
      "text/plain": [
       "'o'"
      ]
     },
     "execution_count": 28,
     "metadata": {},
     "output_type": "execute_result"
    }
   ],
   "source": [
    "s[-4]"
   ]
  },
  {
   "cell_type": "code",
   "execution_count": 29,
   "id": "cd56b2cf",
   "metadata": {
    "ExecuteTime": {
     "end_time": "2023-11-14T06:49:14.238171Z",
     "start_time": "2023-11-14T06:49:14.223477Z"
    }
   },
   "outputs": [
    {
     "data": {
      "text/plain": [
       "'W'"
      ]
     },
     "execution_count": 29,
     "metadata": {},
     "output_type": "execute_result"
    }
   ],
   "source": [
    "s[-5]"
   ]
  },
  {
   "cell_type": "code",
   "execution_count": 30,
   "id": "eb353199",
   "metadata": {
    "ExecuteTime": {
     "end_time": "2023-11-14T06:49:31.060182Z",
     "start_time": "2023-11-14T06:49:31.049435Z"
    }
   },
   "outputs": [
    {
     "data": {
      "text/plain": [
       "'l'"
      ]
     },
     "execution_count": 30,
     "metadata": {},
     "output_type": "execute_result"
    }
   ],
   "source": [
    "s[-9]"
   ]
  },
  {
   "cell_type": "code",
   "execution_count": 31,
   "id": "ae6f9be8",
   "metadata": {
    "ExecuteTime": {
     "end_time": "2023-11-14T06:49:42.048952Z",
     "start_time": "2023-11-14T06:49:42.035310Z"
    }
   },
   "outputs": [
    {
     "data": {
      "text/plain": [
       "'d'"
      ]
     },
     "execution_count": 31,
     "metadata": {},
     "output_type": "execute_result"
    }
   ],
   "source": [
    "s[-1]"
   ]
  },
  {
   "cell_type": "code",
   "execution_count": 32,
   "id": "9232c427",
   "metadata": {
    "ExecuteTime": {
     "end_time": "2023-11-14T06:49:48.926204Z",
     "start_time": "2023-11-14T06:49:48.922937Z"
    }
   },
   "outputs": [
    {
     "data": {
      "text/plain": [
       "'e'"
      ]
     },
     "execution_count": 32,
     "metadata": {},
     "output_type": "execute_result"
    }
   ],
   "source": [
    "s[-10]"
   ]
  },
  {
   "cell_type": "code",
   "execution_count": 34,
   "id": "927724b0",
   "metadata": {
    "ExecuteTime": {
     "end_time": "2023-11-14T06:50:05.671515Z",
     "start_time": "2023-11-14T06:50:05.662343Z"
    }
   },
   "outputs": [
    {
     "data": {
      "text/plain": [
       "'Hello World'"
      ]
     },
     "execution_count": 34,
     "metadata": {},
     "output_type": "execute_result"
    }
   ],
   "source": [
    "#Slicing\n",
    "s"
   ]
  },
  {
   "cell_type": "code",
   "execution_count": 35,
   "id": "670ed2be",
   "metadata": {
    "ExecuteTime": {
     "end_time": "2023-11-14T06:50:12.471476Z",
     "start_time": "2023-11-14T06:50:12.457343Z"
    }
   },
   "outputs": [
    {
     "data": {
      "text/plain": [
       "'Hello World'"
      ]
     },
     "execution_count": 35,
     "metadata": {},
     "output_type": "execute_result"
    }
   ],
   "source": [
    "s[:]"
   ]
  },
  {
   "cell_type": "code",
   "execution_count": 36,
   "id": "6afaa8e0",
   "metadata": {
    "ExecuteTime": {
     "end_time": "2023-11-14T06:50:21.773659Z",
     "start_time": "2023-11-14T06:50:21.757823Z"
    }
   },
   "outputs": [
    {
     "data": {
      "text/plain": [
       "'Hello World'"
      ]
     },
     "execution_count": 36,
     "metadata": {},
     "output_type": "execute_result"
    }
   ],
   "source": [
    "s[0:]"
   ]
  },
  {
   "cell_type": "code",
   "execution_count": 37,
   "id": "6f0b2e63",
   "metadata": {
    "ExecuteTime": {
     "end_time": "2023-11-14T06:50:32.320567Z",
     "start_time": "2023-11-14T06:50:32.302587Z"
    }
   },
   "outputs": [
    {
     "data": {
      "text/plain": [
       "'HloWrd'"
      ]
     },
     "execution_count": 37,
     "metadata": {},
     "output_type": "execute_result"
    }
   ],
   "source": [
    "s[::2]"
   ]
  },
  {
   "cell_type": "code",
   "execution_count": 38,
   "id": "31d21689",
   "metadata": {
    "ExecuteTime": {
     "end_time": "2023-11-14T06:52:26.612528Z",
     "start_time": "2023-11-14T06:52:26.599531Z"
    }
   },
   "outputs": [
    {
     "data": {
      "text/plain": [
       "'ello'"
      ]
     },
     "execution_count": 38,
     "metadata": {},
     "output_type": "execute_result"
    }
   ],
   "source": [
    "s[1:5]"
   ]
  },
  {
   "cell_type": "code",
   "execution_count": 39,
   "id": "a0a24116",
   "metadata": {
    "ExecuteTime": {
     "end_time": "2023-11-14T06:53:02.299527Z",
     "start_time": "2023-11-14T06:53:02.283779Z"
    }
   },
   "outputs": [
    {
     "data": {
      "text/plain": [
       "'Wor'"
      ]
     },
     "execution_count": 39,
     "metadata": {},
     "output_type": "execute_result"
    }
   ],
   "source": [
    "s[6:9]"
   ]
  },
  {
   "cell_type": "code",
   "execution_count": 40,
   "id": "2b3505c2",
   "metadata": {
    "ExecuteTime": {
     "end_time": "2023-11-14T06:53:11.305353Z",
     "start_time": "2023-11-14T06:53:11.300384Z"
    }
   },
   "outputs": [
    {
     "data": {
      "text/plain": [
       "'Hello World'"
      ]
     },
     "execution_count": 40,
     "metadata": {},
     "output_type": "execute_result"
    }
   ],
   "source": [
    "s[::]"
   ]
  },
  {
   "cell_type": "code",
   "execution_count": 43,
   "id": "08123b26",
   "metadata": {
    "ExecuteTime": {
     "end_time": "2023-11-14T06:54:03.856204Z",
     "start_time": "2023-11-14T06:54:03.840002Z"
    }
   },
   "outputs": [],
   "source": [
    "a = 'Dedication'"
   ]
  },
  {
   "cell_type": "code",
   "execution_count": 44,
   "id": "8b1c2412",
   "metadata": {
    "ExecuteTime": {
     "end_time": "2023-11-14T06:54:05.427891Z",
     "start_time": "2023-11-14T06:54:05.415956Z"
    }
   },
   "outputs": [
    {
     "data": {
      "text/plain": [
       "'Dedication'"
      ]
     },
     "execution_count": 44,
     "metadata": {},
     "output_type": "execute_result"
    }
   ],
   "source": [
    "a"
   ]
  },
  {
   "cell_type": "code",
   "execution_count": 45,
   "id": "7db24d5d",
   "metadata": {
    "ExecuteTime": {
     "end_time": "2023-11-14T06:54:29.384508Z",
     "start_time": "2023-11-14T06:54:29.365841Z"
    }
   },
   "outputs": [
    {
     "data": {
      "text/plain": [
       "'Ditn'"
      ]
     },
     "execution_count": 45,
     "metadata": {},
     "output_type": "execute_result"
    }
   ],
   "source": [
    "a[::3]"
   ]
  },
  {
   "cell_type": "code",
   "execution_count": 46,
   "id": "5ae1cb14",
   "metadata": {
    "ExecuteTime": {
     "end_time": "2023-11-14T06:55:09.623126Z",
     "start_time": "2023-11-14T06:55:09.613548Z"
    }
   },
   "outputs": [
    {
     "data": {
      "text/plain": [
       "10"
      ]
     },
     "execution_count": 46,
     "metadata": {},
     "output_type": "execute_result"
    }
   ],
   "source": [
    "len(a)"
   ]
  },
  {
   "cell_type": "code",
   "execution_count": 47,
   "id": "e68004b1",
   "metadata": {
    "ExecuteTime": {
     "end_time": "2023-11-14T06:55:32.415501Z",
     "start_time": "2023-11-14T06:55:32.412466Z"
    }
   },
   "outputs": [
    {
     "data": {
      "text/plain": [
       "'Ddcto'"
      ]
     },
     "execution_count": 47,
     "metadata": {},
     "output_type": "execute_result"
    }
   ],
   "source": [
    "a[0:10:2]"
   ]
  },
  {
   "cell_type": "code",
   "execution_count": 49,
   "id": "cd445246",
   "metadata": {
    "ExecuteTime": {
     "end_time": "2023-11-14T06:56:22.018005Z",
     "start_time": "2023-11-14T06:56:22.012557Z"
    }
   },
   "outputs": [
    {
     "data": {
      "text/plain": [
       "'Ditn'"
      ]
     },
     "execution_count": 49,
     "metadata": {},
     "output_type": "execute_result"
    }
   ],
   "source": [
    "a[:11:3]"
   ]
  },
  {
   "cell_type": "code",
   "execution_count": 50,
   "id": "4b8932cd",
   "metadata": {
    "ExecuteTime": {
     "end_time": "2023-11-14T06:56:41.871838Z",
     "start_time": "2023-11-14T06:56:41.859289Z"
    }
   },
   "outputs": [
    {
     "data": {
      "text/plain": [
       "'Dedicatio'"
      ]
     },
     "execution_count": 50,
     "metadata": {},
     "output_type": "execute_result"
    }
   ],
   "source": [
    "a[:-1]"
   ]
  },
  {
   "cell_type": "code",
   "execution_count": 51,
   "id": "c745accf",
   "metadata": {
    "ExecuteTime": {
     "end_time": "2023-11-14T06:57:08.776876Z",
     "start_time": "2023-11-14T06:57:08.772152Z"
    }
   },
   "outputs": [
    {
     "data": {
      "text/plain": [
       "'noitacideD'"
      ]
     },
     "execution_count": 51,
     "metadata": {},
     "output_type": "execute_result"
    }
   ],
   "source": [
    "a[::-1]"
   ]
  },
  {
   "cell_type": "code",
   "execution_count": 52,
   "id": "f9222a64",
   "metadata": {
    "ExecuteTime": {
     "end_time": "2023-11-14T06:57:30.145785Z",
     "start_time": "2023-11-14T06:57:30.138787Z"
    }
   },
   "outputs": [
    {
     "data": {
      "text/plain": [
       "''"
      ]
     },
     "execution_count": 52,
     "metadata": {},
     "output_type": "execute_result"
    }
   ],
   "source": [
    "a[:0]"
   ]
  },
  {
   "cell_type": "code",
   "execution_count": 53,
   "id": "3fded6ff",
   "metadata": {
    "ExecuteTime": {
     "end_time": "2023-11-14T06:57:38.644395Z",
     "start_time": "2023-11-14T06:57:38.630335Z"
    }
   },
   "outputs": [
    {
     "data": {
      "text/plain": [
       "''"
      ]
     },
     "execution_count": 53,
     "metadata": {},
     "output_type": "execute_result"
    }
   ],
   "source": [
    "a[:-0]"
   ]
  },
  {
   "cell_type": "code",
   "execution_count": 54,
   "id": "e81ab7a0",
   "metadata": {
    "ExecuteTime": {
     "end_time": "2023-11-14T06:57:51.661209Z",
     "start_time": "2023-11-14T06:57:51.655752Z"
    }
   },
   "outputs": [
    {
     "data": {
      "text/plain": [
       "'Dedicati'"
      ]
     },
     "execution_count": 54,
     "metadata": {},
     "output_type": "execute_result"
    }
   ],
   "source": [
    "a[:-2]"
   ]
  },
  {
   "cell_type": "markdown",
   "id": "84ca274c",
   "metadata": {},
   "source": [
    "String Properties\n",
    "It's important to note that strings have an important property known as immutability. This means that once a string is created, the elements within it can not be changed or replaced. For example:"
   ]
  },
  {
   "cell_type": "code",
   "execution_count": 55,
   "id": "4b7dca4a",
   "metadata": {
    "ExecuteTime": {
     "end_time": "2023-11-14T07:04:51.476241Z",
     "start_time": "2023-11-14T07:04:51.469834Z"
    }
   },
   "outputs": [],
   "source": [
    "s = 'Hello World'"
   ]
  },
  {
   "cell_type": "code",
   "execution_count": 57,
   "id": "38db4827",
   "metadata": {
    "ExecuteTime": {
     "end_time": "2023-11-14T07:05:16.730677Z",
     "start_time": "2023-11-14T07:05:16.722798Z"
    }
   },
   "outputs": [
    {
     "ename": "TypeError",
     "evalue": "'str' object does not support item assignment",
     "output_type": "error",
     "traceback": [
      "\u001b[1;31m---------------------------------------------------------------------------\u001b[0m",
      "\u001b[1;31mTypeError\u001b[0m                                 Traceback (most recent call last)",
      "\u001b[1;32m~\\AppData\\Local\\Temp/ipykernel_11160/3791093217.py\u001b[0m in \u001b[0;36m<module>\u001b[1;34m\u001b[0m\n\u001b[1;32m----> 1\u001b[1;33m \u001b[0ms\u001b[0m\u001b[1;33m[\u001b[0m\u001b[1;36m0\u001b[0m\u001b[1;33m]\u001b[0m \u001b[1;33m=\u001b[0m \u001b[1;34m'x'\u001b[0m\u001b[1;33m\u001b[0m\u001b[1;33m\u001b[0m\u001b[0m\n\u001b[0m",
      "\u001b[1;31mTypeError\u001b[0m: 'str' object does not support item assignment"
     ]
    }
   ],
   "source": [
    "s[0] = 'x' "
   ]
  },
  {
   "cell_type": "code",
   "execution_count": 58,
   "id": "9918fbf3",
   "metadata": {
    "ExecuteTime": {
     "end_time": "2023-11-14T07:06:25.825502Z",
     "start_time": "2023-11-14T07:06:25.811537Z"
    }
   },
   "outputs": [
    {
     "data": {
      "text/plain": [
       "'Hello World'"
      ]
     },
     "execution_count": 58,
     "metadata": {},
     "output_type": "execute_result"
    }
   ],
   "source": [
    "#Concatenate String\n",
    "s"
   ]
  },
  {
   "cell_type": "code",
   "execution_count": 60,
   "id": "872f4c25",
   "metadata": {
    "ExecuteTime": {
     "end_time": "2023-11-14T07:07:01.771038Z",
     "start_time": "2023-11-14T07:07:01.763276Z"
    }
   },
   "outputs": [
    {
     "data": {
      "text/plain": [
       "'Hello World concatenate me!'"
      ]
     },
     "execution_count": 60,
     "metadata": {},
     "output_type": "execute_result"
    }
   ],
   "source": [
    "s + ' concatenate me!'"
   ]
  },
  {
   "cell_type": "code",
   "execution_count": 61,
   "id": "c27a19f6",
   "metadata": {
    "ExecuteTime": {
     "end_time": "2023-11-14T07:07:19.011356Z",
     "start_time": "2023-11-14T07:07:19.008636Z"
    }
   },
   "outputs": [],
   "source": [
    "a = 'My name is '"
   ]
  },
  {
   "cell_type": "code",
   "execution_count": 62,
   "id": "cda52274",
   "metadata": {
    "ExecuteTime": {
     "end_time": "2023-11-14T07:07:35.544528Z",
     "start_time": "2023-11-14T07:07:35.534922Z"
    }
   },
   "outputs": [
    {
     "data": {
      "text/plain": [
       "'My name is Nikhil, nice to meet you'"
      ]
     },
     "execution_count": 62,
     "metadata": {},
     "output_type": "execute_result"
    }
   ],
   "source": [
    "a + 'Nikhil, nice to meet you'"
   ]
  },
  {
   "cell_type": "code",
   "execution_count": 64,
   "id": "32d6e7b5",
   "metadata": {
    "ExecuteTime": {
     "end_time": "2023-11-14T07:09:16.465197Z",
     "start_time": "2023-11-14T07:09:16.459904Z"
    }
   },
   "outputs": [],
   "source": [
    "#we can use multiplication symbol to create repetition\n",
    "letters = 'n' "
   ]
  },
  {
   "cell_type": "code",
   "execution_count": 65,
   "id": "e8d2a2f0",
   "metadata": {
    "ExecuteTime": {
     "end_time": "2023-11-14T07:09:21.948805Z",
     "start_time": "2023-11-14T07:09:21.942292Z"
    }
   },
   "outputs": [
    {
     "data": {
      "text/plain": [
       "'n'"
      ]
     },
     "execution_count": 65,
     "metadata": {},
     "output_type": "execute_result"
    }
   ],
   "source": [
    "letters"
   ]
  },
  {
   "cell_type": "code",
   "execution_count": 66,
   "id": "b92a1f34",
   "metadata": {
    "ExecuteTime": {
     "end_time": "2023-11-14T07:09:37.287439Z",
     "start_time": "2023-11-14T07:09:37.278000Z"
    }
   },
   "outputs": [
    {
     "data": {
      "text/plain": [
       "'nnnnnnnnnn'"
      ]
     },
     "execution_count": 66,
     "metadata": {},
     "output_type": "execute_result"
    }
   ],
   "source": [
    "letters*10 "
   ]
  },
  {
   "cell_type": "markdown",
   "id": "bf010701",
   "metadata": {},
   "source": [
    "Basic Built-in String methods"
   ]
  },
  {
   "cell_type": "code",
   "execution_count": 67,
   "id": "5d6ac5bc",
   "metadata": {
    "ExecuteTime": {
     "end_time": "2023-11-14T07:11:03.527022Z",
     "start_time": "2023-11-14T07:11:03.513275Z"
    }
   },
   "outputs": [],
   "source": [
    "s = 'Hello World'"
   ]
  },
  {
   "cell_type": "code",
   "execution_count": 68,
   "id": "e28892ea",
   "metadata": {
    "ExecuteTime": {
     "end_time": "2023-11-14T07:11:05.159065Z",
     "start_time": "2023-11-14T07:11:05.140067Z"
    }
   },
   "outputs": [
    {
     "data": {
      "text/plain": [
       "'Hello World'"
      ]
     },
     "execution_count": 68,
     "metadata": {},
     "output_type": "execute_result"
    }
   ],
   "source": [
    "s"
   ]
  },
  {
   "cell_type": "code",
   "execution_count": 69,
   "id": "9fa95205",
   "metadata": {
    "ExecuteTime": {
     "end_time": "2023-11-14T07:11:11.980260Z",
     "start_time": "2023-11-14T07:11:11.972304Z"
    }
   },
   "outputs": [
    {
     "data": {
      "text/plain": [
       "'hello world'"
      ]
     },
     "execution_count": 69,
     "metadata": {},
     "output_type": "execute_result"
    }
   ],
   "source": [
    "s.lower()"
   ]
  },
  {
   "cell_type": "code",
   "execution_count": 72,
   "id": "576a5ff7",
   "metadata": {
    "ExecuteTime": {
     "end_time": "2023-11-14T07:11:30.730960Z",
     "start_time": "2023-11-14T07:11:30.726775Z"
    }
   },
   "outputs": [
    {
     "data": {
      "text/plain": [
       "'HELLO WORLD'"
      ]
     },
     "execution_count": 72,
     "metadata": {},
     "output_type": "execute_result"
    }
   ],
   "source": [
    "s.upper()"
   ]
  },
  {
   "cell_type": "code",
   "execution_count": 73,
   "id": "4160edb6",
   "metadata": {
    "ExecuteTime": {
     "end_time": "2023-11-14T07:11:37.999656Z",
     "start_time": "2023-11-14T07:11:37.989623Z"
    }
   },
   "outputs": [
    {
     "data": {
      "text/plain": [
       "['Hello', 'World']"
      ]
     },
     "execution_count": 73,
     "metadata": {},
     "output_type": "execute_result"
    }
   ],
   "source": [
    "s.split()"
   ]
  },
  {
   "cell_type": "code",
   "execution_count": 75,
   "id": "218fe767",
   "metadata": {
    "ExecuteTime": {
     "end_time": "2023-11-14T07:11:56.350819Z",
     "start_time": "2023-11-14T07:11:56.339479Z"
    }
   },
   "outputs": [
    {
     "data": {
      "text/plain": [
       "['Hello ', 'orld']"
      ]
     },
     "execution_count": 75,
     "metadata": {},
     "output_type": "execute_result"
    }
   ],
   "source": [
    "s.split('W')"
   ]
  },
  {
   "cell_type": "code",
   "execution_count": 76,
   "id": "2fbeec1a",
   "metadata": {
    "ExecuteTime": {
     "end_time": "2023-11-14T07:12:35.110610Z",
     "start_time": "2023-11-14T07:12:35.105279Z"
    }
   },
   "outputs": [],
   "source": [
    "a = 'I am the king of the World!'"
   ]
  },
  {
   "cell_type": "code",
   "execution_count": 77,
   "id": "51e5c182",
   "metadata": {
    "ExecuteTime": {
     "end_time": "2023-11-14T07:12:44.706300Z",
     "start_time": "2023-11-14T07:12:44.703005Z"
    }
   },
   "outputs": [
    {
     "data": {
      "text/plain": [
       "'i am the king of the world!'"
      ]
     },
     "execution_count": 77,
     "metadata": {},
     "output_type": "execute_result"
    }
   ],
   "source": [
    "a.lower()"
   ]
  },
  {
   "cell_type": "code",
   "execution_count": 79,
   "id": "e479d774",
   "metadata": {
    "ExecuteTime": {
     "end_time": "2023-11-14T07:12:56.614946Z",
     "start_time": "2023-11-14T07:12:56.601890Z"
    }
   },
   "outputs": [
    {
     "data": {
      "text/plain": [
       "'I AM THE KING OF THE WORLD!'"
      ]
     },
     "execution_count": 79,
     "metadata": {},
     "output_type": "execute_result"
    }
   ],
   "source": [
    "a.upper()"
   ]
  },
  {
   "cell_type": "code",
   "execution_count": 80,
   "id": "9f170f39",
   "metadata": {
    "ExecuteTime": {
     "end_time": "2023-11-14T07:13:13.088419Z",
     "start_time": "2023-11-14T07:13:13.071857Z"
    }
   },
   "outputs": [
    {
     "data": {
      "text/plain": [
       "['I ', ' the king of the World!']"
      ]
     },
     "execution_count": 80,
     "metadata": {},
     "output_type": "execute_result"
    }
   ],
   "source": [
    "a.split('am')"
   ]
  },
  {
   "cell_type": "markdown",
   "id": "693e4758",
   "metadata": {},
   "source": [
    "String Formatting"
   ]
  },
  {
   "cell_type": "code",
   "execution_count": 81,
   "id": "ea0e157e",
   "metadata": {
    "ExecuteTime": {
     "end_time": "2023-11-14T07:16:07.893394Z",
     "start_time": "2023-11-14T07:16:07.887688Z"
    }
   },
   "outputs": [
    {
     "name": "stdout",
     "output_type": "stream",
     "text": [
      "I am the King of the World\n"
     ]
    }
   ],
   "source": [
    "print('I am the {} of the {}'.format('King','World'))"
   ]
  },
  {
   "cell_type": "code",
   "execution_count": 82,
   "id": "1f242f3b",
   "metadata": {
    "ExecuteTime": {
     "end_time": "2023-11-14T07:17:40.116322Z",
     "start_time": "2023-11-14T07:17:40.097480Z"
    }
   },
   "outputs": [
    {
     "name": "stdout",
     "output_type": "stream",
     "text": [
      "My name is Nikhil and I am 23 years of old\n"
     ]
    }
   ],
   "source": [
    "print('My name is {a} and I am {b} years of old'.format(a='Nikhil',b=23))"
   ]
  },
  {
   "cell_type": "code",
   "execution_count": null,
   "id": "eff822db",
   "metadata": {},
   "outputs": [],
   "source": []
  }
 ],
 "metadata": {
  "kernelspec": {
   "display_name": "Python 3 (ipykernel)",
   "language": "python",
   "name": "python3"
  },
  "language_info": {
   "codemirror_mode": {
    "name": "ipython",
    "version": 3
   },
   "file_extension": ".py",
   "mimetype": "text/x-python",
   "name": "python",
   "nbconvert_exporter": "python",
   "pygments_lexer": "ipython3",
   "version": "3.9.7"
  },
  "varInspector": {
   "cols": {
    "lenName": 16,
    "lenType": 16,
    "lenVar": 40
   },
   "kernels_config": {
    "python": {
     "delete_cmd_postfix": "",
     "delete_cmd_prefix": "del ",
     "library": "var_list.py",
     "varRefreshCmd": "print(var_dic_list())"
    },
    "r": {
     "delete_cmd_postfix": ") ",
     "delete_cmd_prefix": "rm(",
     "library": "var_list.r",
     "varRefreshCmd": "cat(var_dic_list()) "
    }
   },
   "types_to_exclude": [
    "module",
    "function",
    "builtin_function_or_method",
    "instance",
    "_Feature"
   ],
   "window_display": false
  }
 },
 "nbformat": 4,
 "nbformat_minor": 5
}
