{
 "cells": [
  {
   "cell_type": "code",
   "execution_count": 1,
   "id": "a4e1c736",
   "metadata": {
    "ExecuteTime": {
     "end_time": "2023-12-05T06:33:50.284348Z",
     "start_time": "2023-12-05T06:33:50.279177Z"
    }
   },
   "outputs": [
    {
     "name": "stdout",
     "output_type": "stream",
     "text": [
      "[1, 2, 3]\n",
      "[4, 5, 6]\n",
      "[7, 8, 9]\n"
     ]
    }
   ],
   "source": [
    "print([1,2,3])\n",
    "print([4,5,6])\n",
    "print([7,8,9])"
   ]
  },
  {
   "cell_type": "code",
   "execution_count": 2,
   "id": "d2fcb2dd",
   "metadata": {
    "ExecuteTime": {
     "end_time": "2023-12-05T06:34:52.123269Z",
     "start_time": "2023-12-05T06:34:52.105360Z"
    }
   },
   "outputs": [],
   "source": [
    "def display(row1,row2,row3):\n",
    "    print(row1)\n",
    "    print(row2)\n",
    "    print(row3)"
   ]
  },
  {
   "cell_type": "code",
   "execution_count": 3,
   "id": "90daa1d9",
   "metadata": {
    "ExecuteTime": {
     "end_time": "2023-12-05T06:35:30.576800Z",
     "start_time": "2023-12-05T06:35:30.564500Z"
    }
   },
   "outputs": [],
   "source": [
    "row1 = ([' ', ' ', ' '])\n",
    "row2 = ([' ', ' ', ' '])\n",
    "row3 = ([' ', ' ', ' '])"
   ]
  },
  {
   "cell_type": "code",
   "execution_count": 4,
   "id": "821d13e4",
   "metadata": {
    "ExecuteTime": {
     "end_time": "2023-12-05T06:35:55.736846Z",
     "start_time": "2023-12-05T06:35:55.723833Z"
    }
   },
   "outputs": [
    {
     "name": "stdout",
     "output_type": "stream",
     "text": [
      "[' ', ' ', ' ']\n",
      "[' ', ' ', ' ']\n",
      "[' ', ' ', ' ']\n"
     ]
    }
   ],
   "source": [
    "display(row1,row2,row3)"
   ]
  },
  {
   "cell_type": "code",
   "execution_count": 5,
   "id": "3303110f",
   "metadata": {
    "ExecuteTime": {
     "end_time": "2023-12-05T06:36:25.369492Z",
     "start_time": "2023-12-05T06:36:25.357879Z"
    }
   },
   "outputs": [],
   "source": [
    "row2[1] = 'X'"
   ]
  },
  {
   "cell_type": "code",
   "execution_count": 6,
   "id": "0b5fa448",
   "metadata": {
    "ExecuteTime": {
     "end_time": "2023-12-05T06:36:45.104519Z",
     "start_time": "2023-12-05T06:36:45.090522Z"
    }
   },
   "outputs": [
    {
     "name": "stdout",
     "output_type": "stream",
     "text": [
      "[' ', ' ', ' ']\n",
      "[' ', 'X', ' ']\n",
      "[' ', ' ', ' ']\n"
     ]
    }
   ],
   "source": [
    "display(row1,row2,row3)"
   ]
  },
  {
   "cell_type": "code",
   "execution_count": null,
   "id": "cbe56047",
   "metadata": {},
   "outputs": [],
   "source": []
  }
 ],
 "metadata": {
  "kernelspec": {
   "display_name": "Python 3 (ipykernel)",
   "language": "python",
   "name": "python3"
  },
  "language_info": {
   "codemirror_mode": {
    "name": "ipython",
    "version": 3
   },
   "file_extension": ".py",
   "mimetype": "text/x-python",
   "name": "python",
   "nbconvert_exporter": "python",
   "pygments_lexer": "ipython3",
   "version": "3.9.7"
  },
  "varInspector": {
   "cols": {
    "lenName": 16,
    "lenType": 16,
    "lenVar": 40
   },
   "kernels_config": {
    "python": {
     "delete_cmd_postfix": "",
     "delete_cmd_prefix": "del ",
     "library": "var_list.py",
     "varRefreshCmd": "print(var_dic_list())"
    },
    "r": {
     "delete_cmd_postfix": ") ",
     "delete_cmd_prefix": "rm(",
     "library": "var_list.r",
     "varRefreshCmd": "cat(var_dic_list()) "
    }
   },
   "types_to_exclude": [
    "module",
    "function",
    "builtin_function_or_method",
    "instance",
    "_Feature"
   ],
   "window_display": false
  }
 },
 "nbformat": 4,
 "nbformat_minor": 5
}
