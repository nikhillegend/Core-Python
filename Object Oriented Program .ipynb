{
 "cells": [
  {
   "cell_type": "markdown",
   "id": "6efc03af",
   "metadata": {},
   "source": [
    "#### Attribute and Class Keyword"
   ]
  },
  {
   "cell_type": "code",
   "execution_count": 1,
   "id": "1f40f80c",
   "metadata": {
    "ExecuteTime": {
     "end_time": "2023-12-09T07:21:00.042228Z",
     "start_time": "2023-12-09T07:21:00.033647Z"
    }
   },
   "outputs": [],
   "source": [
    "class Dog():\n",
    "    \n",
    "    def __init__(self,breed):\n",
    "        \n",
    "        #Attributes\n",
    "        #We take in the argument\n",
    "        #Assign it using self.attribute_name\n",
    "        self.breed = breed"
   ]
  },
  {
   "cell_type": "code",
   "execution_count": 2,
   "id": "40ba9a08",
   "metadata": {
    "ExecuteTime": {
     "end_time": "2023-12-09T07:21:00.243919Z",
     "start_time": "2023-12-09T07:21:00.237288Z"
    }
   },
   "outputs": [],
   "source": [
    "my_dog = Dog(breed='Lab')"
   ]
  },
  {
   "cell_type": "code",
   "execution_count": 3,
   "id": "380653d5",
   "metadata": {
    "ExecuteTime": {
     "end_time": "2023-12-09T07:21:00.447645Z",
     "start_time": "2023-12-09T07:21:00.432112Z"
    }
   },
   "outputs": [
    {
     "data": {
      "text/plain": [
       "__main__.Dog"
      ]
     },
     "execution_count": 3,
     "metadata": {},
     "output_type": "execute_result"
    }
   ],
   "source": [
    "type(my_dog)"
   ]
  },
  {
   "cell_type": "code",
   "execution_count": 4,
   "id": "576635fb",
   "metadata": {
    "ExecuteTime": {
     "end_time": "2023-12-09T07:21:00.619579Z",
     "start_time": "2023-12-09T07:21:00.604005Z"
    }
   },
   "outputs": [
    {
     "data": {
      "text/plain": [
       "'Lab'"
      ]
     },
     "execution_count": 4,
     "metadata": {},
     "output_type": "execute_result"
    }
   ],
   "source": [
    "my_dog.breed"
   ]
  },
  {
   "cell_type": "code",
   "execution_count": 5,
   "id": "0c837029",
   "metadata": {
    "ExecuteTime": {
     "end_time": "2023-12-09T07:21:00.789084Z",
     "start_time": "2023-12-09T07:21:00.775570Z"
    }
   },
   "outputs": [],
   "source": [
    "class Dog():\n",
    "    \n",
    "    def __init__(self,breed,name,spots):\n",
    "        self.breed = breed\n",
    "        self.name = name\n",
    "        \n",
    "        #Expected to get boolean True/False\n",
    "        self.spots = spots"
   ]
  },
  {
   "cell_type": "code",
   "execution_count": 6,
   "id": "41636154",
   "metadata": {
    "ExecuteTime": {
     "end_time": "2023-12-09T07:21:00.962475Z",
     "start_time": "2023-12-09T07:21:00.953803Z"
    }
   },
   "outputs": [],
   "source": [
    "my_dog = Dog(breed='Lab',name='Simba',spots=False)"
   ]
  },
  {
   "cell_type": "code",
   "execution_count": 7,
   "id": "be338eb3",
   "metadata": {
    "ExecuteTime": {
     "end_time": "2023-12-09T07:21:01.147428Z",
     "start_time": "2023-12-09T07:21:01.131932Z"
    }
   },
   "outputs": [
    {
     "data": {
      "text/plain": [
       "'Lab'"
      ]
     },
     "execution_count": 7,
     "metadata": {},
     "output_type": "execute_result"
    }
   ],
   "source": [
    "my_dog.breed"
   ]
  },
  {
   "cell_type": "code",
   "execution_count": 8,
   "id": "d3c6e602",
   "metadata": {
    "ExecuteTime": {
     "end_time": "2023-12-09T07:21:01.316064Z",
     "start_time": "2023-12-09T07:21:01.298815Z"
    }
   },
   "outputs": [
    {
     "data": {
      "text/plain": [
       "'Simba'"
      ]
     },
     "execution_count": 8,
     "metadata": {},
     "output_type": "execute_result"
    }
   ],
   "source": [
    "my_dog.name"
   ]
  },
  {
   "cell_type": "code",
   "execution_count": 9,
   "id": "c2a64d95",
   "metadata": {
    "ExecuteTime": {
     "end_time": "2023-12-09T07:21:01.472389Z",
     "start_time": "2023-12-09T07:21:01.454152Z"
    }
   },
   "outputs": [
    {
     "data": {
      "text/plain": [
       "False"
      ]
     },
     "execution_count": 9,
     "metadata": {},
     "output_type": "execute_result"
    }
   ],
   "source": [
    "my_dog.spots"
   ]
  },
  {
   "cell_type": "markdown",
   "id": "f89ed926",
   "metadata": {},
   "source": [
    "#### Class Object Attributes and Methods"
   ]
  },
  {
   "cell_type": "code",
   "execution_count": 10,
   "id": "ae274e43",
   "metadata": {
    "ExecuteTime": {
     "end_time": "2023-12-09T07:21:01.814566Z",
     "start_time": "2023-12-09T07:21:01.794350Z"
    }
   },
   "outputs": [],
   "source": [
    "class Dog():\n",
    "    \n",
    "    species = 'Mammal'\n",
    "    \n",
    "    def __init__(self,breed,name,spots):\n",
    "        \n",
    "        self.breed = breed\n",
    "        self.name = name\n",
    "        self.spots = spots"
   ]
  },
  {
   "cell_type": "code",
   "execution_count": 11,
   "id": "d71fdde8",
   "metadata": {
    "ExecuteTime": {
     "end_time": "2023-12-09T07:21:01.969043Z",
     "start_time": "2023-12-09T07:21:01.956072Z"
    }
   },
   "outputs": [],
   "source": [
    "my_dog = Dog(breed='Huskie', name='Charlie', spots=False)"
   ]
  },
  {
   "cell_type": "code",
   "execution_count": 12,
   "id": "3296c691",
   "metadata": {
    "ExecuteTime": {
     "end_time": "2023-12-09T07:21:02.140488Z",
     "start_time": "2023-12-09T07:21:02.124413Z"
    }
   },
   "outputs": [
    {
     "data": {
      "text/plain": [
       "'Huskie'"
      ]
     },
     "execution_count": 12,
     "metadata": {},
     "output_type": "execute_result"
    }
   ],
   "source": [
    "my_dog.breed"
   ]
  },
  {
   "cell_type": "code",
   "execution_count": 13,
   "id": "6bbdc10b",
   "metadata": {
    "ExecuteTime": {
     "end_time": "2023-12-09T07:21:02.328276Z",
     "start_time": "2023-12-09T07:21:02.318957Z"
    }
   },
   "outputs": [
    {
     "data": {
      "text/plain": [
       "'Charlie'"
      ]
     },
     "execution_count": 13,
     "metadata": {},
     "output_type": "execute_result"
    }
   ],
   "source": [
    "my_dog.name"
   ]
  },
  {
   "cell_type": "code",
   "execution_count": 14,
   "id": "51643dc1",
   "metadata": {
    "ExecuteTime": {
     "end_time": "2023-12-09T07:21:02.500501Z",
     "start_time": "2023-12-09T07:21:02.488721Z"
    }
   },
   "outputs": [
    {
     "data": {
      "text/plain": [
       "'Mammal'"
      ]
     },
     "execution_count": 14,
     "metadata": {},
     "output_type": "execute_result"
    }
   ],
   "source": [
    "my_dog.species"
   ]
  },
  {
   "cell_type": "code",
   "execution_count": 15,
   "id": "5e93aa3c",
   "metadata": {
    "ExecuteTime": {
     "end_time": "2023-12-09T07:21:02.686260Z",
     "start_time": "2023-12-09T07:21:02.668982Z"
    }
   },
   "outputs": [
    {
     "data": {
      "text/plain": [
       "False"
      ]
     },
     "execution_count": 15,
     "metadata": {},
     "output_type": "execute_result"
    }
   ],
   "source": [
    "my_dog.spots"
   ]
  },
  {
   "cell_type": "code",
   "execution_count": 16,
   "id": "ba062b90",
   "metadata": {
    "ExecuteTime": {
     "end_time": "2023-12-09T07:21:02.857523Z",
     "start_time": "2023-12-09T07:21:02.847014Z"
    }
   },
   "outputs": [],
   "source": [
    "class Dog():\n",
    "    \n",
    "    species = 'Mammal'\n",
    "    \n",
    "    def __init__(self,breed,name):\n",
    "        self.breed = breed\n",
    "        self.name = name\n",
    "        \n",
    "    def bark(self):\n",
    "        print(\"WOOF!\")"
   ]
  },
  {
   "cell_type": "code",
   "execution_count": 17,
   "id": "20f80286",
   "metadata": {
    "ExecuteTime": {
     "end_time": "2023-12-09T07:21:03.043835Z",
     "start_time": "2023-12-09T07:21:03.035019Z"
    }
   },
   "outputs": [],
   "source": [
    "my_dog = Dog('Lab','Sam')"
   ]
  },
  {
   "cell_type": "code",
   "execution_count": 18,
   "id": "2733d5a5",
   "metadata": {
    "ExecuteTime": {
     "end_time": "2023-12-09T07:21:03.386137Z",
     "start_time": "2023-12-09T07:21:03.368536Z"
    }
   },
   "outputs": [
    {
     "data": {
      "text/plain": [
       "'Lab'"
      ]
     },
     "execution_count": 18,
     "metadata": {},
     "output_type": "execute_result"
    }
   ],
   "source": [
    "my_dog.breed"
   ]
  },
  {
   "cell_type": "code",
   "execution_count": 19,
   "id": "70a546d0",
   "metadata": {
    "ExecuteTime": {
     "end_time": "2023-12-09T07:21:03.572792Z",
     "start_time": "2023-12-09T07:21:03.565402Z"
    }
   },
   "outputs": [
    {
     "data": {
      "text/plain": [
       "'Sam'"
      ]
     },
     "execution_count": 19,
     "metadata": {},
     "output_type": "execute_result"
    }
   ],
   "source": [
    "my_dog.name"
   ]
  },
  {
   "cell_type": "code",
   "execution_count": 20,
   "id": "a217d29b",
   "metadata": {
    "ExecuteTime": {
     "end_time": "2023-12-09T07:21:03.744042Z",
     "start_time": "2023-12-09T07:21:03.734039Z"
    }
   },
   "outputs": [
    {
     "data": {
      "text/plain": [
       "'Mammal'"
      ]
     },
     "execution_count": 20,
     "metadata": {},
     "output_type": "execute_result"
    }
   ],
   "source": [
    "my_dog.species"
   ]
  },
  {
   "cell_type": "code",
   "execution_count": 21,
   "id": "75926881",
   "metadata": {
    "ExecuteTime": {
     "end_time": "2023-12-09T07:21:03.930124Z",
     "start_time": "2023-12-09T07:21:03.910201Z"
    }
   },
   "outputs": [
    {
     "name": "stdout",
     "output_type": "stream",
     "text": [
      "WOOF!\n"
     ]
    }
   ],
   "source": [
    "my_dog.bark()"
   ]
  },
  {
   "cell_type": "code",
   "execution_count": 22,
   "id": "8ee4f737",
   "metadata": {
    "ExecuteTime": {
     "end_time": "2023-12-09T07:21:04.102850Z",
     "start_time": "2023-12-09T07:21:04.094593Z"
    }
   },
   "outputs": [],
   "source": [
    "class Dog():\n",
    "    species = 'Mammal'\n",
    "    \n",
    "    def __init__(self,breed,name):\n",
    "        self.breed = breed\n",
    "        self.name = name\n",
    "        \n",
    "    def bark(self,number):\n",
    "        print(\"WHOOF!. My name is {} and the number is {}\".format(self.name,number))"
   ]
  },
  {
   "cell_type": "code",
   "execution_count": 23,
   "id": "f5d478ea",
   "metadata": {
    "ExecuteTime": {
     "end_time": "2023-12-09T07:21:04.275315Z",
     "start_time": "2023-12-09T07:21:04.267316Z"
    }
   },
   "outputs": [],
   "source": [
    "my_dog = Dog('Huskie','Charlie')"
   ]
  },
  {
   "cell_type": "code",
   "execution_count": 24,
   "id": "7c0b8787",
   "metadata": {
    "ExecuteTime": {
     "end_time": "2023-12-09T07:21:04.461712Z",
     "start_time": "2023-12-09T07:21:04.449512Z"
    }
   },
   "outputs": [
    {
     "data": {
      "text/plain": [
       "'Huskie'"
      ]
     },
     "execution_count": 24,
     "metadata": {},
     "output_type": "execute_result"
    }
   ],
   "source": [
    "my_dog.breed"
   ]
  },
  {
   "cell_type": "code",
   "execution_count": 25,
   "id": "067c1f5d",
   "metadata": {
    "ExecuteTime": {
     "end_time": "2023-12-09T07:21:04.633311Z",
     "start_time": "2023-12-09T07:21:04.629524Z"
    }
   },
   "outputs": [
    {
     "data": {
      "text/plain": [
       "'Charlie'"
      ]
     },
     "execution_count": 25,
     "metadata": {},
     "output_type": "execute_result"
    }
   ],
   "source": [
    "my_dog.name"
   ]
  },
  {
   "cell_type": "code",
   "execution_count": 26,
   "id": "1c912c60",
   "metadata": {
    "ExecuteTime": {
     "end_time": "2023-12-09T07:21:04.803847Z",
     "start_time": "2023-12-09T07:21:04.795509Z"
    }
   },
   "outputs": [
    {
     "data": {
      "text/plain": [
       "'Mammal'"
      ]
     },
     "execution_count": 26,
     "metadata": {},
     "output_type": "execute_result"
    }
   ],
   "source": [
    "my_dog.species"
   ]
  },
  {
   "cell_type": "code",
   "execution_count": 27,
   "id": "6cca904c",
   "metadata": {
    "ExecuteTime": {
     "end_time": "2023-12-09T07:21:05.006937Z",
     "start_time": "2023-12-09T07:21:04.991489Z"
    }
   },
   "outputs": [
    {
     "name": "stdout",
     "output_type": "stream",
     "text": [
      "WHOOF!. My name is Charlie and the number is 10\n"
     ]
    }
   ],
   "source": [
    "my_dog.bark(10)"
   ]
  },
  {
   "cell_type": "code",
   "execution_count": null,
   "id": "19d1332e",
   "metadata": {},
   "outputs": [],
   "source": []
  },
  {
   "cell_type": "code",
   "execution_count": null,
   "id": "7b30077b",
   "metadata": {},
   "outputs": [],
   "source": []
  },
  {
   "cell_type": "code",
   "execution_count": 28,
   "id": "9733eb27",
   "metadata": {
    "ExecuteTime": {
     "end_time": "2023-12-09T07:21:05.550739Z",
     "start_time": "2023-12-09T07:21:05.540740Z"
    }
   },
   "outputs": [],
   "source": [
    "class Circle():\n",
    "    #Class object attribute\n",
    "    \n",
    "    pi = 3.14\n",
    "    def __init__(self,radius = 1):\n",
    "        self.radius = radius\n",
    "        \n",
    "    #Method\n",
    "    def get_circumference(self):\n",
    "        return self.radius*self.pi*2"
   ]
  },
  {
   "cell_type": "code",
   "execution_count": 29,
   "id": "1a6a8691",
   "metadata": {
    "ExecuteTime": {
     "end_time": "2023-12-09T07:21:05.751272Z",
     "start_time": "2023-12-09T07:21:05.737211Z"
    }
   },
   "outputs": [],
   "source": [
    "my_circle = Circle(30)"
   ]
  },
  {
   "cell_type": "code",
   "execution_count": 30,
   "id": "1ada4610",
   "metadata": {
    "ExecuteTime": {
     "end_time": "2023-12-09T07:21:05.921994Z",
     "start_time": "2023-12-09T07:21:05.910994Z"
    }
   },
   "outputs": [
    {
     "data": {
      "text/plain": [
       "3.14"
      ]
     },
     "execution_count": 30,
     "metadata": {},
     "output_type": "execute_result"
    }
   ],
   "source": [
    "my_circle.pi"
   ]
  },
  {
   "cell_type": "code",
   "execution_count": 31,
   "id": "492ab5e9",
   "metadata": {
    "ExecuteTime": {
     "end_time": "2023-12-09T07:21:06.106899Z",
     "start_time": "2023-12-09T07:21:06.093911Z"
    }
   },
   "outputs": [
    {
     "data": {
      "text/plain": [
       "30"
      ]
     },
     "execution_count": 31,
     "metadata": {},
     "output_type": "execute_result"
    }
   ],
   "source": [
    "my_circle.radius"
   ]
  },
  {
   "cell_type": "code",
   "execution_count": 32,
   "id": "2cc62a6a",
   "metadata": {
    "ExecuteTime": {
     "end_time": "2023-12-09T07:21:06.307440Z",
     "start_time": "2023-12-09T07:21:06.290369Z"
    }
   },
   "outputs": [
    {
     "data": {
      "text/plain": [
       "188.4"
      ]
     },
     "execution_count": 32,
     "metadata": {},
     "output_type": "execute_result"
    }
   ],
   "source": [
    "my_circle.get_circumference()"
   ]
  },
  {
   "cell_type": "markdown",
   "id": "b44b080c",
   "metadata": {},
   "source": [
    "#### Inheritance"
   ]
  },
  {
   "cell_type": "code",
   "execution_count": 33,
   "id": "fda5288e",
   "metadata": {
    "ExecuteTime": {
     "end_time": "2023-12-09T07:25:02.617582Z",
     "start_time": "2023-12-09T07:25:02.602683Z"
    }
   },
   "outputs": [],
   "source": [
    "class Animal():\n",
    "    def __init__(self):\n",
    "        print(\"Animal created\")\n",
    "        \n",
    "    def who_am_i(self):\n",
    "        print(\"I am an animal\")\n",
    "        \n",
    "    def eat(self):\n",
    "        print(\"I am eating\")"
   ]
  },
  {
   "cell_type": "code",
   "execution_count": 34,
   "id": "c3bd084f",
   "metadata": {
    "ExecuteTime": {
     "end_time": "2023-12-09T07:25:12.711619Z",
     "start_time": "2023-12-09T07:25:12.706858Z"
    }
   },
   "outputs": [
    {
     "name": "stdout",
     "output_type": "stream",
     "text": [
      "Animal created\n"
     ]
    }
   ],
   "source": [
    "myanimal = Animal()"
   ]
  },
  {
   "cell_type": "code",
   "execution_count": 35,
   "id": "20f6a1af",
   "metadata": {
    "ExecuteTime": {
     "end_time": "2023-12-09T07:25:19.950648Z",
     "start_time": "2023-12-09T07:25:19.938679Z"
    }
   },
   "outputs": [
    {
     "name": "stdout",
     "output_type": "stream",
     "text": [
      "I am eating\n"
     ]
    }
   ],
   "source": [
    "myanimal.eat()"
   ]
  },
  {
   "cell_type": "code",
   "execution_count": 36,
   "id": "9f46792a",
   "metadata": {
    "ExecuteTime": {
     "end_time": "2023-12-09T07:25:31.977502Z",
     "start_time": "2023-12-09T07:25:31.971500Z"
    }
   },
   "outputs": [
    {
     "name": "stdout",
     "output_type": "stream",
     "text": [
      "I am an animal\n"
     ]
    }
   ],
   "source": [
    "myanimal.who_am_i()"
   ]
  },
  {
   "cell_type": "code",
   "execution_count": 49,
   "id": "c2ebd528",
   "metadata": {
    "ExecuteTime": {
     "end_time": "2023-12-09T07:36:06.197304Z",
     "start_time": "2023-12-09T07:36:06.193212Z"
    }
   },
   "outputs": [],
   "source": [
    "class Dog(Animal):\n",
    "    \n",
    "    def __init__(self):\n",
    "        Animal.__init__(self)\n",
    "        print(\"Dog Created\")\n",
    "        \n",
    "    def who_am_i(self):\n",
    "        print(\"I am a dog!\")\n",
    "        \n",
    "    def bark(self):\n",
    "        print(\"WOOF!\")"
   ]
  },
  {
   "cell_type": "code",
   "execution_count": 50,
   "id": "39556428",
   "metadata": {
    "ExecuteTime": {
     "end_time": "2023-12-09T07:36:06.833139Z",
     "start_time": "2023-12-09T07:36:06.816519Z"
    }
   },
   "outputs": [
    {
     "name": "stdout",
     "output_type": "stream",
     "text": [
      "Animal created\n",
      "Dog Created\n"
     ]
    }
   ],
   "source": [
    "mydog = Dog()"
   ]
  },
  {
   "cell_type": "code",
   "execution_count": 51,
   "id": "d985ea37",
   "metadata": {
    "ExecuteTime": {
     "end_time": "2023-12-09T07:36:07.268952Z",
     "start_time": "2023-12-09T07:36:07.260820Z"
    }
   },
   "outputs": [
    {
     "name": "stdout",
     "output_type": "stream",
     "text": [
      "I am eating\n"
     ]
    }
   ],
   "source": [
    "mydog.eat()"
   ]
  },
  {
   "cell_type": "code",
   "execution_count": 52,
   "id": "aedf74b8",
   "metadata": {
    "ExecuteTime": {
     "end_time": "2023-12-09T07:36:07.688832Z",
     "start_time": "2023-12-09T07:36:07.678366Z"
    }
   },
   "outputs": [
    {
     "name": "stdout",
     "output_type": "stream",
     "text": [
      "I am a dog!\n"
     ]
    }
   ],
   "source": [
    "mydog.who_am_i()"
   ]
  },
  {
   "cell_type": "code",
   "execution_count": 53,
   "id": "37d2093a",
   "metadata": {
    "ExecuteTime": {
     "end_time": "2023-12-09T07:36:16.653810Z",
     "start_time": "2023-12-09T07:36:16.649678Z"
    }
   },
   "outputs": [
    {
     "name": "stdout",
     "output_type": "stream",
     "text": [
      "WOOF!\n"
     ]
    }
   ],
   "source": [
    "mydog.bark()"
   ]
  },
  {
   "cell_type": "markdown",
   "id": "20fbce5d",
   "metadata": {},
   "source": [
    "#### Polymorphism"
   ]
  },
  {
   "cell_type": "code",
   "execution_count": 54,
   "id": "68a25ce4",
   "metadata": {
    "ExecuteTime": {
     "end_time": "2023-12-09T07:41:47.285259Z",
     "start_time": "2023-12-09T07:41:47.273647Z"
    }
   },
   "outputs": [],
   "source": [
    "class Dog():\n",
    "    def __init__(self,name):\n",
    "        self.name = name\n",
    "        \n",
    "    def speak(self):\n",
    "        return self.name + \" says whoof!\""
   ]
  },
  {
   "cell_type": "code",
   "execution_count": 67,
   "id": "c0281010",
   "metadata": {
    "ExecuteTime": {
     "end_time": "2023-12-09T07:46:35.551345Z",
     "start_time": "2023-12-09T07:46:35.535527Z"
    }
   },
   "outputs": [],
   "source": [
    "class Cat():\n",
    "    def __init__(self,name):\n",
    "        self.name = name\n",
    "        \n",
    "    def speak(self):\n",
    "        return self.name + \" says meow!\""
   ]
  },
  {
   "cell_type": "code",
   "execution_count": 68,
   "id": "a11c61c2",
   "metadata": {
    "ExecuteTime": {
     "end_time": "2023-12-09T07:47:04.182584Z",
     "start_time": "2023-12-09T07:47:04.167583Z"
    }
   },
   "outputs": [],
   "source": [
    "birju = Dog(\"birju\")\n",
    "billo = Cat(\"billo\")"
   ]
  },
  {
   "cell_type": "code",
   "execution_count": 70,
   "id": "3ed0e11f",
   "metadata": {
    "ExecuteTime": {
     "end_time": "2023-12-09T07:47:14.655848Z",
     "start_time": "2023-12-09T07:47:14.644234Z"
    }
   },
   "outputs": [
    {
     "name": "stdout",
     "output_type": "stream",
     "text": [
      "billo says meow!\n"
     ]
    }
   ],
   "source": [
    "print(billo.speak())"
   ]
  },
  {
   "cell_type": "code",
   "execution_count": 72,
   "id": "cfbead2a",
   "metadata": {
    "ExecuteTime": {
     "end_time": "2023-12-09T07:47:32.068210Z",
     "start_time": "2023-12-09T07:47:32.052021Z"
    }
   },
   "outputs": [
    {
     "name": "stdout",
     "output_type": "stream",
     "text": [
      "birju says whoof! \n"
     ]
    }
   ],
   "source": [
    "print(birju.speak())"
   ]
  },
  {
   "cell_type": "code",
   "execution_count": 74,
   "id": "a5e6f3eb",
   "metadata": {
    "ExecuteTime": {
     "end_time": "2023-12-09T07:50:10.480939Z",
     "start_time": "2023-12-09T07:50:10.476879Z"
    }
   },
   "outputs": [
    {
     "name": "stdout",
     "output_type": "stream",
     "text": [
      "<class '__main__.Dog'>\n",
      "birju says whoof! \n",
      "<class '__main__.Cat'>\n",
      "billo says meow!\n"
     ]
    }
   ],
   "source": [
    "for pet in [birju,billo]:\n",
    "    print(type(pet))\n",
    "    print(pet.speak())"
   ]
  },
  {
   "cell_type": "markdown",
   "id": "d4b034ac",
   "metadata": {},
   "source": [
    "#### Special(Magic/Dunder) methods"
   ]
  },
  {
   "cell_type": "code",
   "execution_count": 90,
   "id": "61600087",
   "metadata": {
    "ExecuteTime": {
     "end_time": "2023-12-09T08:08:26.546277Z",
     "start_time": "2023-12-09T08:08:26.534932Z"
    }
   },
   "outputs": [],
   "source": [
    "class Book():\n",
    "    \n",
    "    def __init__(self,title,author,pages):\n",
    "        self.author = author\n",
    "        self.title = title\n",
    "        self.pages = pages\n",
    "        \n",
    "    def __str__(self):\n",
    "        return f\"{self.title} by {self.author}\"\n",
    "    \n",
    "    def __len__(self):\n",
    "        return self.pages "
   ]
  },
  {
   "cell_type": "code",
   "execution_count": 91,
   "id": "0078a6d4",
   "metadata": {
    "ExecuteTime": {
     "end_time": "2023-12-09T08:08:26.823182Z",
     "start_time": "2023-12-09T08:08:26.820179Z"
    }
   },
   "outputs": [],
   "source": [
    "b = Book('Python rocks','Nikhil',200)"
   ]
  },
  {
   "cell_type": "code",
   "execution_count": 92,
   "id": "5df047ff",
   "metadata": {
    "ExecuteTime": {
     "end_time": "2023-12-09T08:08:27.103641Z",
     "start_time": "2023-12-09T08:08:27.087188Z"
    }
   },
   "outputs": [
    {
     "name": "stdout",
     "output_type": "stream",
     "text": [
      "Python rocks by Nikhil\n"
     ]
    }
   ],
   "source": [
    "print(b)"
   ]
  },
  {
   "cell_type": "code",
   "execution_count": 93,
   "id": "605e56bc",
   "metadata": {
    "ExecuteTime": {
     "end_time": "2023-12-09T08:08:27.338762Z",
     "start_time": "2023-12-09T08:08:27.332935Z"
    }
   },
   "outputs": [
    {
     "data": {
      "text/plain": [
       "'Python rocks by Nikhil'"
      ]
     },
     "execution_count": 93,
     "metadata": {},
     "output_type": "execute_result"
    }
   ],
   "source": [
    "str(b)"
   ]
  },
  {
   "cell_type": "code",
   "execution_count": 94,
   "id": "9769547d",
   "metadata": {
    "ExecuteTime": {
     "end_time": "2023-12-09T08:08:27.618860Z",
     "start_time": "2023-12-09T08:08:27.603855Z"
    }
   },
   "outputs": [
    {
     "data": {
      "text/plain": [
       "200"
      ]
     },
     "execution_count": 94,
     "metadata": {},
     "output_type": "execute_result"
    }
   ],
   "source": [
    "len(b)"
   ]
  },
  {
   "cell_type": "code",
   "execution_count": null,
   "id": "db49cf0d",
   "metadata": {},
   "outputs": [],
   "source": []
  }
 ],
 "metadata": {
  "kernelspec": {
   "display_name": "Python 3 (ipykernel)",
   "language": "python",
   "name": "python3"
  },
  "language_info": {
   "codemirror_mode": {
    "name": "ipython",
    "version": 3
   },
   "file_extension": ".py",
   "mimetype": "text/x-python",
   "name": "python",
   "nbconvert_exporter": "python",
   "pygments_lexer": "ipython3",
   "version": "3.9.7"
  },
  "varInspector": {
   "cols": {
    "lenName": 16,
    "lenType": 16,
    "lenVar": 40
   },
   "kernels_config": {
    "python": {
     "delete_cmd_postfix": "",
     "delete_cmd_prefix": "del ",
     "library": "var_list.py",
     "varRefreshCmd": "print(var_dic_list())"
    },
    "r": {
     "delete_cmd_postfix": ") ",
     "delete_cmd_prefix": "rm(",
     "library": "var_list.r",
     "varRefreshCmd": "cat(var_dic_list()) "
    }
   },
   "types_to_exclude": [
    "module",
    "function",
    "builtin_function_or_method",
    "instance",
    "_Feature"
   ],
   "window_display": false
  }
 },
 "nbformat": 4,
 "nbformat_minor": 5
}
