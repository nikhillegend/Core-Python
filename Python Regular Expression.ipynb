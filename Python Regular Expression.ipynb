{
 "cells": [
  {
   "cell_type": "code",
   "execution_count": 2,
   "id": "95700af4",
   "metadata": {
    "ExecuteTime": {
     "end_time": "2023-12-23T01:31:51.910734Z",
     "start_time": "2023-12-23T01:31:51.893382Z"
    }
   },
   "outputs": [],
   "source": [
    "text = \"The agent's phone number is 408-555-1234, Call soon!\""
   ]
  },
  {
   "cell_type": "code",
   "execution_count": 3,
   "id": "6978b29e",
   "metadata": {
    "ExecuteTime": {
     "end_time": "2023-12-23T01:32:10.283324Z",
     "start_time": "2023-12-23T01:32:10.262987Z"
    }
   },
   "outputs": [
    {
     "data": {
      "text/plain": [
       "True"
      ]
     },
     "execution_count": 3,
     "metadata": {},
     "output_type": "execute_result"
    }
   ],
   "source": [
    "'phone' in text"
   ]
  },
  {
   "cell_type": "code",
   "execution_count": 4,
   "id": "8090edd4",
   "metadata": {
    "ExecuteTime": {
     "end_time": "2023-12-23T01:32:26.322663Z",
     "start_time": "2023-12-23T01:32:26.313368Z"
    }
   },
   "outputs": [
    {
     "data": {
      "text/plain": [
       "True"
      ]
     },
     "execution_count": 4,
     "metadata": {},
     "output_type": "execute_result"
    }
   ],
   "source": [
    "'The' in text"
   ]
  },
  {
   "cell_type": "code",
   "execution_count": 5,
   "id": "5e7ae18b",
   "metadata": {
    "ExecuteTime": {
     "end_time": "2023-12-23T01:32:43.525970Z",
     "start_time": "2023-12-23T01:32:43.507448Z"
    }
   },
   "outputs": [],
   "source": [
    "import re"
   ]
  },
  {
   "cell_type": "code",
   "execution_count": 6,
   "id": "ff0dde6b",
   "metadata": {
    "ExecuteTime": {
     "end_time": "2023-12-23T01:32:55.170075Z",
     "start_time": "2023-12-23T01:32:55.158800Z"
    }
   },
   "outputs": [],
   "source": [
    "pattern = 'phone'"
   ]
  },
  {
   "cell_type": "code",
   "execution_count": 7,
   "id": "ab728801",
   "metadata": {
    "ExecuteTime": {
     "end_time": "2023-12-23T01:33:11.496019Z",
     "start_time": "2023-12-23T01:33:11.483209Z"
    }
   },
   "outputs": [
    {
     "data": {
      "text/plain": [
       "<re.Match object; span=(12, 17), match='phone'>"
      ]
     },
     "execution_count": 7,
     "metadata": {},
     "output_type": "execute_result"
    }
   ],
   "source": [
    "re.search(pattern,text)"
   ]
  },
  {
   "cell_type": "code",
   "execution_count": 8,
   "id": "0ebac1c2",
   "metadata": {
    "ExecuteTime": {
     "end_time": "2023-12-23T01:33:36.501508Z",
     "start_time": "2023-12-23T01:33:36.484040Z"
    }
   },
   "outputs": [],
   "source": [
    "pattern = 'Not in text'"
   ]
  },
  {
   "cell_type": "code",
   "execution_count": 9,
   "id": "6e9a913c",
   "metadata": {
    "ExecuteTime": {
     "end_time": "2023-12-23T01:33:44.524048Z",
     "start_time": "2023-12-23T01:33:44.517085Z"
    }
   },
   "outputs": [],
   "source": [
    "#if there is not pattern it returns none\n",
    "re.search(pattern,text)"
   ]
  },
  {
   "cell_type": "code",
   "execution_count": 10,
   "id": "a112f0a7",
   "metadata": {
    "ExecuteTime": {
     "end_time": "2023-12-23T01:34:51.129943Z",
     "start_time": "2023-12-23T01:34:51.115948Z"
    }
   },
   "outputs": [],
   "source": [
    "pattern = 'phone'"
   ]
  },
  {
   "cell_type": "code",
   "execution_count": 11,
   "id": "6c95d445",
   "metadata": {
    "ExecuteTime": {
     "end_time": "2023-12-23T01:35:03.469420Z",
     "start_time": "2023-12-23T01:35:03.451241Z"
    }
   },
   "outputs": [],
   "source": [
    "match = re.search(pattern,text)"
   ]
  },
  {
   "cell_type": "code",
   "execution_count": 12,
   "id": "9f523b44",
   "metadata": {
    "ExecuteTime": {
     "end_time": "2023-12-23T01:35:06.133434Z",
     "start_time": "2023-12-23T01:35:06.121189Z"
    }
   },
   "outputs": [
    {
     "data": {
      "text/plain": [
       "<re.Match object; span=(12, 17), match='phone'>"
      ]
     },
     "execution_count": 12,
     "metadata": {},
     "output_type": "execute_result"
    }
   ],
   "source": [
    "match"
   ]
  },
  {
   "cell_type": "code",
   "execution_count": 13,
   "id": "70cbf93c",
   "metadata": {
    "ExecuteTime": {
     "end_time": "2023-12-23T01:35:18.504035Z",
     "start_time": "2023-12-23T01:35:18.495422Z"
    }
   },
   "outputs": [
    {
     "data": {
      "text/plain": [
       "(12, 17)"
      ]
     },
     "execution_count": 13,
     "metadata": {},
     "output_type": "execute_result"
    }
   ],
   "source": [
    "match.span()"
   ]
  },
  {
   "cell_type": "code",
   "execution_count": 14,
   "id": "f8e71ebc",
   "metadata": {
    "ExecuteTime": {
     "end_time": "2023-12-23T01:35:27.076857Z",
     "start_time": "2023-12-23T01:35:27.065313Z"
    }
   },
   "outputs": [
    {
     "data": {
      "text/plain": [
       "12"
      ]
     },
     "execution_count": 14,
     "metadata": {},
     "output_type": "execute_result"
    }
   ],
   "source": [
    "match.start()"
   ]
  },
  {
   "cell_type": "code",
   "execution_count": 15,
   "id": "28b8e438",
   "metadata": {
    "ExecuteTime": {
     "end_time": "2023-12-23T01:35:33.067410Z",
     "start_time": "2023-12-23T01:35:33.054298Z"
    }
   },
   "outputs": [
    {
     "data": {
      "text/plain": [
       "17"
      ]
     },
     "execution_count": 15,
     "metadata": {},
     "output_type": "execute_result"
    }
   ],
   "source": [
    "match.end()"
   ]
  },
  {
   "cell_type": "code",
   "execution_count": 16,
   "id": "3e545c0b",
   "metadata": {
    "ExecuteTime": {
     "end_time": "2023-12-23T01:37:28.879362Z",
     "start_time": "2023-12-23T01:37:28.874278Z"
    }
   },
   "outputs": [],
   "source": [
    "text = 'My phone once, my phone twice'"
   ]
  },
  {
   "cell_type": "code",
   "execution_count": 17,
   "id": "351e8dec",
   "metadata": {
    "ExecuteTime": {
     "end_time": "2023-12-23T01:37:46.295305Z",
     "start_time": "2023-12-23T01:37:46.290348Z"
    }
   },
   "outputs": [],
   "source": [
    "match = re.search('phone',text)"
   ]
  },
  {
   "cell_type": "code",
   "execution_count": 18,
   "id": "37bd336b",
   "metadata": {
    "ExecuteTime": {
     "end_time": "2023-12-23T01:37:48.899887Z",
     "start_time": "2023-12-23T01:37:48.887887Z"
    }
   },
   "outputs": [
    {
     "data": {
      "text/plain": [
       "<re.Match object; span=(3, 8), match='phone'>"
      ]
     },
     "execution_count": 18,
     "metadata": {},
     "output_type": "execute_result"
    }
   ],
   "source": [
    "match"
   ]
  },
  {
   "cell_type": "code",
   "execution_count": 19,
   "id": "9365f00a",
   "metadata": {
    "ExecuteTime": {
     "end_time": "2023-12-23T01:38:16.338148Z",
     "start_time": "2023-12-23T01:38:16.332160Z"
    }
   },
   "outputs": [],
   "source": [
    "matches = re.findall('phone',text)"
   ]
  },
  {
   "cell_type": "code",
   "execution_count": 20,
   "id": "a6c59eaf",
   "metadata": {
    "ExecuteTime": {
     "end_time": "2023-12-23T01:38:20.108257Z",
     "start_time": "2023-12-23T01:38:20.089626Z"
    }
   },
   "outputs": [
    {
     "data": {
      "text/plain": [
       "['phone', 'phone']"
      ]
     },
     "execution_count": 20,
     "metadata": {},
     "output_type": "execute_result"
    }
   ],
   "source": [
    "matches"
   ]
  },
  {
   "cell_type": "code",
   "execution_count": 21,
   "id": "3bb18ba9",
   "metadata": {
    "ExecuteTime": {
     "end_time": "2023-12-23T01:38:28.615471Z",
     "start_time": "2023-12-23T01:38:28.609475Z"
    }
   },
   "outputs": [
    {
     "data": {
      "text/plain": [
       "2"
      ]
     },
     "execution_count": 21,
     "metadata": {},
     "output_type": "execute_result"
    }
   ],
   "source": [
    "len(matches)"
   ]
  },
  {
   "cell_type": "code",
   "execution_count": 22,
   "id": "317f0901",
   "metadata": {
    "ExecuteTime": {
     "end_time": "2023-12-23T01:39:00.507204Z",
     "start_time": "2023-12-23T01:39:00.499911Z"
    }
   },
   "outputs": [
    {
     "name": "stdout",
     "output_type": "stream",
     "text": [
      "<re.Match object; span=(3, 8), match='phone'>\n",
      "<re.Match object; span=(18, 23), match='phone'>\n"
     ]
    }
   ],
   "source": [
    "for match in re.finditer('phone',text):\n",
    "    print(match)"
   ]
  },
  {
   "cell_type": "code",
   "execution_count": 23,
   "id": "4aebfcd8",
   "metadata": {
    "ExecuteTime": {
     "end_time": "2023-12-23T01:39:17.487702Z",
     "start_time": "2023-12-23T01:39:17.475034Z"
    }
   },
   "outputs": [
    {
     "name": "stdout",
     "output_type": "stream",
     "text": [
      "(3, 8)\n",
      "(18, 23)\n"
     ]
    }
   ],
   "source": [
    "for match in re.finditer('phone',text):\n",
    "    print(match.span())"
   ]
  },
  {
   "cell_type": "code",
   "execution_count": 24,
   "id": "a0e777db",
   "metadata": {
    "ExecuteTime": {
     "end_time": "2023-12-23T01:39:24.684993Z",
     "start_time": "2023-12-23T01:39:24.674445Z"
    }
   },
   "outputs": [
    {
     "name": "stdout",
     "output_type": "stream",
     "text": [
      "phone\n",
      "phone\n"
     ]
    }
   ],
   "source": [
    "for match in re.finditer('phone',text):\n",
    "    print(match.group())"
   ]
  },
  {
   "cell_type": "code",
   "execution_count": 25,
   "id": "bde95807",
   "metadata": {
    "ExecuteTime": {
     "end_time": "2023-12-23T01:43:24.065656Z",
     "start_time": "2023-12-23T01:43:24.052021Z"
    }
   },
   "outputs": [],
   "source": [
    "text = \"The agent's phone number is 408-555-1234\""
   ]
  },
  {
   "cell_type": "code",
   "execution_count": 28,
   "id": "de67062a",
   "metadata": {
    "ExecuteTime": {
     "end_time": "2023-12-23T01:44:09.184578Z",
     "start_time": "2023-12-23T01:44:09.170231Z"
    }
   },
   "outputs": [],
   "source": [
    "phone = re.search('408-555-1234',text)"
   ]
  },
  {
   "cell_type": "code",
   "execution_count": 29,
   "id": "ff79d6ff",
   "metadata": {
    "ExecuteTime": {
     "end_time": "2023-12-23T01:44:13.380895Z",
     "start_time": "2023-12-23T01:44:13.367818Z"
    }
   },
   "outputs": [
    {
     "data": {
      "text/plain": [
       "<re.Match object; span=(28, 40), match='408-555-1234'>"
      ]
     },
     "execution_count": 29,
     "metadata": {},
     "output_type": "execute_result"
    }
   ],
   "source": [
    "phone"
   ]
  },
  {
   "cell_type": "code",
   "execution_count": 32,
   "id": "88bfdc66",
   "metadata": {
    "ExecuteTime": {
     "end_time": "2023-12-23T01:49:56.604229Z",
     "start_time": "2023-12-23T01:49:56.587649Z"
    }
   },
   "outputs": [
    {
     "data": {
      "text/plain": [
       "<re.Match object; span=(28, 40), match='408-555-1234'>"
      ]
     },
     "execution_count": 32,
     "metadata": {},
     "output_type": "execute_result"
    }
   ],
   "source": [
    "phone = re.search(r'\\d\\d\\d-\\d\\d\\d-\\d\\d\\d\\d',text)\n",
    "phone"
   ]
  },
  {
   "cell_type": "code",
   "execution_count": 33,
   "id": "ae3cd15a",
   "metadata": {
    "ExecuteTime": {
     "end_time": "2023-12-23T01:49:57.976202Z",
     "start_time": "2023-12-23T01:49:57.960198Z"
    }
   },
   "outputs": [
    {
     "data": {
      "text/plain": [
       "'408-555-1234'"
      ]
     },
     "execution_count": 33,
     "metadata": {},
     "output_type": "execute_result"
    }
   ],
   "source": [
    "phone.group()"
   ]
  },
  {
   "cell_type": "code",
   "execution_count": 34,
   "id": "5098a3fe",
   "metadata": {
    "ExecuteTime": {
     "end_time": "2023-12-23T01:50:46.391439Z",
     "start_time": "2023-12-23T01:50:46.381177Z"
    }
   },
   "outputs": [],
   "source": [
    "phone = re.search(r'\\d{3}-\\d{3}-\\d{4}',text) "
   ]
  },
  {
   "cell_type": "code",
   "execution_count": 35,
   "id": "bec90230",
   "metadata": {
    "ExecuteTime": {
     "end_time": "2023-12-23T01:50:50.725207Z",
     "start_time": "2023-12-23T01:50:50.707948Z"
    }
   },
   "outputs": [
    {
     "data": {
      "text/plain": [
       "<re.Match object; span=(28, 40), match='408-555-1234'>"
      ]
     },
     "execution_count": 35,
     "metadata": {},
     "output_type": "execute_result"
    }
   ],
   "source": [
    "phone"
   ]
  },
  {
   "cell_type": "code",
   "execution_count": 45,
   "id": "a5a103cb",
   "metadata": {
    "ExecuteTime": {
     "end_time": "2023-12-23T01:54:12.905466Z",
     "start_time": "2023-12-23T01:54:12.892467Z"
    }
   },
   "outputs": [],
   "source": [
    "phone_pattern = re.compile(r'(\\d{3})-(\\d{3})-(\\d{4})')"
   ]
  },
  {
   "cell_type": "code",
   "execution_count": 46,
   "id": "61fc2525",
   "metadata": {
    "ExecuteTime": {
     "end_time": "2023-12-23T01:54:13.309131Z",
     "start_time": "2023-12-23T01:54:13.291616Z"
    }
   },
   "outputs": [],
   "source": [
    "results = re.search(phone_pattern,text)"
   ]
  },
  {
   "cell_type": "code",
   "execution_count": 47,
   "id": "d102eca1",
   "metadata": {
    "ExecuteTime": {
     "end_time": "2023-12-23T01:54:13.668827Z",
     "start_time": "2023-12-23T01:54:13.659183Z"
    }
   },
   "outputs": [
    {
     "data": {
      "text/plain": [
       "'408-555-1234'"
      ]
     },
     "execution_count": 47,
     "metadata": {},
     "output_type": "execute_result"
    }
   ],
   "source": [
    "results.group()"
   ]
  },
  {
   "cell_type": "code",
   "execution_count": 48,
   "id": "e728da90",
   "metadata": {
    "ExecuteTime": {
     "end_time": "2023-12-23T01:54:19.360781Z",
     "start_time": "2023-12-23T01:54:19.343781Z"
    }
   },
   "outputs": [
    {
     "data": {
      "text/plain": [
       "<re.Match object; span=(28, 40), match='408-555-1234'>"
      ]
     },
     "execution_count": 48,
     "metadata": {},
     "output_type": "execute_result"
    }
   ],
   "source": [
    "results"
   ]
  },
  {
   "cell_type": "code",
   "execution_count": 49,
   "id": "2c85c4fd",
   "metadata": {
    "ExecuteTime": {
     "end_time": "2023-12-23T01:54:34.753816Z",
     "start_time": "2023-12-23T01:54:34.743734Z"
    }
   },
   "outputs": [
    {
     "data": {
      "text/plain": [
       "'408'"
      ]
     },
     "execution_count": 49,
     "metadata": {},
     "output_type": "execute_result"
    }
   ],
   "source": [
    "results.group(1)"
   ]
  },
  {
   "cell_type": "code",
   "execution_count": 50,
   "id": "aca33979",
   "metadata": {
    "ExecuteTime": {
     "end_time": "2023-12-23T01:54:50.714837Z",
     "start_time": "2023-12-23T01:54:50.697542Z"
    }
   },
   "outputs": [
    {
     "data": {
      "text/plain": [
       "'555'"
      ]
     },
     "execution_count": 50,
     "metadata": {},
     "output_type": "execute_result"
    }
   ],
   "source": [
    "results.group(2)"
   ]
  },
  {
   "cell_type": "code",
   "execution_count": 51,
   "id": "0d1878d3",
   "metadata": {
    "ExecuteTime": {
     "end_time": "2023-12-23T01:54:57.370956Z",
     "start_time": "2023-12-23T01:54:57.361214Z"
    }
   },
   "outputs": [
    {
     "data": {
      "text/plain": [
       "'1234'"
      ]
     },
     "execution_count": 51,
     "metadata": {},
     "output_type": "execute_result"
    }
   ],
   "source": [
    "results.group(3)"
   ]
  },
  {
   "cell_type": "code",
   "execution_count": null,
   "id": "548b362e",
   "metadata": {},
   "outputs": [],
   "source": []
  }
 ],
 "metadata": {
  "kernelspec": {
   "display_name": "Python 3 (ipykernel)",
   "language": "python",
   "name": "python3"
  },
  "language_info": {
   "codemirror_mode": {
    "name": "ipython",
    "version": 3
   },
   "file_extension": ".py",
   "mimetype": "text/x-python",
   "name": "python",
   "nbconvert_exporter": "python",
   "pygments_lexer": "ipython3",
   "version": "3.9.7"
  },
  "varInspector": {
   "cols": {
    "lenName": 16,
    "lenType": 16,
    "lenVar": 40
   },
   "kernels_config": {
    "python": {
     "delete_cmd_postfix": "",
     "delete_cmd_prefix": "del ",
     "library": "var_list.py",
     "varRefreshCmd": "print(var_dic_list())"
    },
    "r": {
     "delete_cmd_postfix": ") ",
     "delete_cmd_prefix": "rm(",
     "library": "var_list.r",
     "varRefreshCmd": "cat(var_dic_list()) "
    }
   },
   "types_to_exclude": [
    "module",
    "function",
    "builtin_function_or_method",
    "instance",
    "_Feature"
   ],
   "window_display": false
  }
 },
 "nbformat": 4,
 "nbformat_minor": 5
}
