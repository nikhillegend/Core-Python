{
 "cells": [
  {
   "cell_type": "code",
   "execution_count": 1,
   "id": "fccbedf9",
   "metadata": {
    "ExecuteTime": {
     "end_time": "2023-12-02T05:40:08.213955Z",
     "start_time": "2023-12-02T05:40:08.210954Z"
    }
   },
   "outputs": [],
   "source": [
    "mylist = [1,2,3,4,5]"
   ]
  },
  {
   "cell_type": "code",
   "execution_count": 2,
   "id": "69fb4f0c",
   "metadata": {
    "ExecuteTime": {
     "end_time": "2023-12-02T05:40:23.022257Z",
     "start_time": "2023-12-02T05:40:23.008909Z"
    }
   },
   "outputs": [],
   "source": [
    "mylist.append(6)"
   ]
  },
  {
   "cell_type": "code",
   "execution_count": 3,
   "id": "31325367",
   "metadata": {
    "ExecuteTime": {
     "end_time": "2023-12-02T05:40:28.934628Z",
     "start_time": "2023-12-02T05:40:28.916625Z"
    }
   },
   "outputs": [
    {
     "data": {
      "text/plain": [
       "[1, 2, 3, 4, 5, 6]"
      ]
     },
     "execution_count": 3,
     "metadata": {},
     "output_type": "execute_result"
    }
   ],
   "source": [
    "mylist"
   ]
  },
  {
   "cell_type": "code",
   "execution_count": 4,
   "id": "1c623556",
   "metadata": {
    "ExecuteTime": {
     "end_time": "2023-12-02T05:40:56.801467Z",
     "start_time": "2023-12-02T05:40:56.797023Z"
    }
   },
   "outputs": [
    {
     "data": {
      "text/plain": [
       "[1, 2, 3, 4, 5, 6]"
      ]
     },
     "execution_count": 4,
     "metadata": {},
     "output_type": "execute_result"
    }
   ],
   "source": [
    "mylist.copy()"
   ]
  },
  {
   "cell_type": "code",
   "execution_count": 11,
   "id": "dfe9e4d5",
   "metadata": {
    "ExecuteTime": {
     "end_time": "2023-12-02T05:41:56.118546Z",
     "start_time": "2023-12-02T05:41:56.109013Z"
    }
   },
   "outputs": [],
   "source": [
    "mylist.extend('Raju')"
   ]
  },
  {
   "cell_type": "code",
   "execution_count": 12,
   "id": "4461084a",
   "metadata": {
    "ExecuteTime": {
     "end_time": "2023-12-02T05:41:58.327013Z",
     "start_time": "2023-12-02T05:41:58.316015Z"
    }
   },
   "outputs": [
    {
     "data": {
      "text/plain": [
       "[1, 2, 3, 4, 5, 6, 'R', 'a', 'j', 'u', 'R', 'a', 'j', 'u']"
      ]
     },
     "execution_count": 12,
     "metadata": {},
     "output_type": "execute_result"
    }
   ],
   "source": [
    "mylist"
   ]
  },
  {
   "cell_type": "code",
   "execution_count": 16,
   "id": "312c787b",
   "metadata": {
    "ExecuteTime": {
     "end_time": "2023-12-02T05:42:56.303031Z",
     "start_time": "2023-12-02T05:42:56.283376Z"
    }
   },
   "outputs": [
    {
     "data": {
      "text/plain": [
       "1"
      ]
     },
     "execution_count": 16,
     "metadata": {},
     "output_type": "execute_result"
    }
   ],
   "source": [
    "mylist.index(2)"
   ]
  },
  {
   "cell_type": "code",
   "execution_count": 20,
   "id": "5f0cbbac",
   "metadata": {
    "ExecuteTime": {
     "end_time": "2023-12-02T05:43:54.904568Z",
     "start_time": "2023-12-02T05:43:54.887135Z"
    }
   },
   "outputs": [
    {
     "data": {
      "text/plain": [
       "0"
      ]
     },
     "execution_count": 20,
     "metadata": {},
     "output_type": "execute_result"
    }
   ],
   "source": [
    "mylist.index(1)"
   ]
  },
  {
   "cell_type": "code",
   "execution_count": 23,
   "id": "36b7e42a",
   "metadata": {
    "ExecuteTime": {
     "end_time": "2023-12-02T05:44:49.162850Z",
     "start_time": "2023-12-02T05:44:49.156140Z"
    }
   },
   "outputs": [],
   "source": [
    "mylist.insert(0,1)"
   ]
  },
  {
   "cell_type": "code",
   "execution_count": 24,
   "id": "f42721d3",
   "metadata": {
    "ExecuteTime": {
     "end_time": "2023-12-02T05:44:54.344551Z",
     "start_time": "2023-12-02T05:44:54.330304Z"
    }
   },
   "outputs": [
    {
     "data": {
      "text/plain": [
       "[1, 1, 2, 3, 4, 5, 6, 'R', 'a', 'j', 'u', 'R', 'a', 'j', 'u']"
      ]
     },
     "execution_count": 24,
     "metadata": {},
     "output_type": "execute_result"
    }
   ],
   "source": [
    "mylist"
   ]
  },
  {
   "cell_type": "code",
   "execution_count": 26,
   "id": "de164fb0",
   "metadata": {
    "ExecuteTime": {
     "end_time": "2023-12-02T05:45:26.141783Z",
     "start_time": "2023-12-02T05:45:26.133814Z"
    }
   },
   "outputs": [],
   "source": [
    "mylist.remove(1)"
   ]
  },
  {
   "cell_type": "code",
   "execution_count": 27,
   "id": "78a001c6",
   "metadata": {
    "ExecuteTime": {
     "end_time": "2023-12-02T05:45:29.794944Z",
     "start_time": "2023-12-02T05:45:29.787947Z"
    }
   },
   "outputs": [
    {
     "data": {
      "text/plain": [
       "[1, 2, 3, 4, 5, 6, 'R', 'a', 'j', 'u', 'R', 'a', 'j', 'u']"
      ]
     },
     "execution_count": 27,
     "metadata": {},
     "output_type": "execute_result"
    }
   ],
   "source": [
    "mylist"
   ]
  },
  {
   "cell_type": "code",
   "execution_count": 29,
   "id": "5e607cc2",
   "metadata": {
    "ExecuteTime": {
     "end_time": "2023-12-02T05:45:47.517917Z",
     "start_time": "2023-12-02T05:45:47.506740Z"
    }
   },
   "outputs": [],
   "source": [
    "mylist.reverse()"
   ]
  },
  {
   "cell_type": "code",
   "execution_count": 30,
   "id": "d2880187",
   "metadata": {
    "ExecuteTime": {
     "end_time": "2023-12-02T05:45:51.106212Z",
     "start_time": "2023-12-02T05:45:51.089036Z"
    }
   },
   "outputs": [
    {
     "data": {
      "text/plain": [
       "['u', 'j', 'a', 'R', 'u', 'j', 'a', 'R', 6, 5, 4, 3, 2, 1]"
      ]
     },
     "execution_count": 30,
     "metadata": {},
     "output_type": "execute_result"
    }
   ],
   "source": [
    "mylist"
   ]
  },
  {
   "cell_type": "code",
   "execution_count": 31,
   "id": "f5fa20ea",
   "metadata": {
    "ExecuteTime": {
     "end_time": "2023-12-02T05:46:02.342648Z",
     "start_time": "2023-12-02T05:46:02.334210Z"
    }
   },
   "outputs": [],
   "source": [
    "mylist.reverse()"
   ]
  },
  {
   "cell_type": "code",
   "execution_count": 32,
   "id": "3064422f",
   "metadata": {
    "ExecuteTime": {
     "end_time": "2023-12-02T05:46:04.873408Z",
     "start_time": "2023-12-02T05:46:04.865246Z"
    }
   },
   "outputs": [
    {
     "data": {
      "text/plain": [
       "[1, 2, 3, 4, 5, 6, 'R', 'a', 'j', 'u', 'R', 'a', 'j', 'u']"
      ]
     },
     "execution_count": 32,
     "metadata": {},
     "output_type": "execute_result"
    }
   ],
   "source": [
    "mylist"
   ]
  },
  {
   "cell_type": "code",
   "execution_count": 33,
   "id": "cca32f47",
   "metadata": {
    "ExecuteTime": {
     "end_time": "2023-12-02T05:46:19.299675Z",
     "start_time": "2023-12-02T05:46:19.284731Z"
    }
   },
   "outputs": [
    {
     "data": {
      "text/plain": [
       "'u'"
      ]
     },
     "execution_count": 33,
     "metadata": {},
     "output_type": "execute_result"
    }
   ],
   "source": [
    "mylist.pop()"
   ]
  },
  {
   "cell_type": "code",
   "execution_count": null,
   "id": "f1a4e14b",
   "metadata": {},
   "outputs": [],
   "source": []
  }
 ],
 "metadata": {
  "kernelspec": {
   "display_name": "Python 3 (ipykernel)",
   "language": "python",
   "name": "python3"
  },
  "language_info": {
   "codemirror_mode": {
    "name": "ipython",
    "version": 3
   },
   "file_extension": ".py",
   "mimetype": "text/x-python",
   "name": "python",
   "nbconvert_exporter": "python",
   "pygments_lexer": "ipython3",
   "version": "3.9.7"
  },
  "varInspector": {
   "cols": {
    "lenName": 16,
    "lenType": 16,
    "lenVar": 40
   },
   "kernels_config": {
    "python": {
     "delete_cmd_postfix": "",
     "delete_cmd_prefix": "del ",
     "library": "var_list.py",
     "varRefreshCmd": "print(var_dic_list())"
    },
    "r": {
     "delete_cmd_postfix": ") ",
     "delete_cmd_prefix": "rm(",
     "library": "var_list.r",
     "varRefreshCmd": "cat(var_dic_list()) "
    }
   },
   "types_to_exclude": [
    "module",
    "function",
    "builtin_function_or_method",
    "instance",
    "_Feature"
   ],
   "window_display": false
  }
 },
 "nbformat": 4,
 "nbformat_minor": 5
}
