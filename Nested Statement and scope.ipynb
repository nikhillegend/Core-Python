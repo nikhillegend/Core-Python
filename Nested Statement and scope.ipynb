{
 "cells": [
  {
   "cell_type": "code",
   "execution_count": 1,
   "id": "ecb70f2d",
   "metadata": {
    "ExecuteTime": {
     "end_time": "2023-12-04T07:36:28.828180Z",
     "start_time": "2023-12-04T07:36:28.819682Z"
    }
   },
   "outputs": [],
   "source": [
    "x = 25\n",
    "\n",
    "def printer():\n",
    "    x = 50\n",
    "    return x"
   ]
  },
  {
   "cell_type": "code",
   "execution_count": 2,
   "id": "1eaf16d2",
   "metadata": {
    "ExecuteTime": {
     "end_time": "2023-12-04T07:36:35.288252Z",
     "start_time": "2023-12-04T07:36:35.281752Z"
    }
   },
   "outputs": [
    {
     "name": "stdout",
     "output_type": "stream",
     "text": [
      "25\n"
     ]
    }
   ],
   "source": [
    "print(x)"
   ]
  },
  {
   "cell_type": "code",
   "execution_count": 5,
   "id": "78cc0683",
   "metadata": {
    "ExecuteTime": {
     "end_time": "2023-12-04T07:37:01.179610Z",
     "start_time": "2023-12-04T07:37:01.172685Z"
    }
   },
   "outputs": [
    {
     "name": "stdout",
     "output_type": "stream",
     "text": [
      "50\n"
     ]
    }
   ],
   "source": [
    "print(printer())"
   ]
  },
  {
   "cell_type": "code",
   "execution_count": 14,
   "id": "6a8fc342",
   "metadata": {
    "ExecuteTime": {
     "end_time": "2023-12-04T07:40:24.308419Z",
     "start_time": "2023-12-04T07:40:24.292199Z"
    }
   },
   "outputs": [],
   "source": [
    "name = 'This is a Golbal string'\n",
    "\n",
    "def greet():\n",
    "    \n",
    "    name = 'Sammy'\n",
    "    \n",
    "    def hello():\n",
    "        \n",
    "        print('Hello ' +name)\n",
    "        \n",
    "    hello()\n",
    "    "
   ]
  },
  {
   "cell_type": "code",
   "execution_count": 15,
   "id": "ff42ec6d",
   "metadata": {
    "ExecuteTime": {
     "end_time": "2023-12-04T07:40:24.583658Z",
     "start_time": "2023-12-04T07:40:24.577063Z"
    }
   },
   "outputs": [
    {
     "name": "stdout",
     "output_type": "stream",
     "text": [
      "Hello Sammy\n"
     ]
    }
   ],
   "source": [
    "greet()"
   ]
  },
  {
   "cell_type": "code",
   "execution_count": 16,
   "id": "7bd08ff2",
   "metadata": {
    "ExecuteTime": {
     "end_time": "2023-12-04T07:40:46.650554Z",
     "start_time": "2023-12-04T07:40:46.637372Z"
    }
   },
   "outputs": [],
   "source": [
    "name = 'This is a Golbal string'\n",
    "\n",
    "def greet():\n",
    "    \n",
    "    #name = 'Sammy'\n",
    "    \n",
    "    def hello():\n",
    "        \n",
    "        print('Hello ' +name)\n",
    "        \n",
    "    hello()"
   ]
  },
  {
   "cell_type": "code",
   "execution_count": 17,
   "id": "03972cb5",
   "metadata": {
    "ExecuteTime": {
     "end_time": "2023-12-04T07:40:50.764227Z",
     "start_time": "2023-12-04T07:40:50.756581Z"
    }
   },
   "outputs": [
    {
     "name": "stdout",
     "output_type": "stream",
     "text": [
      "Hello This is a Golbal string\n"
     ]
    }
   ],
   "source": [
    "greet()"
   ]
  },
  {
   "cell_type": "code",
   "execution_count": null,
   "id": "72b8863e",
   "metadata": {},
   "outputs": [],
   "source": []
  }
 ],
 "metadata": {
  "kernelspec": {
   "display_name": "Python 3 (ipykernel)",
   "language": "python",
   "name": "python3"
  },
  "language_info": {
   "codemirror_mode": {
    "name": "ipython",
    "version": 3
   },
   "file_extension": ".py",
   "mimetype": "text/x-python",
   "name": "python",
   "nbconvert_exporter": "python",
   "pygments_lexer": "ipython3",
   "version": "3.9.7"
  },
  "varInspector": {
   "cols": {
    "lenName": 16,
    "lenType": 16,
    "lenVar": 40
   },
   "kernels_config": {
    "python": {
     "delete_cmd_postfix": "",
     "delete_cmd_prefix": "del ",
     "library": "var_list.py",
     "varRefreshCmd": "print(var_dic_list())"
    },
    "r": {
     "delete_cmd_postfix": ") ",
     "delete_cmd_prefix": "rm(",
     "library": "var_list.r",
     "varRefreshCmd": "cat(var_dic_list()) "
    }
   },
   "types_to_exclude": [
    "module",
    "function",
    "builtin_function_or_method",
    "instance",
    "_Feature"
   ],
   "window_display": false
  }
 },
 "nbformat": 4,
 "nbformat_minor": 5
}
