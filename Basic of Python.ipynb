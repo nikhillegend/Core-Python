{
 "cells": [
  {
   "cell_type": "code",
   "execution_count": 1,
   "id": "3ee565a1",
   "metadata": {
    "ExecuteTime": {
     "end_time": "2023-11-10T07:05:06.660278Z",
     "start_time": "2023-11-10T07:05:06.644270Z"
    }
   },
   "outputs": [],
   "source": [
    "a = 5"
   ]
  },
  {
   "cell_type": "code",
   "execution_count": 2,
   "id": "7f57b78b",
   "metadata": {
    "ExecuteTime": {
     "end_time": "2023-11-10T07:05:08.793688Z",
     "start_time": "2023-11-10T07:05:08.770329Z"
    }
   },
   "outputs": [
    {
     "data": {
      "text/plain": [
       "5"
      ]
     },
     "execution_count": 2,
     "metadata": {},
     "output_type": "execute_result"
    }
   ],
   "source": [
    "a "
   ]
  },
  {
   "cell_type": "code",
   "execution_count": 3,
   "id": "7a099bbf",
   "metadata": {
    "ExecuteTime": {
     "end_time": "2023-11-10T07:05:16.258247Z",
     "start_time": "2023-11-10T07:05:16.244776Z"
    }
   },
   "outputs": [],
   "source": [
    "a = 10"
   ]
  },
  {
   "cell_type": "code",
   "execution_count": 4,
   "id": "8aca2890",
   "metadata": {
    "ExecuteTime": {
     "end_time": "2023-11-10T07:05:17.941379Z",
     "start_time": "2023-11-10T07:05:17.935508Z"
    }
   },
   "outputs": [
    {
     "data": {
      "text/plain": [
       "10"
      ]
     },
     "execution_count": 4,
     "metadata": {},
     "output_type": "execute_result"
    }
   ],
   "source": [
    "a"
   ]
  },
  {
   "cell_type": "code",
   "execution_count": 5,
   "id": "1e38f221",
   "metadata": {
    "ExecuteTime": {
     "end_time": "2023-11-10T07:05:26.027354Z",
     "start_time": "2023-11-10T07:05:26.019207Z"
    }
   },
   "outputs": [
    {
     "data": {
      "text/plain": [
       "20"
      ]
     },
     "execution_count": 5,
     "metadata": {},
     "output_type": "execute_result"
    }
   ],
   "source": [
    "a + a"
   ]
  },
  {
   "cell_type": "code",
   "execution_count": 6,
   "id": "7f24f4af",
   "metadata": {
    "ExecuteTime": {
     "end_time": "2023-11-10T07:05:35.131864Z",
     "start_time": "2023-11-10T07:05:35.125841Z"
    }
   },
   "outputs": [],
   "source": [
    "a = a + a"
   ]
  },
  {
   "cell_type": "code",
   "execution_count": 7,
   "id": "fa6ac02d",
   "metadata": {
    "ExecuteTime": {
     "end_time": "2023-11-10T07:05:36.665506Z",
     "start_time": "2023-11-10T07:05:36.657308Z"
    }
   },
   "outputs": [
    {
     "data": {
      "text/plain": [
       "20"
      ]
     },
     "execution_count": 7,
     "metadata": {},
     "output_type": "execute_result"
    }
   ],
   "source": [
    "a"
   ]
  },
  {
   "cell_type": "code",
   "execution_count": 8,
   "id": "01bce8be",
   "metadata": {
    "ExecuteTime": {
     "end_time": "2023-11-10T07:05:42.907417Z",
     "start_time": "2023-11-10T07:05:42.894394Z"
    }
   },
   "outputs": [
    {
     "data": {
      "text/plain": [
       "int"
      ]
     },
     "execution_count": 8,
     "metadata": {},
     "output_type": "execute_result"
    }
   ],
   "source": [
    "type(a)"
   ]
  },
  {
   "cell_type": "code",
   "execution_count": 11,
   "id": "46e88e76",
   "metadata": {
    "ExecuteTime": {
     "end_time": "2023-11-10T07:06:14.479625Z",
     "start_time": "2023-11-10T07:06:14.466108Z"
    }
   },
   "outputs": [],
   "source": [
    "a = 10.0"
   ]
  },
  {
   "cell_type": "code",
   "execution_count": 12,
   "id": "2317b95a",
   "metadata": {
    "ExecuteTime": {
     "end_time": "2023-11-10T07:06:19.046724Z",
     "start_time": "2023-11-10T07:06:19.032601Z"
    }
   },
   "outputs": [
    {
     "data": {
      "text/plain": [
       "float"
      ]
     },
     "execution_count": 12,
     "metadata": {},
     "output_type": "execute_result"
    }
   ],
   "source": [
    "type(a)"
   ]
  },
  {
   "cell_type": "code",
   "execution_count": 13,
   "id": "76912f25",
   "metadata": {
    "ExecuteTime": {
     "end_time": "2023-11-10T07:07:15.878537Z",
     "start_time": "2023-11-10T07:07:15.858015Z"
    }
   },
   "outputs": [],
   "source": [
    "my_income = 100\n",
    "\n",
    "tax_rate = 0.1\n",
    "\n",
    "my_taxes = my_income * tax_rate"
   ]
  },
  {
   "cell_type": "code",
   "execution_count": 14,
   "id": "70267969",
   "metadata": {
    "ExecuteTime": {
     "end_time": "2023-11-10T07:07:21.097959Z",
     "start_time": "2023-11-10T07:07:21.087438Z"
    }
   },
   "outputs": [
    {
     "data": {
      "text/plain": [
       "10.0"
      ]
     },
     "execution_count": 14,
     "metadata": {},
     "output_type": "execute_result"
    }
   ],
   "source": [
    "my_taxes"
   ]
  },
  {
   "cell_type": "code",
   "execution_count": null,
   "id": "f1d0cc8b",
   "metadata": {},
   "outputs": [],
   "source": []
  }
 ],
 "metadata": {
  "kernelspec": {
   "display_name": "Python 3 (ipykernel)",
   "language": "python",
   "name": "python3"
  },
  "language_info": {
   "codemirror_mode": {
    "name": "ipython",
    "version": 3
   },
   "file_extension": ".py",
   "mimetype": "text/x-python",
   "name": "python",
   "nbconvert_exporter": "python",
   "pygments_lexer": "ipython3",
   "version": "3.9.7"
  },
  "varInspector": {
   "cols": {
    "lenName": 16,
    "lenType": 16,
    "lenVar": 40
   },
   "kernels_config": {
    "python": {
     "delete_cmd_postfix": "",
     "delete_cmd_prefix": "del ",
     "library": "var_list.py",
     "varRefreshCmd": "print(var_dic_list())"
    },
    "r": {
     "delete_cmd_postfix": ") ",
     "delete_cmd_prefix": "rm(",
     "library": "var_list.r",
     "varRefreshCmd": "cat(var_dic_list()) "
    }
   },
   "types_to_exclude": [
    "module",
    "function",
    "builtin_function_or_method",
    "instance",
    "_Feature"
   ],
   "window_display": false
  }
 },
 "nbformat": 4,
 "nbformat_minor": 5
}
