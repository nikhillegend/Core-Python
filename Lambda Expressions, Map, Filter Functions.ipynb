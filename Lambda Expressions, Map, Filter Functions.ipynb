{
 "cells": [
  {
   "cell_type": "code",
   "execution_count": 6,
   "id": "11da5380",
   "metadata": {
    "ExecuteTime": {
     "end_time": "2023-12-04T07:20:14.488988Z",
     "start_time": "2023-12-04T07:20:14.472358Z"
    }
   },
   "outputs": [],
   "source": [
    "def square(num):\n",
    "    return num**2"
   ]
  },
  {
   "cell_type": "code",
   "execution_count": 7,
   "id": "41bf9370",
   "metadata": {
    "ExecuteTime": {
     "end_time": "2023-12-04T07:20:14.905899Z",
     "start_time": "2023-12-04T07:20:14.897634Z"
    }
   },
   "outputs": [],
   "source": [
    "my_num = [1,2,3,4,5,6]"
   ]
  },
  {
   "cell_type": "code",
   "execution_count": 8,
   "id": "7ea99d0e",
   "metadata": {
    "ExecuteTime": {
     "end_time": "2023-12-04T07:20:15.148928Z",
     "start_time": "2023-12-04T07:20:15.131944Z"
    }
   },
   "outputs": [
    {
     "name": "stdout",
     "output_type": "stream",
     "text": [
      "1\n",
      "4\n",
      "9\n",
      "16\n",
      "25\n",
      "36\n"
     ]
    }
   ],
   "source": [
    "for item in map(square,my_num):\n",
    "    print(item)"
   ]
  },
  {
   "cell_type": "code",
   "execution_count": 9,
   "id": "3338f586",
   "metadata": {
    "ExecuteTime": {
     "end_time": "2023-12-04T07:20:15.343424Z",
     "start_time": "2023-12-04T07:20:15.327531Z"
    }
   },
   "outputs": [
    {
     "data": {
      "text/plain": [
       "[1, 4, 9, 16, 25, 36]"
      ]
     },
     "execution_count": 9,
     "metadata": {},
     "output_type": "execute_result"
    }
   ],
   "source": [
    "list(map(square,my_num))"
   ]
  },
  {
   "cell_type": "code",
   "execution_count": 10,
   "id": "a922c55a",
   "metadata": {
    "ExecuteTime": {
     "end_time": "2023-12-04T07:20:15.509245Z",
     "start_time": "2023-12-04T07:20:15.487295Z"
    }
   },
   "outputs": [
    {
     "name": "stdout",
     "output_type": "stream",
     "text": [
      "1\n",
      "4\n",
      "9\n",
      "16\n",
      "25\n",
      "36\n"
     ]
    }
   ],
   "source": [
    "for item in map(square,my_num):\n",
    "    print(item)\n",
    "    "
   ]
  },
  {
   "cell_type": "code",
   "execution_count": 11,
   "id": "59ed07e6",
   "metadata": {
    "ExecuteTime": {
     "end_time": "2023-12-04T07:20:15.705843Z",
     "start_time": "2023-12-04T07:20:15.691720Z"
    }
   },
   "outputs": [],
   "source": [
    "def splicer(mystring):\n",
    "    if len(mystring) % 2 == 0:\n",
    "        return 'Even'\n",
    "    \n",
    "    else:\n",
    "        return 'Odd'"
   ]
  },
  {
   "cell_type": "code",
   "execution_count": 12,
   "id": "50e132f8",
   "metadata": {
    "ExecuteTime": {
     "end_time": "2023-12-04T07:20:15.861173Z",
     "start_time": "2023-12-04T07:20:15.852683Z"
    }
   },
   "outputs": [],
   "source": [
    "names = ['Andy', 'Jose', 'Eve', 'Nik', 'Noway']"
   ]
  },
  {
   "cell_type": "code",
   "execution_count": 13,
   "id": "c5babdc5",
   "metadata": {
    "ExecuteTime": {
     "end_time": "2023-12-04T07:20:16.045595Z",
     "start_time": "2023-12-04T07:20:16.030873Z"
    }
   },
   "outputs": [
    {
     "name": "stdout",
     "output_type": "stream",
     "text": [
      "Even\n",
      "Even\n",
      "Odd\n",
      "Odd\n",
      "Odd\n"
     ]
    }
   ],
   "source": [
    "for item in map(splicer,names):\n",
    "    print(item)"
   ]
  },
  {
   "cell_type": "code",
   "execution_count": 14,
   "id": "11ebc355",
   "metadata": {
    "ExecuteTime": {
     "end_time": "2023-12-04T07:20:16.211085Z",
     "start_time": "2023-12-04T07:20:16.198801Z"
    }
   },
   "outputs": [],
   "source": [
    "def check_even(num):\n",
    "    return num%2 == 0 "
   ]
  },
  {
   "cell_type": "code",
   "execution_count": 15,
   "id": "7dd0a676",
   "metadata": {
    "ExecuteTime": {
     "end_time": "2023-12-04T07:20:16.376195Z",
     "start_time": "2023-12-04T07:20:16.361938Z"
    }
   },
   "outputs": [],
   "source": [
    "mylist = [1,2,3,4,5,6]"
   ]
  },
  {
   "cell_type": "code",
   "execution_count": 16,
   "id": "da5cfe9a",
   "metadata": {
    "ExecuteTime": {
     "end_time": "2023-12-04T07:20:16.572340Z",
     "start_time": "2023-12-04T07:20:16.555224Z"
    }
   },
   "outputs": [
    {
     "name": "stdout",
     "output_type": "stream",
     "text": [
      "2\n",
      "4\n",
      "6\n"
     ]
    }
   ],
   "source": [
    "for item in filter(check_even,mylist):\n",
    "    print(item)"
   ]
  },
  {
   "cell_type": "code",
   "execution_count": 17,
   "id": "c7ce8ecd",
   "metadata": {
    "ExecuteTime": {
     "end_time": "2023-12-04T07:20:16.752777Z",
     "start_time": "2023-12-04T07:20:16.735376Z"
    }
   },
   "outputs": [
    {
     "data": {
      "text/plain": [
       "[2, 4, 6]"
      ]
     },
     "execution_count": 17,
     "metadata": {},
     "output_type": "execute_result"
    }
   ],
   "source": [
    "list(filter(check_even,mylist))"
   ]
  },
  {
   "cell_type": "code",
   "execution_count": 18,
   "id": "0aade7ce",
   "metadata": {
    "ExecuteTime": {
     "end_time": "2023-12-04T07:20:16.940887Z",
     "start_time": "2023-12-04T07:20:16.927159Z"
    }
   },
   "outputs": [],
   "source": [
    "sqaure = lambda num: num ** 2"
   ]
  },
  {
   "cell_type": "code",
   "execution_count": 19,
   "id": "0d58e49e",
   "metadata": {
    "ExecuteTime": {
     "end_time": "2023-12-04T07:20:17.123637Z",
     "start_time": "2023-12-04T07:20:17.095677Z"
    }
   },
   "outputs": [
    {
     "data": {
      "text/plain": [
       "4"
      ]
     },
     "execution_count": 19,
     "metadata": {},
     "output_type": "execute_result"
    }
   ],
   "source": [
    "sqaure(2)"
   ]
  },
  {
   "cell_type": "code",
   "execution_count": 22,
   "id": "853019ee",
   "metadata": {
    "ExecuteTime": {
     "end_time": "2023-12-04T07:21:37.417631Z",
     "start_time": "2023-12-04T07:21:37.408675Z"
    }
   },
   "outputs": [
    {
     "data": {
      "text/plain": [
       "[1, 4, 9, 16, 25, 36]"
      ]
     },
     "execution_count": 22,
     "metadata": {},
     "output_type": "execute_result"
    }
   ],
   "source": [
    "list(map(lambda num: num ** 2, my_num))"
   ]
  },
  {
   "cell_type": "code",
   "execution_count": 23,
   "id": "b8faba24",
   "metadata": {
    "ExecuteTime": {
     "end_time": "2023-12-04T07:22:53.196826Z",
     "start_time": "2023-12-04T07:22:53.186547Z"
    }
   },
   "outputs": [
    {
     "data": {
      "text/plain": [
       "[2, 4, 6]"
      ]
     },
     "execution_count": 23,
     "metadata": {},
     "output_type": "execute_result"
    }
   ],
   "source": [
    "list(filter(lambda num: num%2 == 0,my_num))"
   ]
  },
  {
   "cell_type": "code",
   "execution_count": 24,
   "id": "cc8b487f",
   "metadata": {
    "ExecuteTime": {
     "end_time": "2023-12-04T07:23:05.809035Z",
     "start_time": "2023-12-04T07:23:05.802801Z"
    }
   },
   "outputs": [
    {
     "data": {
      "text/plain": [
       "['Andy', 'Jose', 'Eve', 'Nik', 'Noway']"
      ]
     },
     "execution_count": 24,
     "metadata": {},
     "output_type": "execute_result"
    }
   ],
   "source": [
    "names"
   ]
  },
  {
   "cell_type": "code",
   "execution_count": 27,
   "id": "496580b4",
   "metadata": {
    "ExecuteTime": {
     "end_time": "2023-12-04T07:24:11.680413Z",
     "start_time": "2023-12-04T07:24:11.668901Z"
    }
   },
   "outputs": [
    {
     "data": {
      "text/plain": [
       "['A', 'J', 'E', 'N', 'N']"
      ]
     },
     "execution_count": 27,
     "metadata": {},
     "output_type": "execute_result"
    }
   ],
   "source": [
    "\n",
    "list(map(lambda name: name[0],names))"
   ]
  },
  {
   "cell_type": "code",
   "execution_count": 29,
   "id": "a8daa1cd",
   "metadata": {
    "ExecuteTime": {
     "end_time": "2023-12-04T07:24:51.321551Z",
     "start_time": "2023-12-04T07:24:51.314834Z"
    }
   },
   "outputs": [
    {
     "data": {
      "text/plain": [
       "['A', 'J', 'E', 'N', 'N']"
      ]
     },
     "execution_count": 29,
     "metadata": {},
     "output_type": "execute_result"
    }
   ],
   "source": [
    "list(map(lambda name:name[0],names))"
   ]
  },
  {
   "cell_type": "code",
   "execution_count": null,
   "id": "b7a0175c",
   "metadata": {},
   "outputs": [],
   "source": []
  }
 ],
 "metadata": {
  "kernelspec": {
   "display_name": "Python 3 (ipykernel)",
   "language": "python",
   "name": "python3"
  },
  "language_info": {
   "codemirror_mode": {
    "name": "ipython",
    "version": 3
   },
   "file_extension": ".py",
   "mimetype": "text/x-python",
   "name": "python",
   "nbconvert_exporter": "python",
   "pygments_lexer": "ipython3",
   "version": "3.9.7"
  },
  "varInspector": {
   "cols": {
    "lenName": 16,
    "lenType": 16,
    "lenVar": 40
   },
   "kernels_config": {
    "python": {
     "delete_cmd_postfix": "",
     "delete_cmd_prefix": "del ",
     "library": "var_list.py",
     "varRefreshCmd": "print(var_dic_list())"
    },
    "r": {
     "delete_cmd_postfix": ") ",
     "delete_cmd_prefix": "rm(",
     "library": "var_list.r",
     "varRefreshCmd": "cat(var_dic_list()) "
    }
   },
   "types_to_exclude": [
    "module",
    "function",
    "builtin_function_or_method",
    "instance",
    "_Feature"
   ],
   "window_display": false
  }
 },
 "nbformat": 4,
 "nbformat_minor": 5
}
