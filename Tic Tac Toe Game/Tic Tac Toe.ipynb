{
 "cells": [
  {
   "cell_type": "code",
   "execution_count": 1,
   "id": "61746659",
   "metadata": {
    "ExecuteTime": {
     "end_time": "2024-06-30T16:36:39.579703Z",
     "start_time": "2024-06-30T16:36:39.570453Z"
    }
   },
   "outputs": [],
   "source": [
    "from IPython.display import clear_output\n",
    "\n",
    "def display_board(board):\n",
    "    clear_output()  # Remember, this only works in jupyter!\n",
    "    \n",
    "    print('   |   |')\n",
    "    print(' ' + board[7] + ' | ' + board[8] + ' | ' + board[9])\n",
    "    print('   |   |')\n",
    "    print('-----------')\n",
    "    print('   |   |')\n",
    "    print(' ' + board[4] + ' | ' + board[5] + ' | ' + board[6])\n",
    "    print('   |   |')\n",
    "    print('-----------')\n",
    "    print('   |   |')\n",
    "    print(' ' + board[1] + ' | ' + board[2] + ' | ' + board[3])\n",
    "    print('   |   |')\n",
    "    \n",
    "    "
   ]
  },
  {
   "cell_type": "code",
   "execution_count": 2,
   "id": "8c4ae714",
   "metadata": {
    "ExecuteTime": {
     "end_time": "2024-06-30T16:36:39.596371Z",
     "start_time": "2024-06-30T16:36:39.581207Z"
    }
   },
   "outputs": [
    {
     "name": "stdout",
     "output_type": "stream",
     "text": [
      "   |   |\n",
      " X | O | X\n",
      "   |   |\n",
      "-----------\n",
      "   |   |\n",
      " O | X | O\n",
      "   |   |\n",
      "-----------\n",
      "   |   |\n",
      " X | O | X\n",
      "   |   |\n"
     ]
    }
   ],
   "source": [
    "test_board = ['#','X','O','X','O','X','O','X','O','X']\n",
    "display_board(test_board)"
   ]
  },
  {
   "cell_type": "code",
   "execution_count": 3,
   "id": "1f5466b2",
   "metadata": {
    "ExecuteTime": {
     "end_time": "2024-06-30T16:36:39.602186Z",
     "start_time": "2024-06-30T16:36:39.597697Z"
    }
   },
   "outputs": [],
   "source": [
    "def player_input():\n",
    "    marker = ''\n",
    "    \n",
    "    while not (marker == 'X' or marker == 'O'):\n",
    "        marker = input(\"Player1: Choose X or O: \").upper()\n",
    "        \n",
    "    if marker == 'X':\n",
    "        return ('X','O')\n",
    "    else:\n",
    "        return ('O','X')\n"
   ]
  },
  {
   "cell_type": "code",
   "execution_count": 4,
   "id": "530904e3",
   "metadata": {
    "ExecuteTime": {
     "end_time": "2024-06-30T16:36:46.636122Z",
     "start_time": "2024-06-30T16:36:39.604128Z"
    }
   },
   "outputs": [
    {
     "name": "stdout",
     "output_type": "stream",
     "text": [
      "Player1: Choose X or O: X\n"
     ]
    }
   ],
   "source": [
    "player1_marker , player2_marker = player_input()"
   ]
  },
  {
   "cell_type": "code",
   "execution_count": 5,
   "id": "94a48d33",
   "metadata": {
    "ExecuteTime": {
     "end_time": "2024-06-30T16:36:46.655894Z",
     "start_time": "2024-06-30T16:36:46.637767Z"
    }
   },
   "outputs": [
    {
     "data": {
      "text/plain": [
       "'O'"
      ]
     },
     "execution_count": 5,
     "metadata": {},
     "output_type": "execute_result"
    }
   ],
   "source": [
    "player2_marker"
   ]
  },
  {
   "cell_type": "code",
   "execution_count": 6,
   "id": "371cb44a",
   "metadata": {
    "ExecuteTime": {
     "end_time": "2024-06-30T16:36:46.666144Z",
     "start_time": "2024-06-30T16:36:46.658461Z"
    }
   },
   "outputs": [],
   "source": [
    "def place_marker(board, marker, position):\n",
    "    board[position] = marker"
   ]
  },
  {
   "cell_type": "code",
   "execution_count": 7,
   "id": "9a59f093",
   "metadata": {
    "ExecuteTime": {
     "end_time": "2024-06-30T16:36:46.678300Z",
     "start_time": "2024-06-30T16:36:46.667914Z"
    }
   },
   "outputs": [
    {
     "data": {
      "text/plain": [
       "['#', 'X', 'O', 'X', 'O', 'X', 'O', 'X', 'O', 'X']"
      ]
     },
     "execution_count": 7,
     "metadata": {},
     "output_type": "execute_result"
    }
   ],
   "source": [
    "test_board"
   ]
  },
  {
   "cell_type": "code",
   "execution_count": 8,
   "id": "c57c1c42",
   "metadata": {
    "ExecuteTime": {
     "end_time": "2024-06-30T16:36:46.694007Z",
     "start_time": "2024-06-30T16:36:46.680137Z"
    }
   },
   "outputs": [
    {
     "name": "stdout",
     "output_type": "stream",
     "text": [
      "   |   |\n",
      " X | $ | X\n",
      "   |   |\n",
      "-----------\n",
      "   |   |\n",
      " O | X | O\n",
      "   |   |\n",
      "-----------\n",
      "   |   |\n",
      " X | O | X\n",
      "   |   |\n"
     ]
    }
   ],
   "source": [
    "place_marker(test_board,'$',8)\n",
    "display_board(test_board)"
   ]
  },
  {
   "cell_type": "code",
   "execution_count": 9,
   "id": "da7d038e",
   "metadata": {
    "ExecuteTime": {
     "end_time": "2024-06-30T16:36:46.702523Z",
     "start_time": "2024-06-30T16:36:46.695393Z"
    }
   },
   "outputs": [],
   "source": [
    "def win_check(board, mark):\n",
    "    \n",
    "    return((board[7] == mark and board[8] == mark and board[9] == mark) or #across the top\n",
    "    (board[4] == mark and board[5] == mark and board[6] == mark) or #across the middle\n",
    "    (board[1] == mark and board[2] == mark and board[3] == mark) or #across the bottom\n",
    "    (board[7] == mark and board[4] == mark and board[1] == mark) or #down the middle\n",
    "    (board[8] == mark and board[5] == mark and board[2] == mark) or #down the middle\n",
    "    (board[9] == mark and board[6] == mark and board[3] == mark) or #down the right side\n",
    "    (board[7] == mark and board[5] == mark and board[3] == mark) or #diagnol\n",
    "    (board[9] == mark and board[5] == mark and board[1] == mark)) #diagnol"
   ]
  },
  {
   "cell_type": "code",
   "execution_count": 10,
   "id": "1d37867d",
   "metadata": {
    "ExecuteTime": {
     "end_time": "2024-06-30T16:36:46.728661Z",
     "start_time": "2024-06-30T16:36:46.706351Z"
    }
   },
   "outputs": [
    {
     "name": "stdout",
     "output_type": "stream",
     "text": [
      "   |   |\n",
      " X | $ | X\n",
      "   |   |\n",
      "-----------\n",
      "   |   |\n",
      " O | X | O\n",
      "   |   |\n",
      "-----------\n",
      "   |   |\n",
      " X | O | X\n",
      "   |   |\n"
     ]
    },
    {
     "data": {
      "text/plain": [
       "True"
      ]
     },
     "execution_count": 10,
     "metadata": {},
     "output_type": "execute_result"
    }
   ],
   "source": [
    "display_board(test_board)\n",
    "win_check(test_board, 'X')\n",
    "\n",
    "#it's showing \"True\" because X won the game"
   ]
  },
  {
   "cell_type": "code",
   "execution_count": 11,
   "id": "3f191fae",
   "metadata": {
    "ExecuteTime": {
     "end_time": "2024-06-30T16:36:46.744349Z",
     "start_time": "2024-06-30T16:36:46.729983Z"
    }
   },
   "outputs": [],
   "source": [
    "import random \n",
    "\n",
    "def choose_first():\n",
    "    \n",
    "    flip = random.randint(0,1)\n",
    "    \n",
    "    if flip == 0:\n",
    "        return 'Player 1'\n",
    "    else:\n",
    "        return 'Player 2'"
   ]
  },
  {
   "cell_type": "code",
   "execution_count": 12,
   "id": "9578019b",
   "metadata": {
    "ExecuteTime": {
     "end_time": "2024-06-30T16:36:46.759724Z",
     "start_time": "2024-06-30T16:36:46.746196Z"
    }
   },
   "outputs": [],
   "source": [
    "def space_check(board, position):\n",
    "    \n",
    "    return board[position] == ' '"
   ]
  },
  {
   "cell_type": "code",
   "execution_count": 13,
   "id": "5c8e0fea",
   "metadata": {
    "ExecuteTime": {
     "end_time": "2024-06-30T16:36:46.777158Z",
     "start_time": "2024-06-30T16:36:46.761374Z"
    }
   },
   "outputs": [],
   "source": [
    "def full_board_check(board):\n",
    "    \n",
    "    for i in range(1,10):\n",
    "        if space_check(board,i):\n",
    "            return False\n",
    "        \n",
    "    #Board is full if we return True    \n",
    "    return True"
   ]
  },
  {
   "cell_type": "code",
   "execution_count": 14,
   "id": "6c2af567",
   "metadata": {
    "ExecuteTime": {
     "end_time": "2024-06-30T16:36:46.792371Z",
     "start_time": "2024-06-30T16:36:46.779009Z"
    }
   },
   "outputs": [],
   "source": [
    "def player_choice(board):\n",
    "    \n",
    "    position = 0\n",
    "    \n",
    "    while position not in [1,2,3,4,5,6,7,8,9] or not space_check(board,position):\n",
    "        position = int(input('Choose a position :(1-9) '))\n",
    "        \n",
    "        return position"
   ]
  },
  {
   "cell_type": "code",
   "execution_count": 15,
   "id": "6c353d39",
   "metadata": {
    "ExecuteTime": {
     "end_time": "2024-06-30T16:36:46.810559Z",
     "start_time": "2024-06-30T16:36:46.793438Z"
    }
   },
   "outputs": [],
   "source": [
    "def replay():\n",
    "    \n",
    "    return input('Do you want to play again? Enter Yes or No: ').lower().startswith('y')"
   ]
  },
  {
   "cell_type": "code",
   "execution_count": 17,
   "id": "b061861a",
   "metadata": {
    "ExecuteTime": {
     "end_time": "2024-06-30T16:37:51.295035Z",
     "start_time": "2024-06-30T16:37:07.815763Z"
    }
   },
   "outputs": [
    {
     "name": "stdout",
     "output_type": "stream",
     "text": [
      "   |   |\n",
      "   | O | O\n",
      "   |   |\n",
      "-----------\n",
      "   |   |\n",
      " X | X | X\n",
      "   |   |\n",
      "-----------\n",
      "   |   |\n",
      " X | O | O\n",
      "   |   |\n",
      "Player 1 has won!!\n",
      "Do you want to play again? Enter Yes or No: No\n"
     ]
    }
   ],
   "source": [
    "print(\"Welcome to Tic Tac Toe!\")\n",
    "##### Set everything up (board, who's first, choose makers X, O)\n",
    "while True:\n",
    "    \n",
    "    the_board = [' ']*10\n",
    "    player1_marker,player2_marker = player_input()\n",
    "    turn = choose_first()\n",
    "    print(turn+ 'will go first')\n",
    "    \n",
    "    play_game = input('Ready to play? y or n?')\n",
    "    \n",
    "    #if play_game == 'y':\n",
    "    if play_game.lower()[0] == 'y':\n",
    "        game_on = True\n",
    "    else:\n",
    "        game_on = False\n",
    "        \n",
    "    #Game Play\n",
    "    while game_on:\n",
    "        if turn == 'Player 1' :\n",
    "            #show the board\n",
    "            display_board(the_board)\n",
    "            #choose a position\n",
    "            position = player_choice(the_board)\n",
    "            #Place the marker on the positon\n",
    "            place_marker(the_board,player1_marker,position)\n",
    "            \n",
    "            #Check if they won\n",
    "            if win_check(the_board,player1_marker):\n",
    "                display_board(the_board)\n",
    "                print(\"Player 1 has won!!\")\n",
    "                game_on = False\n",
    "            #Check if it's Tie\n",
    "            else:\n",
    "                if full_board_check(the_board):\n",
    "                    display_board(the_board)\n",
    "                    print('TIE GAME!!')\n",
    "                    game_on = False\n",
    "                else:\n",
    "                    turn = 'Player 2'\n",
    "            \n",
    "        else:\n",
    "            display_board(the_board)\n",
    "            #choose a position\n",
    "            position = player_choice(the_board)\n",
    "            #Place the marker on the positon\n",
    "            place_marker(the_board,player2_marker,position)\n",
    "            \n",
    "            #Check if they won\n",
    "            if win_check(the_board,player2_marker):\n",
    "                display_board(the_board)\n",
    "                print(\"Player 2 has won!!\")\n",
    "                game_on = False\n",
    "            #Check if it's Tie\n",
    "            else:\n",
    "                if full_board_check(the_board):\n",
    "                    display_board(the_board)\n",
    "                    print('TIE GAME!!')\n",
    "                    game_on = False\n",
    "                else:\n",
    "                    turn = 'Player 1'\n",
    "            \n",
    "           \n",
    "    if not replay():\n",
    "        break\n",
    "            \n",
    "            \n",
    "                \n",
    "            \n",
    "            "
   ]
  },
  {
   "cell_type": "code",
   "execution_count": null,
   "id": "386ef1ce",
   "metadata": {},
   "outputs": [],
   "source": []
  }
 ],
 "metadata": {
  "kernelspec": {
   "display_name": "Python 3 (ipykernel)",
   "language": "python",
   "name": "python3"
  },
  "language_info": {
   "codemirror_mode": {
    "name": "ipython",
    "version": 3
   },
   "file_extension": ".py",
   "mimetype": "text/x-python",
   "name": "python",
   "nbconvert_exporter": "python",
   "pygments_lexer": "ipython3",
   "version": "3.9.7"
  },
  "varInspector": {
   "cols": {
    "lenName": 16,
    "lenType": 16,
    "lenVar": 40
   },
   "kernels_config": {
    "python": {
     "delete_cmd_postfix": "",
     "delete_cmd_prefix": "del ",
     "library": "var_list.py",
     "varRefreshCmd": "print(var_dic_list())"
    },
    "r": {
     "delete_cmd_postfix": ") ",
     "delete_cmd_prefix": "rm(",
     "library": "var_list.r",
     "varRefreshCmd": "cat(var_dic_list()) "
    }
   },
   "types_to_exclude": [
    "module",
    "function",
    "builtin_function_or_method",
    "instance",
    "_Feature"
   ],
   "window_display": false
  }
 },
 "nbformat": 4,
 "nbformat_minor": 5
}
