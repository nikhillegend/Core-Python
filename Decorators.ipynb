{
 "cells": [
  {
   "cell_type": "code",
   "execution_count": 1,
   "id": "ecacb805",
   "metadata": {
    "ExecuteTime": {
     "end_time": "2023-12-19T06:18:09.447487Z",
     "start_time": "2023-12-19T06:18:09.432335Z"
    }
   },
   "outputs": [],
   "source": [
    "def func():\n",
    "    return 1 "
   ]
  },
  {
   "cell_type": "code",
   "execution_count": 2,
   "id": "fdf3626a",
   "metadata": {
    "ExecuteTime": {
     "end_time": "2023-12-19T06:18:14.147619Z",
     "start_time": "2023-12-19T06:18:14.125885Z"
    }
   },
   "outputs": [
    {
     "data": {
      "text/plain": [
       "1"
      ]
     },
     "execution_count": 2,
     "metadata": {},
     "output_type": "execute_result"
    }
   ],
   "source": [
    "func()"
   ]
  },
  {
   "cell_type": "code",
   "execution_count": 3,
   "id": "04bd34d5",
   "metadata": {
    "ExecuteTime": {
     "end_time": "2023-12-19T06:18:17.642710Z",
     "start_time": "2023-12-19T06:18:17.628213Z"
    }
   },
   "outputs": [
    {
     "data": {
      "text/plain": [
       "<function __main__.func()>"
      ]
     },
     "execution_count": 3,
     "metadata": {},
     "output_type": "execute_result"
    }
   ],
   "source": [
    "func"
   ]
  },
  {
   "cell_type": "code",
   "execution_count": 4,
   "id": "544be904",
   "metadata": {
    "ExecuteTime": {
     "end_time": "2023-12-19T06:18:38.855458Z",
     "start_time": "2023-12-19T06:18:38.849562Z"
    }
   },
   "outputs": [],
   "source": [
    "def hello():\n",
    "    return \"Hello!\""
   ]
  },
  {
   "cell_type": "code",
   "execution_count": 5,
   "id": "5af12fc1",
   "metadata": {
    "ExecuteTime": {
     "end_time": "2023-12-19T06:18:43.140974Z",
     "start_time": "2023-12-19T06:18:43.127302Z"
    }
   },
   "outputs": [
    {
     "data": {
      "text/plain": [
       "'Hello!'"
      ]
     },
     "execution_count": 5,
     "metadata": {},
     "output_type": "execute_result"
    }
   ],
   "source": [
    "hello()"
   ]
  },
  {
   "cell_type": "code",
   "execution_count": 6,
   "id": "ff12c45a",
   "metadata": {
    "ExecuteTime": {
     "end_time": "2023-12-19T06:18:50.822183Z",
     "start_time": "2023-12-19T06:18:50.809982Z"
    }
   },
   "outputs": [],
   "source": [
    "greet = hello"
   ]
  },
  {
   "cell_type": "code",
   "execution_count": 8,
   "id": "2729667b",
   "metadata": {
    "ExecuteTime": {
     "end_time": "2023-12-19T06:18:57.697576Z",
     "start_time": "2023-12-19T06:18:57.691127Z"
    }
   },
   "outputs": [
    {
     "data": {
      "text/plain": [
       "'Hello!'"
      ]
     },
     "execution_count": 8,
     "metadata": {},
     "output_type": "execute_result"
    }
   ],
   "source": [
    "greet()"
   ]
  },
  {
   "cell_type": "code",
   "execution_count": 9,
   "id": "493a1e20",
   "metadata": {
    "ExecuteTime": {
     "end_time": "2023-12-19T06:19:02.416446Z",
     "start_time": "2023-12-19T06:19:02.408296Z"
    }
   },
   "outputs": [],
   "source": [
    "del hello"
   ]
  },
  {
   "cell_type": "code",
   "execution_count": 10,
   "id": "68d4ca9d",
   "metadata": {
    "ExecuteTime": {
     "end_time": "2023-12-19T06:19:08.232239Z",
     "start_time": "2023-12-19T06:19:07.960956Z"
    }
   },
   "outputs": [
    {
     "ename": "NameError",
     "evalue": "name 'hello' is not defined",
     "output_type": "error",
     "traceback": [
      "\u001b[1;31m---------------------------------------------------------------------------\u001b[0m",
      "\u001b[1;31mNameError\u001b[0m                                 Traceback (most recent call last)",
      "\u001b[1;32m~\\AppData\\Local\\Temp/ipykernel_18212/2674044599.py\u001b[0m in \u001b[0;36m<module>\u001b[1;34m\u001b[0m\n\u001b[1;32m----> 1\u001b[1;33m \u001b[0mhello\u001b[0m\u001b[1;33m(\u001b[0m\u001b[1;33m)\u001b[0m\u001b[1;33m\u001b[0m\u001b[1;33m\u001b[0m\u001b[0m\n\u001b[0m",
      "\u001b[1;31mNameError\u001b[0m: name 'hello' is not defined"
     ]
    }
   ],
   "source": [
    "hello()"
   ]
  },
  {
   "cell_type": "code",
   "execution_count": 12,
   "id": "db952bd5",
   "metadata": {
    "ExecuteTime": {
     "end_time": "2023-12-19T06:21:19.408191Z",
     "start_time": "2023-12-19T06:21:19.390535Z"
    }
   },
   "outputs": [
    {
     "data": {
      "text/plain": [
       "'Hello!'"
      ]
     },
     "execution_count": 12,
     "metadata": {},
     "output_type": "execute_result"
    }
   ],
   "source": [
    "#function objects that can be passed an to the another objects\n",
    "greet()"
   ]
  },
  {
   "cell_type": "code",
   "execution_count": 13,
   "id": "7f57f88c",
   "metadata": {
    "ExecuteTime": {
     "end_time": "2023-12-19T06:27:25.804625Z",
     "start_time": "2023-12-19T06:27:25.796616Z"
    }
   },
   "outputs": [],
   "source": [
    "def hello(name='Charan'):\n",
    "    print(\"The hello() func has been excuted!\")"
   ]
  },
  {
   "cell_type": "code",
   "execution_count": 14,
   "id": "8fcd16b0",
   "metadata": {
    "ExecuteTime": {
     "end_time": "2023-12-19T06:27:34.514008Z",
     "start_time": "2023-12-19T06:27:34.497999Z"
    }
   },
   "outputs": [
    {
     "name": "stdout",
     "output_type": "stream",
     "text": [
      "The hello() func has been excuted!\n"
     ]
    }
   ],
   "source": [
    "hello()"
   ]
  },
  {
   "cell_type": "code",
   "execution_count": 15,
   "id": "b218aad2",
   "metadata": {
    "ExecuteTime": {
     "end_time": "2023-12-19T06:30:14.088787Z",
     "start_time": "2023-12-19T06:30:14.083878Z"
    }
   },
   "outputs": [],
   "source": [
    "def hello(name='Charan'):\n",
    "    print(\"The hello() func has been excuted!\")\n",
    "    \n",
    "    def greet():\n",
    "        return '\\t This the greet() func inside the hello!'\n",
    "    \n",
    "    def welcome():\n",
    "        return '\\t This the welcome() func inside the hello!'\n",
    "    \n",
    "    print(greet())\n",
    "    print(welcome())"
   ]
  },
  {
   "cell_type": "code",
   "execution_count": 16,
   "id": "1300d79e",
   "metadata": {
    "ExecuteTime": {
     "end_time": "2023-12-19T06:30:18.322247Z",
     "start_time": "2023-12-19T06:30:18.304065Z"
    }
   },
   "outputs": [
    {
     "name": "stdout",
     "output_type": "stream",
     "text": [
      "The hello() func has been excuted!\n",
      "\t This the greet() func inside the hello!\n",
      "\t This the welcome() func inside the hello!\n"
     ]
    }
   ],
   "source": [
    "hello()"
   ]
  },
  {
   "cell_type": "code",
   "execution_count": 17,
   "id": "9a1af3cd",
   "metadata": {
    "ExecuteTime": {
     "end_time": "2023-12-19T06:33:01.613249Z",
     "start_time": "2023-12-19T06:33:01.599281Z"
    }
   },
   "outputs": [],
   "source": [
    "def hello(name='Charan'):\n",
    "    print(\"The hello() func has been excuted!\")\n",
    "    \n",
    "    def greet():\n",
    "        return '\\t This the greet() func inside the hello!'\n",
    "    \n",
    "    def welcome():\n",
    "        return '\\t This the welcome() func inside the hello!'\n",
    "    \n",
    "    print('I am going to return a function!!')\n",
    "    \n",
    "    if name == 'Charan':\n",
    "        return greet\n",
    "    else:\n",
    "        return welcome"
   ]
  },
  {
   "cell_type": "code",
   "execution_count": 18,
   "id": "dbda42f0",
   "metadata": {
    "ExecuteTime": {
     "end_time": "2023-12-19T06:33:15.111274Z",
     "start_time": "2023-12-19T06:33:15.104428Z"
    }
   },
   "outputs": [
    {
     "name": "stdout",
     "output_type": "stream",
     "text": [
      "The hello() func has been excuted!\n",
      "I am going to return a function!!\n"
     ]
    }
   ],
   "source": [
    "my_new_func = hello('Charan')"
   ]
  },
  {
   "cell_type": "code",
   "execution_count": 19,
   "id": "72cc77b9",
   "metadata": {
    "ExecuteTime": {
     "end_time": "2023-12-19T06:33:20.093017Z",
     "start_time": "2023-12-19T06:33:20.071378Z"
    }
   },
   "outputs": [
    {
     "data": {
      "text/plain": [
       "'\\t This the greet() func inside the hello!'"
      ]
     },
     "execution_count": 19,
     "metadata": {},
     "output_type": "execute_result"
    }
   ],
   "source": [
    "my_new_func()"
   ]
  },
  {
   "cell_type": "code",
   "execution_count": 20,
   "id": "fd4d6196",
   "metadata": {
    "ExecuteTime": {
     "end_time": "2023-12-19T06:33:30.397328Z",
     "start_time": "2023-12-19T06:33:30.390321Z"
    }
   },
   "outputs": [
    {
     "name": "stdout",
     "output_type": "stream",
     "text": [
      "\t This the greet() func inside the hello!\n"
     ]
    }
   ],
   "source": [
    "print(my_new_func())"
   ]
  },
  {
   "cell_type": "code",
   "execution_count": 25,
   "id": "cbe13844",
   "metadata": {
    "ExecuteTime": {
     "end_time": "2023-12-19T06:35:36.442969Z",
     "start_time": "2023-12-19T06:35:36.425899Z"
    }
   },
   "outputs": [],
   "source": [
    "def cool():\n",
    "    \n",
    "    def super_cool():\n",
    "        return 'I am very cool'\n",
    "    \n",
    "    return super_cool"
   ]
  },
  {
   "cell_type": "code",
   "execution_count": 26,
   "id": "c2bfc82b",
   "metadata": {
    "ExecuteTime": {
     "end_time": "2023-12-19T06:35:36.858785Z",
     "start_time": "2023-12-19T06:35:36.848559Z"
    }
   },
   "outputs": [],
   "source": [
    "some_func = cool()"
   ]
  },
  {
   "cell_type": "code",
   "execution_count": 27,
   "id": "1616267f",
   "metadata": {
    "ExecuteTime": {
     "end_time": "2023-12-19T06:35:37.323982Z",
     "start_time": "2023-12-19T06:35:37.311997Z"
    }
   },
   "outputs": [
    {
     "data": {
      "text/plain": [
       "<function __main__.cool.<locals>.super_cool()>"
      ]
     },
     "execution_count": 27,
     "metadata": {},
     "output_type": "execute_result"
    }
   ],
   "source": [
    "some_func"
   ]
  },
  {
   "cell_type": "code",
   "execution_count": 28,
   "id": "bb815460",
   "metadata": {
    "ExecuteTime": {
     "end_time": "2023-12-19T06:35:43.192791Z",
     "start_time": "2023-12-19T06:35:43.183150Z"
    }
   },
   "outputs": [
    {
     "data": {
      "text/plain": [
       "'I am very cool'"
      ]
     },
     "execution_count": 28,
     "metadata": {},
     "output_type": "execute_result"
    }
   ],
   "source": [
    "some_func()"
   ]
  },
  {
   "cell_type": "code",
   "execution_count": 29,
   "id": "be9a039a",
   "metadata": {
    "ExecuteTime": {
     "end_time": "2023-12-19T06:38:45.965750Z",
     "start_time": "2023-12-19T06:38:45.953225Z"
    }
   },
   "outputs": [],
   "source": [
    "def hello():\n",
    "    return 'Hi Charan!'"
   ]
  },
  {
   "cell_type": "code",
   "execution_count": 30,
   "id": "4df9e076",
   "metadata": {
    "ExecuteTime": {
     "end_time": "2023-12-19T06:39:32.052007Z",
     "start_time": "2023-12-19T06:39:32.035452Z"
    }
   },
   "outputs": [],
   "source": [
    "def other(some_def_func):\n",
    "    print('Other code runs here!')\n",
    "    print(some_def_func())"
   ]
  },
  {
   "cell_type": "code",
   "execution_count": 31,
   "id": "f22cc7f5",
   "metadata": {
    "ExecuteTime": {
     "end_time": "2023-12-19T06:39:34.707703Z",
     "start_time": "2023-12-19T06:39:34.684358Z"
    }
   },
   "outputs": [
    {
     "data": {
      "text/plain": [
       "<function __main__.hello()>"
      ]
     },
     "execution_count": 31,
     "metadata": {},
     "output_type": "execute_result"
    }
   ],
   "source": [
    "hello"
   ]
  },
  {
   "cell_type": "code",
   "execution_count": 32,
   "id": "42767161",
   "metadata": {
    "ExecuteTime": {
     "end_time": "2023-12-19T06:39:38.035567Z",
     "start_time": "2023-12-19T06:39:38.015433Z"
    }
   },
   "outputs": [
    {
     "data": {
      "text/plain": [
       "'Hi Charan!'"
      ]
     },
     "execution_count": 32,
     "metadata": {},
     "output_type": "execute_result"
    }
   ],
   "source": [
    "hello()"
   ]
  },
  {
   "cell_type": "code",
   "execution_count": 34,
   "id": "fe59e84a",
   "metadata": {
    "ExecuteTime": {
     "end_time": "2023-12-19T06:39:54.291174Z",
     "start_time": "2023-12-19T06:39:54.275131Z"
    }
   },
   "outputs": [
    {
     "name": "stdout",
     "output_type": "stream",
     "text": [
      "Other code runs here!\n",
      "Hi Charan!\n"
     ]
    }
   ],
   "source": [
    "other(hello)"
   ]
  },
  {
   "cell_type": "code",
   "execution_count": 42,
   "id": "a64efd45",
   "metadata": {
    "ExecuteTime": {
     "end_time": "2023-12-19T06:46:59.499279Z",
     "start_time": "2023-12-19T06:46:59.483944Z"
    }
   },
   "outputs": [],
   "source": [
    "def new_decorator(original_func):\n",
    "\n",
    "    def wrap_func():\n",
    "        print(\"Some extra code, before the original function\")\n",
    "\n",
    "        original_func()\n",
    "\n",
    "        print(\"Some extra code, before the original function\")\n",
    "\n",
    "    return wrap_func"
   ]
  },
  {
   "cell_type": "code",
   "execution_count": 43,
   "id": "7b66f076",
   "metadata": {
    "ExecuteTime": {
     "end_time": "2023-12-19T06:46:59.854654Z",
     "start_time": "2023-12-19T06:46:59.839117Z"
    }
   },
   "outputs": [],
   "source": [
    "def func_needs_decorator():\n",
    "    print(\"I want to be a new decorator!\")"
   ]
  },
  {
   "cell_type": "code",
   "execution_count": 44,
   "id": "028a5dbb",
   "metadata": {
    "ExecuteTime": {
     "end_time": "2023-12-19T06:47:00.188567Z",
     "start_time": "2023-12-19T06:47:00.180556Z"
    }
   },
   "outputs": [
    {
     "name": "stdout",
     "output_type": "stream",
     "text": [
      "I want to be a new decorator!\n"
     ]
    }
   ],
   "source": [
    "func_needs_decorator()"
   ]
  },
  {
   "cell_type": "code",
   "execution_count": 45,
   "id": "53b38e9f",
   "metadata": {
    "ExecuteTime": {
     "end_time": "2023-12-19T06:47:00.634316Z",
     "start_time": "2023-12-19T06:47:00.626307Z"
    }
   },
   "outputs": [],
   "source": [
    "decorator_func = new_decorator(func_needs_decorator)"
   ]
  },
  {
   "cell_type": "code",
   "execution_count": 46,
   "id": "cf8c659e",
   "metadata": {
    "ExecuteTime": {
     "end_time": "2023-12-19T06:47:01.952360Z",
     "start_time": "2023-12-19T06:47:01.939426Z"
    }
   },
   "outputs": [
    {
     "name": "stdout",
     "output_type": "stream",
     "text": [
      "Some extra code, before the original function\n",
      "I want to be a new decorator!\n",
      "Some extra code, before the original function\n"
     ]
    }
   ],
   "source": [
    "decorator_func()"
   ]
  },
  {
   "cell_type": "code",
   "execution_count": 47,
   "id": "991655c4",
   "metadata": {
    "ExecuteTime": {
     "end_time": "2023-12-19T06:48:29.823969Z",
     "start_time": "2023-12-19T06:48:29.820189Z"
    }
   },
   "outputs": [],
   "source": [
    "@new_decorator\n",
    "def func_needs_decorator():\n",
    "    print(\"I want to be a new decorator!\")"
   ]
  },
  {
   "cell_type": "code",
   "execution_count": 49,
   "id": "ba1fb882",
   "metadata": {
    "ExecuteTime": {
     "end_time": "2023-12-19T06:48:39.148896Z",
     "start_time": "2023-12-19T06:48:39.132215Z"
    }
   },
   "outputs": [
    {
     "name": "stdout",
     "output_type": "stream",
     "text": [
      "Some extra code, before the original function\n",
      "I want to be a new decorator!\n",
      "Some extra code, before the original function\n"
     ]
    }
   ],
   "source": [
    "func_needs_decorator()"
   ]
  },
  {
   "cell_type": "code",
   "execution_count": null,
   "id": "9e57c87e",
   "metadata": {},
   "outputs": [],
   "source": []
  }
 ],
 "metadata": {
  "kernelspec": {
   "display_name": "Python 3 (ipykernel)",
   "language": "python",
   "name": "python3"
  },
  "language_info": {
   "codemirror_mode": {
    "name": "ipython",
    "version": 3
   },
   "file_extension": ".py",
   "mimetype": "text/x-python",
   "name": "python",
   "nbconvert_exporter": "python",
   "pygments_lexer": "ipython3",
   "version": "3.9.7"
  },
  "varInspector": {
   "cols": {
    "lenName": 16,
    "lenType": 16,
    "lenVar": 40
   },
   "kernels_config": {
    "python": {
     "delete_cmd_postfix": "",
     "delete_cmd_prefix": "del ",
     "library": "var_list.py",
     "varRefreshCmd": "print(var_dic_list())"
    },
    "r": {
     "delete_cmd_postfix": ") ",
     "delete_cmd_prefix": "rm(",
     "library": "var_list.r",
     "varRefreshCmd": "cat(var_dic_list()) "
    }
   },
   "types_to_exclude": [
    "module",
    "function",
    "builtin_function_or_method",
    "instance",
    "_Feature"
   ],
   "window_display": false
  }
 },
 "nbformat": 4,
 "nbformat_minor": 5
}
