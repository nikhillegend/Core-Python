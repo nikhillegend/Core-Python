{
 "cells": [
  {
   "cell_type": "code",
   "execution_count": 1,
   "id": "b0ac4f77",
   "metadata": {
    "ExecuteTime": {
     "end_time": "2023-12-01T03:29:27.875749Z",
     "start_time": "2023-12-01T03:29:27.852989Z"
    }
   },
   "outputs": [],
   "source": [
    "mylist = [1,2,3,4,5,6,7,8,9,10]"
   ]
  },
  {
   "cell_type": "code",
   "execution_count": 2,
   "id": "a03d88ce",
   "metadata": {
    "ExecuteTime": {
     "end_time": "2023-12-01T03:29:29.429600Z",
     "start_time": "2023-12-01T03:29:29.412878Z"
    }
   },
   "outputs": [
    {
     "name": "stdout",
     "output_type": "stream",
     "text": [
      "1\n",
      "2\n",
      "3\n",
      "4\n",
      "5\n",
      "6\n",
      "7\n",
      "8\n",
      "9\n",
      "10\n"
     ]
    }
   ],
   "source": [
    "for num in mylist:\n",
    "    print(num)"
   ]
  },
  {
   "cell_type": "code",
   "execution_count": 3,
   "id": "ad7a0dfd",
   "metadata": {
    "ExecuteTime": {
     "end_time": "2023-12-01T03:29:30.890740Z",
     "start_time": "2023-12-01T03:29:30.878224Z"
    }
   },
   "outputs": [
    {
     "name": "stdout",
     "output_type": "stream",
     "text": [
      "Hello\n",
      "Hello\n",
      "Hello\n",
      "Hello\n",
      "Hello\n",
      "Hello\n",
      "Hello\n",
      "Hello\n",
      "Hello\n",
      "Hello\n"
     ]
    }
   ],
   "source": [
    "for num in mylist:\n",
    "    print('Hello')"
   ]
  },
  {
   "cell_type": "code",
   "execution_count": 4,
   "id": "f76becd2",
   "metadata": {
    "ExecuteTime": {
     "end_time": "2023-12-01T03:29:32.434351Z",
     "start_time": "2023-12-01T03:29:32.427339Z"
    }
   },
   "outputs": [
    {
     "name": "stdout",
     "output_type": "stream",
     "text": [
      "2\n",
      "4\n",
      "6\n",
      "8\n",
      "10\n"
     ]
    }
   ],
   "source": [
    "for num in mylist:\n",
    "#Checks the even value\n",
    "    if num % 2 == 0:\n",
    "        print(num)"
   ]
  },
  {
   "cell_type": "code",
   "execution_count": 5,
   "id": "96a142ef",
   "metadata": {
    "ExecuteTime": {
     "end_time": "2023-12-01T03:29:36.551671Z",
     "start_time": "2023-12-01T03:29:36.539622Z"
    }
   },
   "outputs": [
    {
     "name": "stdout",
     "output_type": "stream",
     "text": [
      "Odd Number: 1\n",
      "2\n",
      "Odd Number: 3\n",
      "4\n",
      "Odd Number: 5\n",
      "6\n",
      "Odd Number: 7\n",
      "8\n",
      "Odd Number: 9\n",
      "10\n"
     ]
    }
   ],
   "source": [
    "for num in mylist:\n",
    "    if num % 2 == 0:\n",
    "        print(num)\n",
    "    else:\n",
    "        print(f'Odd Number: {num}')"
   ]
  },
  {
   "cell_type": "code",
   "execution_count": 6,
   "id": "4cfe2693",
   "metadata": {
    "ExecuteTime": {
     "end_time": "2023-12-01T03:29:37.851834Z",
     "start_time": "2023-12-01T03:29:37.842182Z"
    }
   },
   "outputs": [
    {
     "name": "stdout",
     "output_type": "stream",
     "text": [
      "3\n",
      "6\n",
      "9\n"
     ]
    }
   ],
   "source": [
    "for num in mylist:\n",
    "    if num%3==0:\n",
    "        print(num)"
   ]
  },
  {
   "cell_type": "code",
   "execution_count": 7,
   "id": "ea01c09a",
   "metadata": {
    "ExecuteTime": {
     "end_time": "2023-12-01T03:29:40.115710Z",
     "start_time": "2023-12-01T03:29:40.103079Z"
    }
   },
   "outputs": [
    {
     "name": "stdout",
     "output_type": "stream",
     "text": [
      "Even Number: 1\n",
      "Even Number: 2\n",
      "3\n",
      "Even Number: 4\n",
      "Even Number: 5\n",
      "6\n",
      "Even Number: 7\n",
      "Even Number: 8\n",
      "9\n",
      "Even Number: 10\n"
     ]
    }
   ],
   "source": [
    "for num in mylist:\n",
    "    if num % 3 == 0:\n",
    "        print(num)\n",
    "    else:\n",
    "        print(f'Even Number: {num}')"
   ]
  },
  {
   "cell_type": "code",
   "execution_count": 8,
   "id": "4398cdfb",
   "metadata": {
    "ExecuteTime": {
     "end_time": "2023-12-01T03:29:44.523928Z",
     "start_time": "2023-12-01T03:29:44.510761Z"
    }
   },
   "outputs": [
    {
     "name": "stdout",
     "output_type": "stream",
     "text": [
      "1\n",
      "3\n",
      "6\n",
      "10\n",
      "15\n",
      "21\n",
      "28\n",
      "36\n",
      "45\n",
      "55\n"
     ]
    }
   ],
   "source": [
    "list_sum = 0\n",
    "for num in mylist:\n",
    "    list_sum = list_sum+num\n",
    "    print(list_sum)"
   ]
  },
  {
   "cell_type": "code",
   "execution_count": 9,
   "id": "f498aa06",
   "metadata": {
    "ExecuteTime": {
     "end_time": "2023-12-01T03:29:45.668554Z",
     "start_time": "2023-12-01T03:29:45.656898Z"
    }
   },
   "outputs": [
    {
     "name": "stdout",
     "output_type": "stream",
     "text": [
      "55\n"
     ]
    }
   ],
   "source": [
    "list_sum = 0 \n",
    "for num in mylist:\n",
    "    list_sum = list_sum + num\n",
    "print(list_sum)"
   ]
  },
  {
   "cell_type": "code",
   "execution_count": 10,
   "id": "8b260f63",
   "metadata": {
    "ExecuteTime": {
     "end_time": "2023-12-01T03:29:53.864947Z",
     "start_time": "2023-12-01T03:29:53.846544Z"
    }
   },
   "outputs": [
    {
     "name": "stdout",
     "output_type": "stream",
     "text": [
      "H\n",
      "e\n",
      "l\n",
      "l\n",
      "o\n",
      " \n",
      "W\n",
      "o\n",
      "r\n",
      "l\n",
      "d\n"
     ]
    }
   ],
   "source": [
    "mystring = \"Hello World\"\n",
    "for letter in mystring:\n",
    "    print(letter)"
   ]
  },
  {
   "cell_type": "code",
   "execution_count": 11,
   "id": "2ec056e4",
   "metadata": {
    "ExecuteTime": {
     "end_time": "2023-12-01T03:29:56.076345Z",
     "start_time": "2023-12-01T03:29:56.063345Z"
    }
   },
   "outputs": [
    {
     "name": "stdout",
     "output_type": "stream",
     "text": [
      "H\n",
      "e\n",
      "l\n",
      "l\n",
      "o\n",
      " \n",
      "W\n",
      "o\n",
      "r\n",
      "l\n",
      "d\n"
     ]
    }
   ],
   "source": [
    "for letter in 'Hello World':\n",
    "    print(letter)"
   ]
  },
  {
   "cell_type": "code",
   "execution_count": 12,
   "id": "05db88e7",
   "metadata": {
    "ExecuteTime": {
     "end_time": "2023-12-01T03:29:57.119331Z",
     "start_time": "2023-12-01T03:29:57.107945Z"
    }
   },
   "outputs": [
    {
     "ename": "SyntaxError",
     "evalue": "invalid syntax (Temp/ipykernel_13912/3237944700.py, line 1)",
     "output_type": "error",
     "traceback": [
      "\u001b[1;36m  File \u001b[1;32m\"C:\\Users\\hp\\AppData\\Local\\Temp/ipykernel_13912/3237944700.py\"\u001b[1;36m, line \u001b[1;32m1\u001b[0m\n\u001b[1;33m    for letter in Hello world:\u001b[0m\n\u001b[1;37m                        ^\u001b[0m\n\u001b[1;31mSyntaxError\u001b[0m\u001b[1;31m:\u001b[0m invalid syntax\n"
     ]
    }
   ],
   "source": [
    "for letter in Hello world:\n",
    "    print(letter)"
   ]
  },
  {
   "cell_type": "code",
   "execution_count": 13,
   "id": "109b68bd",
   "metadata": {
    "ExecuteTime": {
     "end_time": "2023-12-01T03:30:02.082267Z",
     "start_time": "2023-12-01T03:30:02.074944Z"
    }
   },
   "outputs": [
    {
     "name": "stdout",
     "output_type": "stream",
     "text": [
      "1\n",
      "2\n",
      "3\n"
     ]
    }
   ],
   "source": [
    "tup = (1,2,3)\n",
    "for item in tup:\n",
    "    print(item)"
   ]
  },
  {
   "cell_type": "code",
   "execution_count": 14,
   "id": "f3ac5861",
   "metadata": {
    "ExecuteTime": {
     "end_time": "2023-12-01T03:30:02.963152Z",
     "start_time": "2023-12-01T03:30:02.944039Z"
    }
   },
   "outputs": [
    {
     "name": "stdout",
     "output_type": "stream",
     "text": [
      "(1, 2)\n",
      "(3, 4)\n",
      "(5, 6)\n"
     ]
    }
   ],
   "source": [
    "mylist = [(1,2),(3,4),(5,6)] \n",
    "for item in mylist:\n",
    "    print(item)"
   ]
  },
  {
   "cell_type": "code",
   "execution_count": 15,
   "id": "6dcf698b",
   "metadata": {
    "ExecuteTime": {
     "end_time": "2023-12-01T03:30:05.045780Z",
     "start_time": "2023-12-01T03:30:05.030635Z"
    }
   },
   "outputs": [
    {
     "name": "stdout",
     "output_type": "stream",
     "text": [
      "1\n",
      "2\n",
      "3\n",
      "4\n",
      "5\n",
      "6\n"
     ]
    }
   ],
   "source": [
    "for (a,b) in mylist:\n",
    "    print(a)\n",
    "    print(b)"
   ]
  },
  {
   "cell_type": "code",
   "execution_count": 16,
   "id": "35ff2ecc",
   "metadata": {
    "ExecuteTime": {
     "end_time": "2023-12-01T03:30:05.941026Z",
     "start_time": "2023-12-01T03:30:05.923839Z"
    }
   },
   "outputs": [
    {
     "name": "stdout",
     "output_type": "stream",
     "text": [
      "1\n",
      "2\n",
      "3\n",
      "4\n",
      "5\n",
      "6\n",
      "7\n",
      "8\n",
      "9\n"
     ]
    }
   ],
   "source": [
    "mylist = [(1,2,3),(4,5,6),(7,8,9)]\n",
    "for a,b,c in mylist:\n",
    "    print(a)\n",
    "    print(b)\n",
    "    print(c)"
   ]
  },
  {
   "cell_type": "code",
   "execution_count": 17,
   "id": "79b4e8ad",
   "metadata": {
    "ExecuteTime": {
     "end_time": "2023-12-01T03:30:06.588996Z",
     "start_time": "2023-12-01T03:30:06.577042Z"
    }
   },
   "outputs": [],
   "source": [
    "d = {'K1':1, 'K2':2, 'K3':3}"
   ]
  },
  {
   "cell_type": "code",
   "execution_count": 18,
   "id": "6a904581",
   "metadata": {
    "ExecuteTime": {
     "end_time": "2023-12-01T03:30:08.346330Z",
     "start_time": "2023-12-01T03:30:08.327086Z"
    }
   },
   "outputs": [
    {
     "data": {
      "text/plain": [
       "{'K1': 1, 'K2': 2, 'K3': 3}"
      ]
     },
     "execution_count": 18,
     "metadata": {},
     "output_type": "execute_result"
    }
   ],
   "source": [
    "d"
   ]
  },
  {
   "cell_type": "code",
   "execution_count": 19,
   "id": "fd165242",
   "metadata": {
    "ExecuteTime": {
     "end_time": "2023-12-01T03:30:09.123718Z",
     "start_time": "2023-12-01T03:30:09.109719Z"
    }
   },
   "outputs": [
    {
     "name": "stdout",
     "output_type": "stream",
     "text": [
      "K1\n",
      "K2\n",
      "K3\n"
     ]
    }
   ],
   "source": [
    "for item in d:\n",
    "    print(item)"
   ]
  },
  {
   "cell_type": "code",
   "execution_count": 20,
   "id": "e0c0db84",
   "metadata": {
    "ExecuteTime": {
     "end_time": "2023-12-01T03:30:09.752190Z",
     "start_time": "2023-12-01T03:30:09.741990Z"
    }
   },
   "outputs": [
    {
     "name": "stdout",
     "output_type": "stream",
     "text": [
      "('K1', 1)\n",
      "('K2', 2)\n",
      "('K3', 3)\n"
     ]
    }
   ],
   "source": [
    "for item in d.items():\n",
    "    print(item)"
   ]
  },
  {
   "cell_type": "code",
   "execution_count": 21,
   "id": "fcf66ec8",
   "metadata": {
    "ExecuteTime": {
     "end_time": "2023-12-01T03:30:10.362437Z",
     "start_time": "2023-12-01T03:30:10.356959Z"
    }
   },
   "outputs": [
    {
     "name": "stdout",
     "output_type": "stream",
     "text": [
      "1\n",
      "2\n",
      "3\n"
     ]
    }
   ],
   "source": [
    "for key,value in d.items():\n",
    "    print(value)"
   ]
  },
  {
   "cell_type": "code",
   "execution_count": 22,
   "id": "9ffa1cdd",
   "metadata": {
    "ExecuteTime": {
     "end_time": "2023-12-01T03:30:11.702938Z",
     "start_time": "2023-12-01T03:30:11.693286Z"
    }
   },
   "outputs": [
    {
     "name": "stdout",
     "output_type": "stream",
     "text": [
      "K1\n",
      "K2\n",
      "K3\n"
     ]
    }
   ],
   "source": [
    "for key in d.keys():\n",
    "    print(key)"
   ]
  },
  {
   "cell_type": "code",
   "execution_count": 23,
   "id": "178a39e9",
   "metadata": {
    "ExecuteTime": {
     "end_time": "2023-12-01T03:30:12.305574Z",
     "start_time": "2023-12-01T03:30:12.296811Z"
    }
   },
   "outputs": [
    {
     "name": "stdout",
     "output_type": "stream",
     "text": [
      "1\n",
      "2\n",
      "3\n"
     ]
    }
   ],
   "source": [
    "for value in d.values():\n",
    "    print(value)"
   ]
  },
  {
   "cell_type": "code",
   "execution_count": 24,
   "id": "fd563c81",
   "metadata": {
    "ExecuteTime": {
     "end_time": "2023-12-01T03:30:12.805124Z",
     "start_time": "2023-12-01T03:30:12.796208Z"
    }
   },
   "outputs": [
    {
     "name": "stdout",
     "output_type": "stream",
     "text": [
      "('K1', 1)\n",
      "('K2', 2)\n",
      "('K3', 3)\n"
     ]
    }
   ],
   "source": [
    "for value in d.items():\n",
    "    print(value)"
   ]
  },
  {
   "cell_type": "markdown",
   "id": "858006a2",
   "metadata": {},
   "source": [
    "While loop"
   ]
  },
  {
   "cell_type": "code",
   "execution_count": 38,
   "id": "cb66370a",
   "metadata": {
    "ExecuteTime": {
     "end_time": "2023-12-01T03:53:51.471254Z",
     "start_time": "2023-12-01T03:53:51.455947Z"
    }
   },
   "outputs": [
    {
     "name": "stdout",
     "output_type": "stream",
     "text": [
      "x is currently:  0\n",
      " x is still less than 10, adding 1 to x\n",
      "x is currently:  1\n",
      " x is still less than 10, adding 1 to x\n",
      "x is currently:  2\n",
      " x is still less than 10, adding 1 to x\n",
      "x is currently:  3\n",
      " x is still less than 10, adding 1 to x\n",
      "x is currently:  4\n",
      " x is still less than 10, adding 1 to x\n",
      "x is currently:  5\n",
      " x is still less than 10, adding 1 to x\n",
      "x is currently:  6\n",
      " x is still less than 10, adding 1 to x\n",
      "x is currently:  7\n",
      " x is still less than 10, adding 1 to x\n",
      "x is currently:  8\n",
      " x is still less than 10, adding 1 to x\n",
      "x is currently:  9\n",
      " x is still less than 10, adding 1 to x\n"
     ]
    }
   ],
   "source": [
    "x = 0\n",
    "\n",
    "while x < 10:\n",
    "    print('x is currently: ',x)\n",
    "    print(' x is still less than 10, adding 1 to x')\n",
    "    x+=1 "
   ]
  },
  {
   "cell_type": "code",
   "execution_count": 41,
   "id": "44f80524",
   "metadata": {
    "ExecuteTime": {
     "end_time": "2023-12-01T03:56:56.798746Z",
     "start_time": "2023-12-01T03:56:56.777660Z"
    }
   },
   "outputs": [
    {
     "name": "stdout",
     "output_type": "stream",
     "text": [
      "The current value of x is 0\n",
      "The current value of x is 1\n",
      "The current value of x is 2\n",
      "The current value of x is 3\n",
      "The current value of x is 4\n"
     ]
    }
   ],
   "source": [
    "x = 0 \n",
    "\n",
    "while x < 5:\n",
    "    print(f'The current value of x is {x}')\n",
    "    x = x + 1"
   ]
  },
  {
   "cell_type": "code",
   "execution_count": 42,
   "id": "e58bbb56",
   "metadata": {
    "ExecuteTime": {
     "end_time": "2023-12-01T03:58:51.639230Z",
     "start_time": "2023-12-01T03:58:51.632623Z"
    }
   },
   "outputs": [
    {
     "name": "stdout",
     "output_type": "stream",
     "text": [
      "X is not lesser than 49\n"
     ]
    }
   ],
   "source": [
    "x = 50 \n",
    "\n",
    "while x < 49:\n",
    "    print(f'The current value of x is {x}')\n",
    "    x +=1 \n",
    "else:\n",
    "    print('X is not lesser than 49')"
   ]
  },
  {
   "cell_type": "markdown",
   "id": "97e915ca",
   "metadata": {},
   "source": [
    "Break, Continue and pass"
   ]
  },
  {
   "cell_type": "code",
   "execution_count": 45,
   "id": "ec304a2d",
   "metadata": {
    "ExecuteTime": {
     "end_time": "2023-12-01T04:12:13.606750Z",
     "start_time": "2023-12-01T04:12:13.592731Z"
    }
   },
   "outputs": [],
   "source": [
    "mylist = [1,2,3,4,5]"
   ]
  },
  {
   "cell_type": "code",
   "execution_count": 46,
   "id": "5d130abc",
   "metadata": {
    "ExecuteTime": {
     "end_time": "2023-12-01T04:12:13.973302Z",
     "start_time": "2023-12-01T04:12:13.955733Z"
    }
   },
   "outputs": [
    {
     "name": "stdout",
     "output_type": "stream",
     "text": [
      "1\n",
      "2\n",
      "3\n",
      "4\n",
      "5\n"
     ]
    }
   ],
   "source": [
    "for num in mylist:\n",
    "    print(num)"
   ]
  },
  {
   "cell_type": "code",
   "execution_count": 56,
   "id": "ef1c1ef5",
   "metadata": {
    "ExecuteTime": {
     "end_time": "2023-12-01T04:16:14.850055Z",
     "start_time": "2023-12-01T04:16:14.832889Z"
    }
   },
   "outputs": [
    {
     "name": "stdout",
     "output_type": "stream",
     "text": [
      "1\n"
     ]
    }
   ],
   "source": [
    "for num in mylist:\n",
    "    if num == 2:\n",
    "        break\n",
    "    print(num)\n",
    "        \n"
   ]
  },
  {
   "cell_type": "code",
   "execution_count": 52,
   "id": "e59be0a6",
   "metadata": {
    "ExecuteTime": {
     "end_time": "2023-12-01T04:14:05.267685Z",
     "start_time": "2023-12-01T04:14:05.250621Z"
    }
   },
   "outputs": [],
   "source": [
    "mystring = 'Sammy'"
   ]
  },
  {
   "cell_type": "code",
   "execution_count": 53,
   "id": "5f090562",
   "metadata": {
    "ExecuteTime": {
     "end_time": "2023-12-01T04:14:50.644150Z",
     "start_time": "2023-12-01T04:14:50.625327Z"
    }
   },
   "outputs": [
    {
     "name": "stdout",
     "output_type": "stream",
     "text": [
      "S\n"
     ]
    }
   ],
   "source": [
    "for letter in mystring:\n",
    "    if letter == 'a':\n",
    "        break\n",
    "    print(letter)"
   ]
  },
  {
   "cell_type": "code",
   "execution_count": 55,
   "id": "f485d56a",
   "metadata": {
    "ExecuteTime": {
     "end_time": "2023-12-01T04:16:06.794075Z",
     "start_time": "2023-12-01T04:16:06.778843Z"
    }
   },
   "outputs": [
    {
     "name": "stdout",
     "output_type": "stream",
     "text": [
      "S\n",
      "m\n",
      "m\n",
      "y\n"
     ]
    }
   ],
   "source": [
    "for letter in mystring:\n",
    "    if letter == 'a':\n",
    "        continue\n",
    "    print(letter)"
   ]
  },
  {
   "cell_type": "code",
   "execution_count": 61,
   "id": "8574b80c",
   "metadata": {
    "ExecuteTime": {
     "end_time": "2023-12-01T04:18:05.766964Z",
     "start_time": "2023-12-01T04:18:05.756987Z"
    }
   },
   "outputs": [
    {
     "name": "stdout",
     "output_type": "stream",
     "text": [
      "end of my script\n"
     ]
    }
   ],
   "source": [
    "for letter in mylist:\n",
    "    #Comment\n",
    "    pass\n",
    "print('end of my script')"
   ]
  },
  {
   "cell_type": "code",
   "execution_count": 63,
   "id": "6d7d210a",
   "metadata": {
    "ExecuteTime": {
     "end_time": "2023-12-01T04:20:53.344362Z",
     "start_time": "2023-12-01T04:20:53.329125Z"
    }
   },
   "outputs": [
    {
     "name": "stdout",
     "output_type": "stream",
     "text": [
      "0\n",
      "1\n"
     ]
    }
   ],
   "source": [
    "x = 0 \n",
    "\n",
    "while x < 5:\n",
    "    if x == 2:\n",
    "        break\n",
    "    print(x)\n",
    "    x +=1"
   ]
  },
  {
   "cell_type": "code",
   "execution_count": null,
   "id": "a3b24012",
   "metadata": {},
   "outputs": [],
   "source": []
  }
 ],
 "metadata": {
  "kernelspec": {
   "display_name": "Python 3 (ipykernel)",
   "language": "python",
   "name": "python3"
  },
  "language_info": {
   "codemirror_mode": {
    "name": "ipython",
    "version": 3
   },
   "file_extension": ".py",
   "mimetype": "text/x-python",
   "name": "python",
   "nbconvert_exporter": "python",
   "pygments_lexer": "ipython3",
   "version": "3.9.7"
  },
  "varInspector": {
   "cols": {
    "lenName": 16,
    "lenType": 16,
    "lenVar": 40
   },
   "kernels_config": {
    "python": {
     "delete_cmd_postfix": "",
     "delete_cmd_prefix": "del ",
     "library": "var_list.py",
     "varRefreshCmd": "print(var_dic_list())"
    },
    "r": {
     "delete_cmd_postfix": ") ",
     "delete_cmd_prefix": "rm(",
     "library": "var_list.r",
     "varRefreshCmd": "cat(var_dic_list()) "
    }
   },
   "types_to_exclude": [
    "module",
    "function",
    "builtin_function_or_method",
    "instance",
    "_Feature"
   ],
   "window_display": false
  }
 },
 "nbformat": 4,
 "nbformat_minor": 5
}
