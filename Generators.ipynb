{
 "cells": [
  {
   "cell_type": "code",
   "execution_count": 2,
   "id": "1a919415",
   "metadata": {
    "ExecuteTime": {
     "end_time": "2023-12-19T06:59:20.682560Z",
     "start_time": "2023-12-19T06:59:20.676397Z"
    }
   },
   "outputs": [],
   "source": [
    "def create_cubes(n):\n",
    "    for x in range(n):\n",
    "        yield x**3"
   ]
  },
  {
   "cell_type": "code",
   "execution_count": 4,
   "id": "d22f521c",
   "metadata": {
    "ExecuteTime": {
     "end_time": "2023-12-19T06:59:38.948409Z",
     "start_time": "2023-12-19T06:59:38.930066Z"
    }
   },
   "outputs": [
    {
     "data": {
      "text/plain": [
       "[0, 1, 8, 27, 64, 125, 216, 343, 512, 729]"
      ]
     },
     "execution_count": 4,
     "metadata": {},
     "output_type": "execute_result"
    }
   ],
   "source": [
    "list(create_cubes(10))"
   ]
  },
  {
   "cell_type": "code",
   "execution_count": 5,
   "id": "1a46420b",
   "metadata": {
    "ExecuteTime": {
     "end_time": "2023-12-19T07:01:16.743764Z",
     "start_time": "2023-12-19T07:01:16.734879Z"
    }
   },
   "outputs": [],
   "source": [
    "def gen_fibon(n):\n",
    "    \n",
    "    a = 1 \n",
    "    b = 1 \n",
    "    for i in range(n):\n",
    "        yield a \n",
    "        a,b = b, a+b"
   ]
  },
  {
   "cell_type": "code",
   "execution_count": 6,
   "id": "01ec9682",
   "metadata": {
    "ExecuteTime": {
     "end_time": "2023-12-19T07:01:31.101266Z",
     "start_time": "2023-12-19T07:01:31.091334Z"
    }
   },
   "outputs": [
    {
     "name": "stdout",
     "output_type": "stream",
     "text": [
      "1\n",
      "1\n",
      "2\n",
      "3\n",
      "5\n",
      "8\n",
      "13\n",
      "21\n",
      "34\n",
      "55\n"
     ]
    }
   ],
   "source": [
    "for num in gen_fibon(10):\n",
    "    print(num)"
   ]
  },
  {
   "cell_type": "code",
   "execution_count": 8,
   "id": "23cde1b5",
   "metadata": {
    "ExecuteTime": {
     "end_time": "2023-12-19T07:03:16.136738Z",
     "start_time": "2023-12-19T07:03:16.128612Z"
    }
   },
   "outputs": [],
   "source": [
    "def simple_gen():\n",
    "    for x in range(3):\n",
    "        yield x "
   ]
  },
  {
   "cell_type": "code",
   "execution_count": 9,
   "id": "826ba03e",
   "metadata": {
    "ExecuteTime": {
     "end_time": "2023-12-19T07:03:34.265633Z",
     "start_time": "2023-12-19T07:03:34.245048Z"
    }
   },
   "outputs": [
    {
     "name": "stdout",
     "output_type": "stream",
     "text": [
      "0\n",
      "1\n",
      "2\n"
     ]
    }
   ],
   "source": [
    "for number in simple_gen():\n",
    "    print(number)"
   ]
  },
  {
   "cell_type": "code",
   "execution_count": 10,
   "id": "567212b1",
   "metadata": {
    "ExecuteTime": {
     "end_time": "2023-12-19T07:03:45.157228Z",
     "start_time": "2023-12-19T07:03:45.149219Z"
    }
   },
   "outputs": [],
   "source": [
    "g = simple_gen()"
   ]
  },
  {
   "cell_type": "code",
   "execution_count": 11,
   "id": "c2f05b48",
   "metadata": {
    "ExecuteTime": {
     "end_time": "2023-12-19T07:03:47.875610Z",
     "start_time": "2023-12-19T07:03:47.871585Z"
    }
   },
   "outputs": [
    {
     "data": {
      "text/plain": [
       "<generator object simple_gen at 0x000001EF3BCF7A50>"
      ]
     },
     "execution_count": 11,
     "metadata": {},
     "output_type": "execute_result"
    }
   ],
   "source": [
    "g"
   ]
  },
  {
   "cell_type": "code",
   "execution_count": 13,
   "id": "ca08c54a",
   "metadata": {
    "ExecuteTime": {
     "end_time": "2023-12-19T07:04:15.980470Z",
     "start_time": "2023-12-19T07:04:15.973621Z"
    }
   },
   "outputs": [
    {
     "name": "stdout",
     "output_type": "stream",
     "text": [
      "0\n"
     ]
    }
   ],
   "source": [
    "print(next(g))"
   ]
  },
  {
   "cell_type": "code",
   "execution_count": 14,
   "id": "e106739a",
   "metadata": {
    "ExecuteTime": {
     "end_time": "2023-12-19T07:04:24.334279Z",
     "start_time": "2023-12-19T07:04:24.326270Z"
    }
   },
   "outputs": [
    {
     "name": "stdout",
     "output_type": "stream",
     "text": [
      "1\n"
     ]
    }
   ],
   "source": [
    "print(next(g))"
   ]
  },
  {
   "cell_type": "code",
   "execution_count": 15,
   "id": "90af9b13",
   "metadata": {
    "ExecuteTime": {
     "end_time": "2023-12-19T07:04:27.986280Z",
     "start_time": "2023-12-19T07:04:27.979182Z"
    }
   },
   "outputs": [
    {
     "name": "stdout",
     "output_type": "stream",
     "text": [
      "2\n"
     ]
    }
   ],
   "source": [
    "print(next(g))"
   ]
  },
  {
   "cell_type": "code",
   "execution_count": 16,
   "id": "0b823a59",
   "metadata": {
    "ExecuteTime": {
     "end_time": "2023-12-19T07:04:29.794738Z",
     "start_time": "2023-12-19T07:04:29.782127Z"
    }
   },
   "outputs": [
    {
     "ename": "StopIteration",
     "evalue": "",
     "output_type": "error",
     "traceback": [
      "\u001b[1;31m---------------------------------------------------------------------------\u001b[0m",
      "\u001b[1;31mStopIteration\u001b[0m                             Traceback (most recent call last)",
      "\u001b[1;32m~\\AppData\\Local\\Temp/ipykernel_14604/2604396719.py\u001b[0m in \u001b[0;36m<module>\u001b[1;34m\u001b[0m\n\u001b[1;32m----> 1\u001b[1;33m \u001b[0mprint\u001b[0m\u001b[1;33m(\u001b[0m\u001b[0mnext\u001b[0m\u001b[1;33m(\u001b[0m\u001b[0mg\u001b[0m\u001b[1;33m)\u001b[0m\u001b[1;33m)\u001b[0m\u001b[1;33m\u001b[0m\u001b[1;33m\u001b[0m\u001b[0m\n\u001b[0m",
      "\u001b[1;31mStopIteration\u001b[0m: "
     ]
    }
   ],
   "source": [
    "print(next(g))"
   ]
  },
  {
   "cell_type": "code",
   "execution_count": 17,
   "id": "a4aad69a",
   "metadata": {
    "ExecuteTime": {
     "end_time": "2023-12-19T07:06:33.813929Z",
     "start_time": "2023-12-19T07:06:33.801509Z"
    }
   },
   "outputs": [],
   "source": [
    "s = 'Hello'"
   ]
  },
  {
   "cell_type": "code",
   "execution_count": 18,
   "id": "20b73ee4",
   "metadata": {
    "ExecuteTime": {
     "end_time": "2023-12-19T07:06:54.057427Z",
     "start_time": "2023-12-19T07:06:54.049417Z"
    }
   },
   "outputs": [
    {
     "name": "stdout",
     "output_type": "stream",
     "text": [
      "H\n",
      "e\n",
      "l\n",
      "l\n",
      "o\n"
     ]
    }
   ],
   "source": [
    "for letter in s:\n",
    "    print(letter)"
   ]
  },
  {
   "cell_type": "code",
   "execution_count": 19,
   "id": "d0cee98d",
   "metadata": {
    "ExecuteTime": {
     "end_time": "2023-12-19T07:07:00.527187Z",
     "start_time": "2023-12-19T07:07:00.483608Z"
    }
   },
   "outputs": [
    {
     "ename": "TypeError",
     "evalue": "'str' object is not an iterator",
     "output_type": "error",
     "traceback": [
      "\u001b[1;31m---------------------------------------------------------------------------\u001b[0m",
      "\u001b[1;31mTypeError\u001b[0m                                 Traceback (most recent call last)",
      "\u001b[1;32m~\\AppData\\Local\\Temp/ipykernel_14604/1977886155.py\u001b[0m in \u001b[0;36m<module>\u001b[1;34m\u001b[0m\n\u001b[1;32m----> 1\u001b[1;33m \u001b[0mnext\u001b[0m\u001b[1;33m(\u001b[0m\u001b[0ms\u001b[0m\u001b[1;33m)\u001b[0m\u001b[1;33m\u001b[0m\u001b[1;33m\u001b[0m\u001b[0m\n\u001b[0m",
      "\u001b[1;31mTypeError\u001b[0m: 'str' object is not an iterator"
     ]
    }
   ],
   "source": [
    "next(s)"
   ]
  },
  {
   "cell_type": "code",
   "execution_count": 20,
   "id": "b8067d5a",
   "metadata": {
    "ExecuteTime": {
     "end_time": "2023-12-19T07:07:12.510779Z",
     "start_time": "2023-12-19T07:07:12.500312Z"
    }
   },
   "outputs": [],
   "source": [
    "s_iter = iter(s)"
   ]
  },
  {
   "cell_type": "code",
   "execution_count": 21,
   "id": "ef62d174",
   "metadata": {
    "ExecuteTime": {
     "end_time": "2023-12-19T07:07:31.556001Z",
     "start_time": "2023-12-19T07:07:31.545111Z"
    }
   },
   "outputs": [
    {
     "data": {
      "text/plain": [
       "'H'"
      ]
     },
     "execution_count": 21,
     "metadata": {},
     "output_type": "execute_result"
    }
   ],
   "source": [
    "next(s_iter)"
   ]
  },
  {
   "cell_type": "code",
   "execution_count": 22,
   "id": "ccc092f9",
   "metadata": {
    "ExecuteTime": {
     "end_time": "2023-12-19T07:07:33.079892Z",
     "start_time": "2023-12-19T07:07:33.065422Z"
    }
   },
   "outputs": [
    {
     "data": {
      "text/plain": [
       "'e'"
      ]
     },
     "execution_count": 22,
     "metadata": {},
     "output_type": "execute_result"
    }
   ],
   "source": [
    "next(s_iter)"
   ]
  },
  {
   "cell_type": "code",
   "execution_count": 23,
   "id": "b077527e",
   "metadata": {
    "ExecuteTime": {
     "end_time": "2023-12-19T07:07:34.246819Z",
     "start_time": "2023-12-19T07:07:34.232798Z"
    }
   },
   "outputs": [
    {
     "data": {
      "text/plain": [
       "'l'"
      ]
     },
     "execution_count": 23,
     "metadata": {},
     "output_type": "execute_result"
    }
   ],
   "source": [
    "next(s_iter)"
   ]
  },
  {
   "cell_type": "code",
   "execution_count": 24,
   "id": "de3ffdcb",
   "metadata": {
    "ExecuteTime": {
     "end_time": "2023-12-19T07:07:35.249277Z",
     "start_time": "2023-12-19T07:07:35.241266Z"
    }
   },
   "outputs": [
    {
     "data": {
      "text/plain": [
       "'l'"
      ]
     },
     "execution_count": 24,
     "metadata": {},
     "output_type": "execute_result"
    }
   ],
   "source": [
    "next(s_iter)"
   ]
  },
  {
   "cell_type": "code",
   "execution_count": 25,
   "id": "ae3d5f5b",
   "metadata": {
    "ExecuteTime": {
     "end_time": "2023-12-19T07:07:37.156968Z",
     "start_time": "2023-12-19T07:07:37.145881Z"
    }
   },
   "outputs": [
    {
     "data": {
      "text/plain": [
       "'o'"
      ]
     },
     "execution_count": 25,
     "metadata": {},
     "output_type": "execute_result"
    }
   ],
   "source": [
    "next(s_iter)"
   ]
  },
  {
   "cell_type": "code",
   "execution_count": 26,
   "id": "b447e636",
   "metadata": {
    "ExecuteTime": {
     "end_time": "2023-12-19T07:07:38.324955Z",
     "start_time": "2023-12-19T07:07:38.313295Z"
    }
   },
   "outputs": [
    {
     "ename": "StopIteration",
     "evalue": "",
     "output_type": "error",
     "traceback": [
      "\u001b[1;31m---------------------------------------------------------------------------\u001b[0m",
      "\u001b[1;31mStopIteration\u001b[0m                             Traceback (most recent call last)",
      "\u001b[1;32m~\\AppData\\Local\\Temp/ipykernel_14604/3318085580.py\u001b[0m in \u001b[0;36m<module>\u001b[1;34m\u001b[0m\n\u001b[1;32m----> 1\u001b[1;33m \u001b[0mnext\u001b[0m\u001b[1;33m(\u001b[0m\u001b[0ms_iter\u001b[0m\u001b[1;33m)\u001b[0m\u001b[1;33m\u001b[0m\u001b[1;33m\u001b[0m\u001b[0m\n\u001b[0m",
      "\u001b[1;31mStopIteration\u001b[0m: "
     ]
    }
   ],
   "source": [
    "next(s_iter)"
   ]
  },
  {
   "cell_type": "code",
   "execution_count": null,
   "id": "904e46eb",
   "metadata": {},
   "outputs": [],
   "source": []
  }
 ],
 "metadata": {
  "kernelspec": {
   "display_name": "Python 3 (ipykernel)",
   "language": "python",
   "name": "python3"
  },
  "language_info": {
   "codemirror_mode": {
    "name": "ipython",
    "version": 3
   },
   "file_extension": ".py",
   "mimetype": "text/x-python",
   "name": "python",
   "nbconvert_exporter": "python",
   "pygments_lexer": "ipython3",
   "version": "3.9.7"
  },
  "varInspector": {
   "cols": {
    "lenName": 16,
    "lenType": 16,
    "lenVar": 40
   },
   "kernels_config": {
    "python": {
     "delete_cmd_postfix": "",
     "delete_cmd_prefix": "del ",
     "library": "var_list.py",
     "varRefreshCmd": "print(var_dic_list())"
    },
    "r": {
     "delete_cmd_postfix": ") ",
     "delete_cmd_prefix": "rm(",
     "library": "var_list.r",
     "varRefreshCmd": "cat(var_dic_list()) "
    }
   },
   "types_to_exclude": [
    "module",
    "function",
    "builtin_function_or_method",
    "instance",
    "_Feature"
   ],
   "window_display": false
  }
 },
 "nbformat": 4,
 "nbformat_minor": 5
}
