{
 "cells": [
  {
   "cell_type": "code",
   "execution_count": 1,
   "id": "c72fe12d",
   "metadata": {
    "ExecuteTime": {
     "end_time": "2023-12-22T01:06:28.771806Z",
     "start_time": "2023-12-22T01:06:28.763984Z"
    }
   },
   "outputs": [],
   "source": [
    "from collections import Counter"
   ]
  },
  {
   "cell_type": "code",
   "execution_count": 2,
   "id": "b4b5ba29",
   "metadata": {
    "ExecuteTime": {
     "end_time": "2023-12-22T01:07:22.529771Z",
     "start_time": "2023-12-22T01:07:22.503978Z"
    }
   },
   "outputs": [],
   "source": [
    "mylist = [1,1,1,1,1,1,2,2,2,2,2,3,3,3,3,3,4,4,4,4,4,4,4]"
   ]
  },
  {
   "cell_type": "code",
   "execution_count": 3,
   "id": "73a27047",
   "metadata": {
    "ExecuteTime": {
     "end_time": "2023-12-22T01:07:50.283345Z",
     "start_time": "2023-12-22T01:07:50.264155Z"
    }
   },
   "outputs": [
    {
     "data": {
      "text/plain": [
       "Counter({1: 6, 2: 5, 3: 5, 4: 7})"
      ]
     },
     "execution_count": 3,
     "metadata": {},
     "output_type": "execute_result"
    }
   ],
   "source": [
    "Counter(mylist)"
   ]
  },
  {
   "cell_type": "code",
   "execution_count": 4,
   "id": "664e54d9",
   "metadata": {
    "ExecuteTime": {
     "end_time": "2023-12-22T01:10:22.814423Z",
     "start_time": "2023-12-22T01:10:22.796417Z"
    }
   },
   "outputs": [],
   "source": [
    "sentence = \"How many times each word show up in this sentence with a word\""
   ]
  },
  {
   "cell_type": "code",
   "execution_count": 5,
   "id": "a9cf49d1",
   "metadata": {
    "ExecuteTime": {
     "end_time": "2023-12-22T01:10:30.465498Z",
     "start_time": "2023-12-22T01:10:30.457154Z"
    }
   },
   "outputs": [
    {
     "data": {
      "text/plain": [
       "['How',\n",
       " 'many',\n",
       " 'times',\n",
       " 'each',\n",
       " 'word',\n",
       " 'show',\n",
       " 'up',\n",
       " 'in',\n",
       " 'this',\n",
       " 'sentence',\n",
       " 'with',\n",
       " 'a',\n",
       " 'word']"
      ]
     },
     "execution_count": 5,
     "metadata": {},
     "output_type": "execute_result"
    }
   ],
   "source": [
    "sentence.split()"
   ]
  },
  {
   "cell_type": "code",
   "execution_count": 7,
   "id": "cec90a0f",
   "metadata": {
    "ExecuteTime": {
     "end_time": "2023-12-22T01:10:58.582130Z",
     "start_time": "2023-12-22T01:10:58.574610Z"
    }
   },
   "outputs": [
    {
     "data": {
      "text/plain": [
       "Counter({'How': 1,\n",
       "         'many': 1,\n",
       "         'times': 1,\n",
       "         'each': 1,\n",
       "         'word': 2,\n",
       "         'show': 1,\n",
       "         'up': 1,\n",
       "         'in': 1,\n",
       "         'this': 1,\n",
       "         'sentence': 1,\n",
       "         'with': 1,\n",
       "         'a': 1})"
      ]
     },
     "execution_count": 7,
     "metadata": {},
     "output_type": "execute_result"
    }
   ],
   "source": [
    "Counter(sentence.split())"
   ]
  },
  {
   "cell_type": "code",
   "execution_count": 8,
   "id": "24e98a5f",
   "metadata": {
    "ExecuteTime": {
     "end_time": "2023-12-22T01:11:31.422830Z",
     "start_time": "2023-12-22T01:11:31.406696Z"
    }
   },
   "outputs": [
    {
     "data": {
      "text/plain": [
       "Counter({'how': 1,\n",
       "         'many': 1,\n",
       "         'times': 1,\n",
       "         'each': 1,\n",
       "         'word': 2,\n",
       "         'show': 1,\n",
       "         'up': 1,\n",
       "         'in': 1,\n",
       "         'this': 1,\n",
       "         'sentence': 1,\n",
       "         'with': 1,\n",
       "         'a': 1})"
      ]
     },
     "execution_count": 8,
     "metadata": {},
     "output_type": "execute_result"
    }
   ],
   "source": [
    "Counter(sentence.lower().split())"
   ]
  },
  {
   "cell_type": "code",
   "execution_count": 9,
   "id": "c2a35104",
   "metadata": {
    "ExecuteTime": {
     "end_time": "2023-12-22T01:13:32.256918Z",
     "start_time": "2023-12-22T01:13:32.244575Z"
    }
   },
   "outputs": [],
   "source": [
    "letters = 'aaaabbbbbbccccccccccdddddddddddd'"
   ]
  },
  {
   "cell_type": "code",
   "execution_count": 10,
   "id": "380c5dd5",
   "metadata": {
    "ExecuteTime": {
     "end_time": "2023-12-22T01:13:57.104393Z",
     "start_time": "2023-12-22T01:13:57.097679Z"
    }
   },
   "outputs": [],
   "source": [
    "c= Counter(letters)"
   ]
  },
  {
   "cell_type": "code",
   "execution_count": 11,
   "id": "a874ee48",
   "metadata": {
    "ExecuteTime": {
     "end_time": "2023-12-22T01:13:58.777721Z",
     "start_time": "2023-12-22T01:13:58.763016Z"
    }
   },
   "outputs": [
    {
     "data": {
      "text/plain": [
       "Counter({'a': 4, 'b': 6, 'c': 10, 'd': 12})"
      ]
     },
     "execution_count": 11,
     "metadata": {},
     "output_type": "execute_result"
    }
   ],
   "source": [
    "c"
   ]
  },
  {
   "cell_type": "code",
   "execution_count": 12,
   "id": "544516a8",
   "metadata": {
    "ExecuteTime": {
     "end_time": "2023-12-22T01:14:07.219737Z",
     "start_time": "2023-12-22T01:14:07.198708Z"
    }
   },
   "outputs": [
    {
     "data": {
      "text/plain": [
       "[('d', 12), ('c', 10), ('b', 6), ('a', 4)]"
      ]
     },
     "execution_count": 12,
     "metadata": {},
     "output_type": "execute_result"
    }
   ],
   "source": [
    "c.most_common()"
   ]
  },
  {
   "cell_type": "code",
   "execution_count": 13,
   "id": "6ba142b2",
   "metadata": {
    "ExecuteTime": {
     "end_time": "2023-12-22T01:14:14.382055Z",
     "start_time": "2023-12-22T01:14:14.362258Z"
    }
   },
   "outputs": [
    {
     "data": {
      "text/plain": [
       "[('d', 12), ('c', 10)]"
      ]
     },
     "execution_count": 13,
     "metadata": {},
     "output_type": "execute_result"
    }
   ],
   "source": [
    "c.most_common(2)"
   ]
  },
  {
   "cell_type": "code",
   "execution_count": 14,
   "id": "88f29fdd",
   "metadata": {
    "ExecuteTime": {
     "end_time": "2023-12-22T01:14:34.611922Z",
     "start_time": "2023-12-22T01:14:34.592792Z"
    }
   },
   "outputs": [
    {
     "data": {
      "text/plain": [
       "['a', 'b', 'c', 'd']"
      ]
     },
     "execution_count": 14,
     "metadata": {},
     "output_type": "execute_result"
    }
   ],
   "source": [
    "list(c)"
   ]
  },
  {
   "cell_type": "code",
   "execution_count": 15,
   "id": "dbfd8ecc",
   "metadata": {
    "ExecuteTime": {
     "end_time": "2023-12-22T01:15:01.575631Z",
     "start_time": "2023-12-22T01:15:01.563311Z"
    }
   },
   "outputs": [],
   "source": [
    "from collections import defaultdict"
   ]
  },
  {
   "cell_type": "code",
   "execution_count": 16,
   "id": "cd8669f8",
   "metadata": {
    "ExecuteTime": {
     "end_time": "2023-12-22T01:17:59.894846Z",
     "start_time": "2023-12-22T01:17:59.885060Z"
    }
   },
   "outputs": [],
   "source": [
    "d = defaultdict(lambda: 0)"
   ]
  },
  {
   "cell_type": "code",
   "execution_count": 17,
   "id": "cec39b91",
   "metadata": {
    "ExecuteTime": {
     "end_time": "2023-12-22T01:18:16.675266Z",
     "start_time": "2023-12-22T01:18:16.662967Z"
    }
   },
   "outputs": [],
   "source": [
    "d['correct'] = 150"
   ]
  },
  {
   "cell_type": "code",
   "execution_count": 18,
   "id": "c63e189b",
   "metadata": {
    "ExecuteTime": {
     "end_time": "2023-12-22T01:18:21.893793Z",
     "start_time": "2023-12-22T01:18:21.880157Z"
    }
   },
   "outputs": [
    {
     "data": {
      "text/plain": [
       "150"
      ]
     },
     "execution_count": 18,
     "metadata": {},
     "output_type": "execute_result"
    }
   ],
   "source": [
    "d['correct']"
   ]
  },
  {
   "cell_type": "code",
   "execution_count": 19,
   "id": "8343fb86",
   "metadata": {
    "ExecuteTime": {
     "end_time": "2023-12-22T01:18:35.843182Z",
     "start_time": "2023-12-22T01:18:35.828211Z"
    }
   },
   "outputs": [
    {
     "data": {
      "text/plain": [
       "0"
      ]
     },
     "execution_count": 19,
     "metadata": {},
     "output_type": "execute_result"
    }
   ],
   "source": [
    "d['Wrong key!']"
   ]
  },
  {
   "cell_type": "code",
   "execution_count": 20,
   "id": "c080cdd7",
   "metadata": {
    "ExecuteTime": {
     "end_time": "2023-12-22T01:18:44.943480Z",
     "start_time": "2023-12-22T01:18:44.932552Z"
    }
   },
   "outputs": [
    {
     "data": {
      "text/plain": [
       "defaultdict(<function __main__.<lambda>()>, {'correct': 150, 'Wrong key!': 0})"
      ]
     },
     "execution_count": 20,
     "metadata": {},
     "output_type": "execute_result"
    }
   ],
   "source": [
    "d"
   ]
  },
  {
   "cell_type": "code",
   "execution_count": 21,
   "id": "59f01943",
   "metadata": {
    "ExecuteTime": {
     "end_time": "2023-12-22T01:19:32.913793Z",
     "start_time": "2023-12-22T01:19:32.905601Z"
    }
   },
   "outputs": [],
   "source": [
    "mytuple = (10,20,30)"
   ]
  },
  {
   "cell_type": "code",
   "execution_count": 22,
   "id": "1cd95cbc",
   "metadata": {
    "ExecuteTime": {
     "end_time": "2023-12-22T01:19:38.347310Z",
     "start_time": "2023-12-22T01:19:38.339312Z"
    }
   },
   "outputs": [
    {
     "data": {
      "text/plain": [
       "10"
      ]
     },
     "execution_count": 22,
     "metadata": {},
     "output_type": "execute_result"
    }
   ],
   "source": [
    "mytuple[0]"
   ]
  },
  {
   "cell_type": "code",
   "execution_count": 23,
   "id": "e9f5b466",
   "metadata": {
    "ExecuteTime": {
     "end_time": "2023-12-22T01:20:19.326808Z",
     "start_time": "2023-12-22T01:20:19.304451Z"
    }
   },
   "outputs": [],
   "source": [
    "from collections import namedtuple"
   ]
  },
  {
   "cell_type": "code",
   "execution_count": 28,
   "id": "c56d063e",
   "metadata": {
    "ExecuteTime": {
     "end_time": "2023-12-22T01:24:02.461351Z",
     "start_time": "2023-12-22T01:24:02.442208Z"
    }
   },
   "outputs": [],
   "source": [
    "Dog = namedtuple('Dog',['age','breed','name'])"
   ]
  },
  {
   "cell_type": "code",
   "execution_count": 29,
   "id": "52367225",
   "metadata": {
    "ExecuteTime": {
     "end_time": "2023-12-22T01:24:02.876092Z",
     "start_time": "2023-12-22T01:24:02.870358Z"
    }
   },
   "outputs": [],
   "source": [
    "sammy = Dog(age = 5, breed= 'Husky', name = 'Sam')"
   ]
  },
  {
   "cell_type": "code",
   "execution_count": 30,
   "id": "a60479b9",
   "metadata": {
    "ExecuteTime": {
     "end_time": "2023-12-22T01:24:10.364197Z",
     "start_time": "2023-12-22T01:24:10.341177Z"
    }
   },
   "outputs": [
    {
     "data": {
      "text/plain": [
       "__main__.Dog"
      ]
     },
     "execution_count": 30,
     "metadata": {},
     "output_type": "execute_result"
    }
   ],
   "source": [
    "type(sammy)"
   ]
  },
  {
   "cell_type": "code",
   "execution_count": 31,
   "id": "1eb95927",
   "metadata": {
    "ExecuteTime": {
     "end_time": "2023-12-22T01:24:24.177096Z",
     "start_time": "2023-12-22T01:24:24.160224Z"
    }
   },
   "outputs": [
    {
     "data": {
      "text/plain": [
       "Dog(age=5, breed='Husky', name='Sam')"
      ]
     },
     "execution_count": 31,
     "metadata": {},
     "output_type": "execute_result"
    }
   ],
   "source": [
    "sammy"
   ]
  },
  {
   "cell_type": "code",
   "execution_count": 32,
   "id": "eaf3c1d8",
   "metadata": {
    "ExecuteTime": {
     "end_time": "2023-12-22T01:24:59.742045Z",
     "start_time": "2023-12-22T01:24:59.733667Z"
    }
   },
   "outputs": [
    {
     "data": {
      "text/plain": [
       "5"
      ]
     },
     "execution_count": 32,
     "metadata": {},
     "output_type": "execute_result"
    }
   ],
   "source": [
    "sammy.age"
   ]
  },
  {
   "cell_type": "code",
   "execution_count": 33,
   "id": "0aec6683",
   "metadata": {
    "ExecuteTime": {
     "end_time": "2023-12-22T01:25:06.044784Z",
     "start_time": "2023-12-22T01:25:06.030353Z"
    }
   },
   "outputs": [
    {
     "data": {
      "text/plain": [
       "'Husky'"
      ]
     },
     "execution_count": 33,
     "metadata": {},
     "output_type": "execute_result"
    }
   ],
   "source": [
    "sammy.breed"
   ]
  },
  {
   "cell_type": "code",
   "execution_count": 34,
   "id": "5933ab57",
   "metadata": {
    "ExecuteTime": {
     "end_time": "2023-12-22T01:25:14.137076Z",
     "start_time": "2023-12-22T01:25:14.125848Z"
    }
   },
   "outputs": [
    {
     "data": {
      "text/plain": [
       "'Sam'"
      ]
     },
     "execution_count": 34,
     "metadata": {},
     "output_type": "execute_result"
    }
   ],
   "source": [
    "sammy.name"
   ]
  },
  {
   "cell_type": "code",
   "execution_count": null,
   "id": "7feed092",
   "metadata": {},
   "outputs": [],
   "source": []
  }
 ],
 "metadata": {
  "kernelspec": {
   "display_name": "Python 3 (ipykernel)",
   "language": "python",
   "name": "python3"
  },
  "language_info": {
   "codemirror_mode": {
    "name": "ipython",
    "version": 3
   },
   "file_extension": ".py",
   "mimetype": "text/x-python",
   "name": "python",
   "nbconvert_exporter": "python",
   "pygments_lexer": "ipython3",
   "version": "3.9.7"
  },
  "varInspector": {
   "cols": {
    "lenName": 16,
    "lenType": 16,
    "lenVar": 40
   },
   "kernels_config": {
    "python": {
     "delete_cmd_postfix": "",
     "delete_cmd_prefix": "del ",
     "library": "var_list.py",
     "varRefreshCmd": "print(var_dic_list())"
    },
    "r": {
     "delete_cmd_postfix": ") ",
     "delete_cmd_prefix": "rm(",
     "library": "var_list.r",
     "varRefreshCmd": "cat(var_dic_list()) "
    }
   },
   "types_to_exclude": [
    "module",
    "function",
    "builtin_function_or_method",
    "instance",
    "_Feature"
   ],
   "window_display": false
  }
 },
 "nbformat": 4,
 "nbformat_minor": 5
}
