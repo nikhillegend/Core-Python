{
 "cells": [
  {
   "cell_type": "code",
   "execution_count": 1,
   "id": "117132b2",
   "metadata": {
    "ExecuteTime": {
     "end_time": "2023-11-14T11:27:04.818464Z",
     "start_time": "2023-11-14T11:27:04.793892Z"
    }
   },
   "outputs": [
    {
     "data": {
      "text/plain": [
       "[1, 2, 3, 5, 4]"
      ]
     },
     "execution_count": 1,
     "metadata": {},
     "output_type": "execute_result"
    }
   ],
   "source": [
    "mylist = [1,2,3,5,4]\n",
    "mylist"
   ]
  },
  {
   "cell_type": "code",
   "execution_count": 2,
   "id": "4b4e1250",
   "metadata": {
    "ExecuteTime": {
     "end_time": "2023-11-14T11:27:21.413155Z",
     "start_time": "2023-11-14T11:27:21.403361Z"
    }
   },
   "outputs": [],
   "source": [
    "mylist1 = mylist"
   ]
  },
  {
   "cell_type": "code",
   "execution_count": 3,
   "id": "df775f27",
   "metadata": {
    "ExecuteTime": {
     "end_time": "2023-11-14T11:27:25.594043Z",
     "start_time": "2023-11-14T11:27:25.576979Z"
    }
   },
   "outputs": [
    {
     "data": {
      "text/plain": [
       "[1, 2, 3, 5, 4]"
      ]
     },
     "execution_count": 3,
     "metadata": {},
     "output_type": "execute_result"
    }
   ],
   "source": [
    "mylist1"
   ]
  },
  {
   "cell_type": "code",
   "execution_count": 4,
   "id": "c074c89e",
   "metadata": {
    "ExecuteTime": {
     "end_time": "2023-11-14T11:27:35.227990Z",
     "start_time": "2023-11-14T11:27:35.204613Z"
    }
   },
   "outputs": [
    {
     "data": {
      "text/plain": [
       "2"
      ]
     },
     "execution_count": 4,
     "metadata": {},
     "output_type": "execute_result"
    }
   ],
   "source": [
    "mylist1[1]"
   ]
  },
  {
   "cell_type": "code",
   "execution_count": 5,
   "id": "671fdbf6",
   "metadata": {
    "ExecuteTime": {
     "end_time": "2023-11-14T11:27:42.728758Z",
     "start_time": "2023-11-14T11:27:42.718131Z"
    }
   },
   "outputs": [
    {
     "data": {
      "text/plain": [
       "2"
      ]
     },
     "execution_count": 5,
     "metadata": {},
     "output_type": "execute_result"
    }
   ],
   "source": [
    "mylist1[-4]"
   ]
  },
  {
   "cell_type": "code",
   "execution_count": 6,
   "id": "aaa89e0f",
   "metadata": {
    "ExecuteTime": {
     "end_time": "2023-11-14T11:27:54.475893Z",
     "start_time": "2023-11-14T11:27:54.458256Z"
    }
   },
   "outputs": [
    {
     "data": {
      "text/plain": [
       "[1, 2, 3, 5, 4]"
      ]
     },
     "execution_count": 6,
     "metadata": {},
     "output_type": "execute_result"
    }
   ],
   "source": [
    "mylist1[::1]"
   ]
  },
  {
   "cell_type": "code",
   "execution_count": 9,
   "id": "38640477",
   "metadata": {
    "ExecuteTime": {
     "end_time": "2023-11-14T11:28:46.508148Z",
     "start_time": "2023-11-14T11:28:46.494812Z"
    }
   },
   "outputs": [],
   "source": [
    "mylist1.append(6)"
   ]
  },
  {
   "cell_type": "code",
   "execution_count": 10,
   "id": "ca0f5fd9",
   "metadata": {
    "ExecuteTime": {
     "end_time": "2023-11-14T11:28:51.750391Z",
     "start_time": "2023-11-14T11:28:51.734871Z"
    }
   },
   "outputs": [
    {
     "data": {
      "text/plain": [
       "[1, 2, 3, 5, 4, 6]"
      ]
     },
     "execution_count": 10,
     "metadata": {},
     "output_type": "execute_result"
    }
   ],
   "source": [
    "mylist1"
   ]
  },
  {
   "cell_type": "code",
   "execution_count": 11,
   "id": "63277966",
   "metadata": {
    "ExecuteTime": {
     "end_time": "2023-11-14T11:29:04.819515Z",
     "start_time": "2023-11-14T11:29:04.814329Z"
    }
   },
   "outputs": [
    {
     "data": {
      "text/plain": [
       "6"
      ]
     },
     "execution_count": 11,
     "metadata": {},
     "output_type": "execute_result"
    }
   ],
   "source": [
    "mylist1.pop()"
   ]
  },
  {
   "cell_type": "code",
   "execution_count": 12,
   "id": "eb93f84f",
   "metadata": {
    "ExecuteTime": {
     "end_time": "2023-11-14T11:29:37.997082Z",
     "start_time": "2023-11-14T11:29:37.983435Z"
    }
   },
   "outputs": [],
   "source": [
    "mylist1.reverse()"
   ]
  },
  {
   "cell_type": "code",
   "execution_count": 13,
   "id": "861701b8",
   "metadata": {
    "ExecuteTime": {
     "end_time": "2023-11-14T11:29:42.546916Z",
     "start_time": "2023-11-14T11:29:42.529460Z"
    }
   },
   "outputs": [
    {
     "data": {
      "text/plain": [
       "[4, 5, 3, 2, 1]"
      ]
     },
     "execution_count": 13,
     "metadata": {},
     "output_type": "execute_result"
    }
   ],
   "source": [
    "mylist1"
   ]
  },
  {
   "cell_type": "code",
   "execution_count": 15,
   "id": "11132556",
   "metadata": {
    "ExecuteTime": {
     "end_time": "2023-11-14T11:30:06.676332Z",
     "start_time": "2023-11-14T11:30:06.657880Z"
    }
   },
   "outputs": [],
   "source": [
    "mylist1.remove(5)"
   ]
  },
  {
   "cell_type": "code",
   "execution_count": 16,
   "id": "50181dce",
   "metadata": {
    "ExecuteTime": {
     "end_time": "2023-11-14T11:30:12.929220Z",
     "start_time": "2023-11-14T11:30:12.915335Z"
    }
   },
   "outputs": [
    {
     "data": {
      "text/plain": [
       "[4, 3, 2, 1]"
      ]
     },
     "execution_count": 16,
     "metadata": {},
     "output_type": "execute_result"
    }
   ],
   "source": [
    "mylist1"
   ]
  },
  {
   "cell_type": "code",
   "execution_count": 17,
   "id": "2b00dd06",
   "metadata": {
    "ExecuteTime": {
     "end_time": "2023-11-14T11:30:30.609633Z",
     "start_time": "2023-11-14T11:30:30.602230Z"
    }
   },
   "outputs": [],
   "source": [
    "mylist1.append(5)"
   ]
  },
  {
   "cell_type": "code",
   "execution_count": 18,
   "id": "046ccfa4",
   "metadata": {
    "ExecuteTime": {
     "end_time": "2023-11-14T11:30:35.993581Z",
     "start_time": "2023-11-14T11:30:35.984461Z"
    }
   },
   "outputs": [
    {
     "data": {
      "text/plain": [
       "[4, 3, 2, 1, 5]"
      ]
     },
     "execution_count": 18,
     "metadata": {},
     "output_type": "execute_result"
    }
   ],
   "source": [
    "mylist1"
   ]
  },
  {
   "cell_type": "code",
   "execution_count": 19,
   "id": "9c47f0e4",
   "metadata": {
    "ExecuteTime": {
     "end_time": "2023-11-14T11:30:48.434731Z",
     "start_time": "2023-11-14T11:30:48.421552Z"
    }
   },
   "outputs": [],
   "source": [
    "mylist1.reverse()"
   ]
  },
  {
   "cell_type": "code",
   "execution_count": 20,
   "id": "6547aad5",
   "metadata": {
    "ExecuteTime": {
     "end_time": "2023-11-14T11:30:54.358865Z",
     "start_time": "2023-11-14T11:30:54.336575Z"
    }
   },
   "outputs": [
    {
     "data": {
      "text/plain": [
       "[5, 1, 2, 3, 4]"
      ]
     },
     "execution_count": 20,
     "metadata": {},
     "output_type": "execute_result"
    }
   ],
   "source": [
    "mylist1"
   ]
  },
  {
   "cell_type": "code",
   "execution_count": 21,
   "id": "172d5075",
   "metadata": {
    "ExecuteTime": {
     "end_time": "2023-11-14T11:31:11.857770Z",
     "start_time": "2023-11-14T11:31:11.850335Z"
    }
   },
   "outputs": [],
   "source": [
    "mylist1.sort()"
   ]
  },
  {
   "cell_type": "code",
   "execution_count": 23,
   "id": "5d22abd3",
   "metadata": {
    "ExecuteTime": {
     "end_time": "2023-11-14T11:31:20.581459Z",
     "start_time": "2023-11-14T11:31:20.571815Z"
    }
   },
   "outputs": [
    {
     "data": {
      "text/plain": [
       "[1, 2, 3, 4, 5]"
      ]
     },
     "execution_count": 23,
     "metadata": {},
     "output_type": "execute_result"
    }
   ],
   "source": [
    "mylist1"
   ]
  },
  {
   "cell_type": "markdown",
   "id": "fc84decb",
   "metadata": {},
   "source": [
    "Nested listing"
   ]
  },
  {
   "cell_type": "code",
   "execution_count": 24,
   "id": "f788eabd",
   "metadata": {
    "ExecuteTime": {
     "end_time": "2023-11-14T11:32:34.250652Z",
     "start_time": "2023-11-14T11:32:34.234642Z"
    }
   },
   "outputs": [],
   "source": [
    "a = [1,2,3]\n",
    "b = [4,5,6]\n",
    "c = [7,8,9]"
   ]
  },
  {
   "cell_type": "code",
   "execution_count": 25,
   "id": "457680af",
   "metadata": {
    "ExecuteTime": {
     "end_time": "2023-11-14T11:33:04.812320Z",
     "start_time": "2023-11-14T11:33:04.809469Z"
    }
   },
   "outputs": [],
   "source": [
    "matrix = [a,b,c]"
   ]
  },
  {
   "cell_type": "code",
   "execution_count": 26,
   "id": "77abf305",
   "metadata": {
    "ExecuteTime": {
     "end_time": "2023-11-14T11:33:08.216350Z",
     "start_time": "2023-11-14T11:33:08.199658Z"
    }
   },
   "outputs": [
    {
     "data": {
      "text/plain": [
       "[[1, 2, 3], [4, 5, 6], [7, 8, 9]]"
      ]
     },
     "execution_count": 26,
     "metadata": {},
     "output_type": "execute_result"
    }
   ],
   "source": [
    "matrix"
   ]
  },
  {
   "cell_type": "code",
   "execution_count": 27,
   "id": "fbd27df0",
   "metadata": {
    "ExecuteTime": {
     "end_time": "2023-11-14T11:33:40.152949Z",
     "start_time": "2023-11-14T11:33:40.138913Z"
    }
   },
   "outputs": [
    {
     "data": {
      "text/plain": [
       "[1, 2, 3]"
      ]
     },
     "execution_count": 27,
     "metadata": {},
     "output_type": "execute_result"
    }
   ],
   "source": [
    "matrix[0]"
   ]
  },
  {
   "cell_type": "code",
   "execution_count": 28,
   "id": "187dbe3a",
   "metadata": {
    "ExecuteTime": {
     "end_time": "2023-11-14T11:33:49.036519Z",
     "start_time": "2023-11-14T11:33:49.014706Z"
    }
   },
   "outputs": [
    {
     "data": {
      "text/plain": [
       "1"
      ]
     },
     "execution_count": 28,
     "metadata": {},
     "output_type": "execute_result"
    }
   ],
   "source": [
    "matrix[0][0]"
   ]
  },
  {
   "cell_type": "code",
   "execution_count": 29,
   "id": "8030dcf4",
   "metadata": {
    "ExecuteTime": {
     "end_time": "2023-11-14T11:34:18.693672Z",
     "start_time": "2023-11-14T11:34:18.676854Z"
    }
   },
   "outputs": [
    {
     "data": {
      "text/plain": [
       "9"
      ]
     },
     "execution_count": 29,
     "metadata": {},
     "output_type": "execute_result"
    }
   ],
   "source": [
    "matrix[2][2]"
   ]
  },
  {
   "cell_type": "code",
   "execution_count": null,
   "id": "a3fbafd6",
   "metadata": {},
   "outputs": [],
   "source": []
  }
 ],
 "metadata": {
  "kernelspec": {
   "display_name": "Python 3 (ipykernel)",
   "language": "python",
   "name": "python3"
  },
  "language_info": {
   "codemirror_mode": {
    "name": "ipython",
    "version": 3
   },
   "file_extension": ".py",
   "mimetype": "text/x-python",
   "name": "python",
   "nbconvert_exporter": "python",
   "pygments_lexer": "ipython3",
   "version": "3.9.7"
  },
  "varInspector": {
   "cols": {
    "lenName": 16,
    "lenType": 16,
    "lenVar": 40
   },
   "kernels_config": {
    "python": {
     "delete_cmd_postfix": "",
     "delete_cmd_prefix": "del ",
     "library": "var_list.py",
     "varRefreshCmd": "print(var_dic_list())"
    },
    "r": {
     "delete_cmd_postfix": ") ",
     "delete_cmd_prefix": "rm(",
     "library": "var_list.r",
     "varRefreshCmd": "cat(var_dic_list()) "
    }
   },
   "types_to_exclude": [
    "module",
    "function",
    "builtin_function_or_method",
    "instance",
    "_Feature"
   ],
   "window_display": false
  }
 },
 "nbformat": 4,
 "nbformat_minor": 5
}
