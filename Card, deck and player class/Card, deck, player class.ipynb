{
 "cells": [
  {
   "cell_type": "code",
   "execution_count": 1,
   "id": "a7c5df57",
   "metadata": {
    "ExecuteTime": {
     "end_time": "2024-01-07T13:24:34.595617Z",
     "start_time": "2024-01-07T13:24:34.584397Z"
    }
   },
   "outputs": [],
   "source": [
    "import random\n",
    "suits = ('Hearts', 'Diamonds', 'Spades', 'Clubs')\n",
    "ranks = ('Two', 'Three', 'Four', 'Five', 'Six', 'Seven', 'Eight', 'Nine', 'Ten', 'Jack', 'Queen', 'King', 'Ace')\n",
    "values = {'Two':2, 'Three':3, 'Four':4, 'Five':5, 'Six':6, 'Seven':7, 'Eight':8, 'Nine':9, 'Ten':10, 'Jack':10,\n",
    "         'Queen':10, 'King':10, 'Ace':11}\n",
    "\n",
    "playing = True"
   ]
  },
  {
   "cell_type": "code",
   "execution_count": 2,
   "id": "6ba540e5",
   "metadata": {
    "ExecuteTime": {
     "end_time": "2024-01-07T13:24:35.052210Z",
     "start_time": "2024-01-07T13:24:35.040192Z"
    }
   },
   "outputs": [],
   "source": [
    "class Card:\n",
    "\n",
    "    def __init__(self,suit,rank):\n",
    "        self.suit = suit\n",
    "        self.rank = rank\n",
    "        \n",
    "    def __str__(self):\n",
    "        return self.rank + ' of ' + self.suit"
   ]
  },
  {
   "cell_type": "code",
   "execution_count": 3,
   "id": "75fdbec0",
   "metadata": {
    "ExecuteTime": {
     "end_time": "2024-01-07T13:24:35.437788Z",
     "start_time": "2024-01-07T13:24:35.429836Z"
    }
   },
   "outputs": [],
   "source": [
    "class Deck:\n",
    "    \n",
    "    def __init__(self):\n",
    "        self.deck = []  # start with an empty list\n",
    "        for suit in suits:\n",
    "            for rank in ranks:\n",
    "                self.deck.append(Card(suit,rank))  # build Card objects and add them to the list\n",
    "    \n",
    "    def __str__(self):\n",
    "        deck_comp = ''  # start with an empty string\n",
    "        for card in self.deck:\n",
    "            deck_comp += '\\n '+card.__str__() # add each Card object's print string\n",
    "        return 'The deck has:' + deck_comp\n",
    "\n",
    "    def shuffle(self):\n",
    "        random.shuffle(self.deck)\n",
    "        \n",
    "    def deal(self):\n",
    "        single_card = self.deck.pop()\n",
    "        return single_card"
   ]
  },
  {
   "cell_type": "code",
   "execution_count": 4,
   "id": "f887cd99",
   "metadata": {
    "ExecuteTime": {
     "end_time": "2024-01-07T13:24:36.123469Z",
     "start_time": "2024-01-07T13:24:36.109234Z"
    }
   },
   "outputs": [
    {
     "name": "stdout",
     "output_type": "stream",
     "text": [
      "The deck has:\n",
      " Two of Hearts\n",
      " Three of Hearts\n",
      " Four of Hearts\n",
      " Five of Hearts\n",
      " Six of Hearts\n",
      " Seven of Hearts\n",
      " Eight of Hearts\n",
      " Nine of Hearts\n",
      " Ten of Hearts\n",
      " Jack of Hearts\n",
      " Queen of Hearts\n",
      " King of Hearts\n",
      " Ace of Hearts\n",
      " Two of Diamonds\n",
      " Three of Diamonds\n",
      " Four of Diamonds\n",
      " Five of Diamonds\n",
      " Six of Diamonds\n",
      " Seven of Diamonds\n",
      " Eight of Diamonds\n",
      " Nine of Diamonds\n",
      " Ten of Diamonds\n",
      " Jack of Diamonds\n",
      " Queen of Diamonds\n",
      " King of Diamonds\n",
      " Ace of Diamonds\n",
      " Two of Spades\n",
      " Three of Spades\n",
      " Four of Spades\n",
      " Five of Spades\n",
      " Six of Spades\n",
      " Seven of Spades\n",
      " Eight of Spades\n",
      " Nine of Spades\n",
      " Ten of Spades\n",
      " Jack of Spades\n",
      " Queen of Spades\n",
      " King of Spades\n",
      " Ace of Spades\n",
      " Two of Clubs\n",
      " Three of Clubs\n",
      " Four of Clubs\n",
      " Five of Clubs\n",
      " Six of Clubs\n",
      " Seven of Clubs\n",
      " Eight of Clubs\n",
      " Nine of Clubs\n",
      " Ten of Clubs\n",
      " Jack of Clubs\n",
      " Queen of Clubs\n",
      " King of Clubs\n",
      " Ace of Clubs\n"
     ]
    }
   ],
   "source": [
    "test_deck = Deck()\n",
    "print(test_deck)"
   ]
  },
  {
   "cell_type": "code",
   "execution_count": 5,
   "id": "a33238a2",
   "metadata": {
    "ExecuteTime": {
     "end_time": "2024-01-07T13:24:36.652656Z",
     "start_time": "2024-01-07T13:24:36.640323Z"
    }
   },
   "outputs": [],
   "source": [
    "class Hand:\n",
    "    def __init__(self):\n",
    "        self.cards = [] # Start with an empty list as we did in the deck class\n",
    "        self.value = 0 # Start with zero value\n",
    "        self.aces = 0 # add an attribute to keep track of aces\n",
    "        \n",
    "    def add_card(self,card):\n",
    "        self.cards.append(card)\n",
    "        self.value += values[card.rank]\n",
    "        \n",
    "    def adjust_for_ace(self):\n",
    "        while self.value > 21 and self.aces > 0:\n",
    "            self.value -= 10\n",
    "            self.aces -= 1 "
   ]
  },
  {
   "cell_type": "code",
   "execution_count": 6,
   "id": "805c0f51",
   "metadata": {
    "ExecuteTime": {
     "end_time": "2024-01-07T13:24:37.118656Z",
     "start_time": "2024-01-07T13:24:37.106549Z"
    }
   },
   "outputs": [
    {
     "name": "stdout",
     "output_type": "stream",
     "text": [
      "Nine of Diamonds\n",
      "9\n"
     ]
    }
   ],
   "source": [
    "test_deck = Deck()\n",
    "test_deck.shuffle()\n",
    "\n",
    "#Player\n",
    "test_player = Hand()\n",
    "pulled_card = test_deck.deal()\n",
    "print(pulled_card)\n",
    "test_player.add_card(pulled_card)\n",
    "print(test_player.value)"
   ]
  },
  {
   "cell_type": "code",
   "execution_count": 7,
   "id": "25350746",
   "metadata": {
    "ExecuteTime": {
     "end_time": "2024-01-07T13:24:37.505439Z",
     "start_time": "2024-01-07T13:24:37.497285Z"
    }
   },
   "outputs": [],
   "source": [
    "class Chips:\n",
    "    def __init__(self,total = 100):\n",
    "        self.total = total\n",
    "        self.bet = 0\n",
    "    \n",
    "    def lose_bet(self):\n",
    "        self.total -= self.bet"
   ]
  },
  {
   "cell_type": "code",
   "execution_count": 8,
   "id": "cd411646",
   "metadata": {
    "ExecuteTime": {
     "end_time": "2024-01-07T13:24:37.894042Z",
     "start_time": "2024-01-07T13:24:37.876460Z"
    }
   },
   "outputs": [],
   "source": [
    "def take_bet(chips):\n",
    "    \n",
    "    while True:\n",
    "        \n",
    "        try:\n",
    "            chips.bet = int(input('How many chips would you like to bet? '))\n",
    "        except:\n",
    "            print('Sorry, a bet must be an integer!')\n",
    "        else:\n",
    "            if chips.bet > chips.total:\n",
    "                print(\"Sorry, you do not have enough chips! You have: {}\".format(chips.total))\n",
    "            else:\n",
    "                break\n",
    "    "
   ]
  },
  {
   "cell_type": "code",
   "execution_count": 9,
   "id": "33fc8e1a",
   "metadata": {
    "ExecuteTime": {
     "end_time": "2024-01-07T13:24:38.253105Z",
     "start_time": "2024-01-07T13:24:38.241805Z"
    }
   },
   "outputs": [],
   "source": [
    "def hit(deck,hand):\n",
    "    \n",
    "    single_card = deck.deal()\n",
    "    hand.add_card(single_card)\n",
    "    hand.adjust_for_ace()"
   ]
  },
  {
   "cell_type": "code",
   "execution_count": 10,
   "id": "5b8958a1",
   "metadata": {
    "ExecuteTime": {
     "end_time": "2024-01-07T13:24:38.594995Z",
     "start_time": "2024-01-07T13:24:38.580903Z"
    }
   },
   "outputs": [],
   "source": [
    "def hit_or_stand(deck,hand):\n",
    "    global playing\n",
    "    \n",
    "    while True:\n",
    "        x = input('Hit or stand? Enter h or s')\n",
    "        \n",
    "        if x[0].lower()=='h':\n",
    "            hit(deck,hand)\n",
    "            \n",
    "        elif x[0].lower() == 's':\n",
    "            print(\"Player Stands Dealer's Turn\")\n",
    "            playing = False\n",
    "            \n",
    "        else:\n",
    "            print(\"Sorry, I did not understand that, please enter h or s only!\")\n",
    "            continue\n",
    "            \n",
    "        break"
   ]
  },
  {
   "cell_type": "code",
   "execution_count": 11,
   "id": "2d259056",
   "metadata": {
    "ExecuteTime": {
     "end_time": "2024-01-07T13:24:38.921699Z",
     "start_time": "2024-01-07T13:24:38.909699Z"
    }
   },
   "outputs": [],
   "source": [
    "def Show_some(player,dealer):\n",
    "    print(\"\\n Dealer's Hand: \")\n",
    "    print(\"First card hidden\")\n",
    "    print(dealer.cards[1])\n",
    "    print(\"\\n Player's Hand\")\n",
    "    for card in player.cards:\n",
    "        print(card)\n",
    "        \n",
    "def Show_all(player,dealer):\n",
    "    print(\"\\n Dealer's Hand\")\n",
    "    for card in dealer.cards:\n",
    "        print(card)\n",
    "        \n",
    "    print(f\"Value of Dealer's hand is: {dealer.value}\")\n",
    "        \n",
    "#ahow all the players cards        \n",
    "    print(\"\\n Player's Hand\")\n",
    "    for card in player.cards:\n",
    "        print(card)\n",
    "    print(f\"Value of Player's hand is: {player.value}\")\n",
    "        "
   ]
  },
  {
   "cell_type": "code",
   "execution_count": 12,
   "id": "c5bf7aca",
   "metadata": {
    "ExecuteTime": {
     "end_time": "2024-01-07T13:24:39.262837Z",
     "start_time": "2024-01-07T13:24:39.251697Z"
    }
   },
   "outputs": [],
   "source": [
    "def player_busts(player,dealer,chips):\n",
    "    print(\"Bust Player!\")\n",
    "    chips.lose_bet()\n",
    "\n",
    "def player_wins(player,dealer,chips):\n",
    "    print(\"Player Wins!\")\n",
    "    chips.win_bet()\n",
    "\n",
    "def player_busts(player,dealer,chips):\n",
    "    print('Player Wins! Dealer Busted!')\n",
    "    chips.win_bet()\n",
    "\n",
    "def dealer_wins(player,dealer,chips):\n",
    "    print(\"Dealer Wins!\")\n",
    "    chips.lose_bet()\n",
    "\n",
    "def push(player,dealer):\n",
    "    print('Dealer and player tie! Push')\n",
    "    \n",
    "\n"
   ]
  },
  {
   "cell_type": "code",
   "execution_count": 13,
   "id": "a4cc3ee7",
   "metadata": {
    "ExecuteTime": {
     "end_time": "2024-01-07T13:24:55.127478Z",
     "start_time": "2024-01-07T13:24:39.546618Z"
    }
   },
   "outputs": [
    {
     "name": "stdout",
     "output_type": "stream",
     "text": [
      "WELCOME TO BLACKJACK\n",
      "How many chips would you like to bet? \n",
      "Sorry, a bet must be an integer!\n",
      "How many chips would you like to bet? 4\n",
      "\n",
      " Dealer's Hand: \n",
      "First card hidden\n",
      "King of Hearts\n",
      "\n",
      " Player's Hand\n",
      "Queen of Diamonds\n",
      "Four of Hearts\n",
      "Hit or stand? Enter h or ss\n",
      "Player Stands Dealer's Turn\n",
      "\n",
      " Dealer's Hand: \n",
      "First card hidden\n",
      "King of Hearts\n",
      "\n",
      " Player's Hand\n",
      "Queen of Diamonds\n",
      "Four of Hearts\n",
      "\n",
      " Player total chips are at: 100\n",
      "Would you like to play another hand? y/n n\n",
      "Thanks for playing!\n"
     ]
    }
   ],
   "source": [
    "while True:\n",
    "    \n",
    "    print(\"WELCOME TO BLACKJACK\")\n",
    "    deck = Deck()\n",
    "    deck.shuffle()\n",
    "    \n",
    "    player_hand = Hand()\n",
    "    player_hand.add_card(deck.deal())\n",
    "    player_hand.add_card(deck.deal())\n",
    "    \n",
    "    dealer_hand = Hand()\n",
    "    dealer_hand.add_card(deck.deal())\n",
    "    dealer_hand.add_card(deck.deal())\n",
    "    \n",
    "    #set up the Player's chips\n",
    "    player_chips = Chips()\n",
    "    \n",
    "    #Prompt the player for their bet\n",
    "    take_bet(player_chips)\n",
    "    \n",
    "    #Show card (but keep on dealer card hidden)\n",
    "    Show_some(player_hand,dealer_hand)\n",
    "    \n",
    "    while playing:\n",
    "        #prompt for player to hit or stand\n",
    "        hit_or_stand(deck,player_hand)\n",
    "        \n",
    "        #show cards\n",
    "        Show_some(player_hand,dealer_hand)\n",
    "        \n",
    "        if player_hand.value > 21:\n",
    "            player_busts(player_hand,dealer_hand.player_chips)\n",
    "            break\n",
    "            \n",
    "    if player_hand.value > 21:\n",
    "        \n",
    "        while dealer_hand.value < player_hand.value:\n",
    "            hit(deck,dealer_hand)    \n",
    "    \n",
    "        # Show all cards\n",
    "        Show_all(player_hand,dealer_hand)\n",
    "        \n",
    "        # Run different winning scenarios\n",
    "        if dealer_hand.value > 21:\n",
    "            dealer_busts(player_hand,dealer_hand,player_chips)\n",
    "\n",
    "        elif dealer_hand.value > player_hand.value:\n",
    "            dealer_wins(player_hand,dealer_hand,player_chips)\n",
    "\n",
    "        elif dealer_hand.value < player_hand.value:\n",
    "            player_wins(player_hand,dealer_hand,player_chips)\n",
    "\n",
    "        else:\n",
    "            push(player_hand,dealer_hand)    \n",
    "            \n",
    "            \n",
    "     # Inform Player of their chips total \n",
    "    print('\\n Player total chips are at: {}'.format(player_chips.total))\n",
    "    \n",
    "    # Ask to play again\n",
    "    new_game = input(\"Would you like to play another hand? y/n \")\n",
    "    \n",
    "    if new_game[0].lower()=='y':\n",
    "        playing=True\n",
    "        continue\n",
    "    else:\n",
    "        print(\"Thanks for playing!\")\n",
    "        break\n",
    "    "
   ]
  },
  {
   "cell_type": "code",
   "execution_count": null,
   "id": "b74a3014",
   "metadata": {
    "ExecuteTime": {
     "start_time": "2024-01-07T13:25:00.237Z"
    }
   },
   "outputs": [
    {
     "name": "stdout",
     "output_type": "stream",
     "text": [
      "Welcome to BlackJack! Get as close to 21 as you can without going over!\n",
      "    Dealer hits until she reaches 17. Aces count as 1 or 11.\n"
     ]
    }
   ],
   "source": [
    "while True:\n",
    "    # Print an opening statement\n",
    "    print('Welcome to BlackJack! Get as close to 21 as you can without going over!\\n\\\n",
    "    Dealer hits until she reaches 17. Aces count as 1 or 11.')\n",
    "    \n",
    "    # Create & shuffle the deck, deal two cards to each player\n",
    "    deck = Deck()\n",
    "    deck.shuffle()\n",
    "    \n",
    "    player_hand = Hand()\n",
    "    player_hand.add_card(deck.deal())\n",
    "    player_hand.add_card(deck.deal())\n",
    "    \n",
    "    dealer_hand = Hand()\n",
    "    dealer_hand.add_card(deck.deal())\n",
    "    dealer_hand.add_card(deck.deal())\n",
    "            \n",
    "    # Set up the Player's chips\n",
    "    player_chips = Chips()  # remember the default value is 100    \n",
    "    \n",
    "    # Prompt the Player for their bet\n",
    "    take_bet(player_chips)\n",
    "    \n",
    "    # Show cards (but keep one dealer card hidden)\n",
    "    show_some(player_hand,dealer_hand)\n",
    "    \n",
    "    while playing:  # recall this variable from our hit_or_stand function\n",
    "        \n",
    "        # Prompt for Player to Hit or Stand\n",
    "        hit_or_stand(deck,player_hand) \n",
    "        \n",
    "        # Show cards (but keep one dealer card hidden)\n",
    "        show_some(player_hand,dealer_hand)  \n",
    "        \n",
    "        # If player's hand exceeds 21, run player_busts() and break out of loop\n",
    "        if player_hand.value > 21:\n",
    "            player_busts(player_hand,dealer_hand,player_chips)\n",
    "            break        \n",
    "\n",
    "\n",
    "    # If Player hasn't busted, play Dealer's hand until Dealer reaches 17 \n",
    "    if player_hand.value <= 21:\n",
    "        \n",
    "        while dealer_hand.value < 17:\n",
    "            hit(deck,dealer_hand)    \n",
    "    \n",
    "        # Show all cards\n",
    "        show_all(player_hand,dealer_hand)\n",
    "        \n",
    "        # Run different winning scenarios\n",
    "        if dealer_hand.value > 21:\n",
    "            dealer_busts(player_hand,dealer_hand,player_chips)\n",
    "\n",
    "        elif dealer_hand.value > player_hand.value:\n",
    "            dealer_wins(player_hand,dealer_hand,player_chips)\n",
    "\n",
    "        elif dealer_hand.value < player_hand.value:\n",
    "            player_wins(player_hand,dealer_hand,player_chips)\n",
    "\n",
    "        else:\n",
    "            push(player_hand,dealer_hand)        \n",
    "    \n",
    "    # Inform Player of their chips total \n",
    "    print(\"\\nPlayer's winnings stand at\",player_chips.total)\n",
    "    \n",
    "    # Ask to play again\n",
    "    new_game = input(\"Would you like to play another hand? Enter 'y' or 'n' \")\n",
    "    \n",
    "    if new_game[0].lower()=='y':\n",
    "        playing=True\n",
    "        continue\n",
    "    else:\n",
    "        print(\"Thanks for playing!\")\n",
    "        break"
   ]
  },
  {
   "cell_type": "code",
   "execution_count": null,
   "id": "6283e5cb",
   "metadata": {},
   "outputs": [],
   "source": []
  }
 ],
 "metadata": {
  "kernelspec": {
   "display_name": "Python 3 (ipykernel)",
   "language": "python",
   "name": "python3"
  },
  "language_info": {
   "codemirror_mode": {
    "name": "ipython",
    "version": 3
   },
   "file_extension": ".py",
   "mimetype": "text/x-python",
   "name": "python",
   "nbconvert_exporter": "python",
   "pygments_lexer": "ipython3",
   "version": "3.9.7"
  },
  "varInspector": {
   "cols": {
    "lenName": 16,
    "lenType": 16,
    "lenVar": 40
   },
   "kernels_config": {
    "python": {
     "delete_cmd_postfix": "",
     "delete_cmd_prefix": "del ",
     "library": "var_list.py",
     "varRefreshCmd": "print(var_dic_list())"
    },
    "r": {
     "delete_cmd_postfix": ") ",
     "delete_cmd_prefix": "rm(",
     "library": "var_list.r",
     "varRefreshCmd": "cat(var_dic_list()) "
    }
   },
   "types_to_exclude": [
    "module",
    "function",
    "builtin_function_or_method",
    "instance",
    "_Feature"
   ],
   "window_display": false
  }
 },
 "nbformat": 4,
 "nbformat_minor": 5
}
